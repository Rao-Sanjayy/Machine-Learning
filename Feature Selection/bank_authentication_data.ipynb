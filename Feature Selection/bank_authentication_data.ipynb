{
 "cells": [
  {
   "cell_type": "markdown",
   "metadata": {
    "id": "GiGytX_PNMQA"
   },
   "source": [
    "# Feature Selection Techniques\n",
    "\n",
    "*   Author: Sanjay S Rao\n",
    "*   LinkedIn: https://www.linkedin.com/in/sanjay-srinivasa-rao-b67a771a0/\n",
    "*   e-mail - sanjay.s.rao04@gmail.com"
   ]
  },
  {
   "cell_type": "markdown",
   "metadata": {
    "id": "XkJFZXrSNXfU"
   },
   "source": [
    "**Description:**\n",
    "\n",
    " **Bank Note Authentication UCI data** \n",
    "\n",
    "Data were extracted from images that were taken from genuine and forged banknote-like specimens. For digitization, an industrial camera usually used for print inspection was used. The final images have 400x 400 pixels. Due to the object lens and distance to the investigated object gray-scale pictures with a resolution of about 660 dpi were gained. Wavelet Transform tool were used to extract features from images.\n",
    "\n",
    "**Attribute Information:**\n",
    "1. variance of Wavelet Transformed image (continuous) \n",
    "2. skewness of Wavelet Transformed image (continuous) \n",
    "3. curtosis of Wavelet Transformed image (continuous) \n",
    "4. entropy of image (continuous) \n",
    "5. class (integer) It can only have two values: 0 (authentic) or 1 (inauthentic)\n"
   ]
  },
  {
   "cell_type": "code",
   "execution_count": 1,
   "metadata": {
    "id": "N2HLMWQ7D1eJ"
   },
   "outputs": [],
   "source": [
    "import pandas as pd\n",
    "import numpy as np\n",
    "import matplotlib.pyplot as plt\n",
    "import seaborn as sns"
   ]
  },
  {
   "cell_type": "code",
   "execution_count": 2,
   "metadata": {
    "colab": {
     "base_uri": "https://localhost:8080/",
     "height": 206
    },
    "id": "b2J5KqxzE9Vn",
    "outputId": "89a53d80-7477-4761-95d7-9ce42f6cb3e9"
   },
   "outputs": [
    {
     "data": {
      "text/html": [
       "<div>\n",
       "<style scoped>\n",
       "    .dataframe tbody tr th:only-of-type {\n",
       "        vertical-align: middle;\n",
       "    }\n",
       "\n",
       "    .dataframe tbody tr th {\n",
       "        vertical-align: top;\n",
       "    }\n",
       "\n",
       "    .dataframe thead th {\n",
       "        text-align: right;\n",
       "    }\n",
       "</style>\n",
       "<table border=\"1\" class=\"dataframe\">\n",
       "  <thead>\n",
       "    <tr style=\"text-align: right;\">\n",
       "      <th></th>\n",
       "      <th>variance</th>\n",
       "      <th>skewness</th>\n",
       "      <th>curtosis</th>\n",
       "      <th>entropy</th>\n",
       "      <th>class</th>\n",
       "    </tr>\n",
       "  </thead>\n",
       "  <tbody>\n",
       "    <tr>\n",
       "      <th>0</th>\n",
       "      <td>3.62160</td>\n",
       "      <td>8.6661</td>\n",
       "      <td>-2.8073</td>\n",
       "      <td>-0.44699</td>\n",
       "      <td>0</td>\n",
       "    </tr>\n",
       "    <tr>\n",
       "      <th>1</th>\n",
       "      <td>4.54590</td>\n",
       "      <td>8.1674</td>\n",
       "      <td>-2.4586</td>\n",
       "      <td>-1.46210</td>\n",
       "      <td>0</td>\n",
       "    </tr>\n",
       "    <tr>\n",
       "      <th>2</th>\n",
       "      <td>3.86600</td>\n",
       "      <td>-2.6383</td>\n",
       "      <td>1.9242</td>\n",
       "      <td>0.10645</td>\n",
       "      <td>0</td>\n",
       "    </tr>\n",
       "    <tr>\n",
       "      <th>3</th>\n",
       "      <td>3.45660</td>\n",
       "      <td>9.5228</td>\n",
       "      <td>-4.0112</td>\n",
       "      <td>-3.59440</td>\n",
       "      <td>0</td>\n",
       "    </tr>\n",
       "    <tr>\n",
       "      <th>4</th>\n",
       "      <td>0.32924</td>\n",
       "      <td>-4.4552</td>\n",
       "      <td>4.5718</td>\n",
       "      <td>-0.98880</td>\n",
       "      <td>0</td>\n",
       "    </tr>\n",
       "  </tbody>\n",
       "</table>\n",
       "</div>"
      ],
      "text/plain": [
       "   variance  skewness  curtosis  entropy  class\n",
       "0   3.62160    8.6661   -2.8073 -0.44699      0\n",
       "1   4.54590    8.1674   -2.4586 -1.46210      0\n",
       "2   3.86600   -2.6383    1.9242  0.10645      0\n",
       "3   3.45660    9.5228   -4.0112 -3.59440      0\n",
       "4   0.32924   -4.4552    4.5718 -0.98880      0"
      ]
     },
     "execution_count": 2,
     "metadata": {},
     "output_type": "execute_result"
    }
   ],
   "source": [
    "df = pd.read_csv('BankNote_Authentication.csv')\n",
    "df.head()"
   ]
  },
  {
   "cell_type": "code",
   "execution_count": 3,
   "metadata": {
    "colab": {
     "base_uri": "https://localhost:8080/"
    },
    "id": "5wCWct2gFDBi",
    "outputId": "5be43986-f41b-4764-c74b-4863951015f1"
   },
   "outputs": [
    {
     "data": {
      "text/plain": [
       "(1372, 5)"
      ]
     },
     "execution_count": 3,
     "metadata": {},
     "output_type": "execute_result"
    }
   ],
   "source": [
    "#checking the dimension of the dataset\n",
    "df.shape"
   ]
  },
  {
   "cell_type": "code",
   "execution_count": 4,
   "metadata": {
    "colab": {
     "base_uri": "https://localhost:8080/"
    },
    "id": "RGol7RvdFMUb",
    "outputId": "e50aaaee-a313-465b-dec5-85d84c9f5544"
   },
   "outputs": [
    {
     "data": {
      "text/plain": [
       "0    762\n",
       "1    610\n",
       "Name: class, dtype: int64"
      ]
     },
     "execution_count": 4,
     "metadata": {},
     "output_type": "execute_result"
    }
   ],
   "source": [
    "#count of the categorical values\n",
    "df[\"class\"].value_counts()"
   ]
  },
  {
   "cell_type": "code",
   "execution_count": 5,
   "metadata": {
    "colab": {
     "base_uri": "https://localhost:8080/"
    },
    "id": "a9g3JaEaNyoE",
    "outputId": "266cae41-dceb-47a5-acab-79438be6c5a3"
   },
   "outputs": [
    {
     "data": {
      "text/plain": [
       "variance    0\n",
       "skewness    0\n",
       "curtosis    0\n",
       "entropy     0\n",
       "class       0\n",
       "dtype: int64"
      ]
     },
     "execution_count": 5,
     "metadata": {},
     "output_type": "execute_result"
    }
   ],
   "source": [
    "#Checking for missing values\n",
    "df.isna().sum()"
   ]
  },
  {
   "cell_type": "code",
   "execution_count": 6,
   "metadata": {
    "id": "9txpQvKwFSIZ"
   },
   "outputs": [],
   "source": [
    "X = df.drop(columns = ['class'],axis = 1) #independent variables\n",
    "y = df[\"class\"] #target variable"
   ]
  },
  {
   "cell_type": "code",
   "execution_count": 7,
   "metadata": {
    "colab": {
     "base_uri": "https://localhost:8080/",
     "height": 206
    },
    "id": "JARF2duEFhGS",
    "outputId": "6fa33b65-ddfe-487d-ded4-9b2856013a45"
   },
   "outputs": [
    {
     "data": {
      "text/html": [
       "<div>\n",
       "<style scoped>\n",
       "    .dataframe tbody tr th:only-of-type {\n",
       "        vertical-align: middle;\n",
       "    }\n",
       "\n",
       "    .dataframe tbody tr th {\n",
       "        vertical-align: top;\n",
       "    }\n",
       "\n",
       "    .dataframe thead th {\n",
       "        text-align: right;\n",
       "    }\n",
       "</style>\n",
       "<table border=\"1\" class=\"dataframe\">\n",
       "  <thead>\n",
       "    <tr style=\"text-align: right;\">\n",
       "      <th></th>\n",
       "      <th>variance</th>\n",
       "      <th>skewness</th>\n",
       "      <th>curtosis</th>\n",
       "      <th>entropy</th>\n",
       "    </tr>\n",
       "  </thead>\n",
       "  <tbody>\n",
       "    <tr>\n",
       "      <th>0</th>\n",
       "      <td>3.62160</td>\n",
       "      <td>8.6661</td>\n",
       "      <td>-2.8073</td>\n",
       "      <td>-0.44699</td>\n",
       "    </tr>\n",
       "    <tr>\n",
       "      <th>1</th>\n",
       "      <td>4.54590</td>\n",
       "      <td>8.1674</td>\n",
       "      <td>-2.4586</td>\n",
       "      <td>-1.46210</td>\n",
       "    </tr>\n",
       "    <tr>\n",
       "      <th>2</th>\n",
       "      <td>3.86600</td>\n",
       "      <td>-2.6383</td>\n",
       "      <td>1.9242</td>\n",
       "      <td>0.10645</td>\n",
       "    </tr>\n",
       "    <tr>\n",
       "      <th>3</th>\n",
       "      <td>3.45660</td>\n",
       "      <td>9.5228</td>\n",
       "      <td>-4.0112</td>\n",
       "      <td>-3.59440</td>\n",
       "    </tr>\n",
       "    <tr>\n",
       "      <th>4</th>\n",
       "      <td>0.32924</td>\n",
       "      <td>-4.4552</td>\n",
       "      <td>4.5718</td>\n",
       "      <td>-0.98880</td>\n",
       "    </tr>\n",
       "  </tbody>\n",
       "</table>\n",
       "</div>"
      ],
      "text/plain": [
       "   variance  skewness  curtosis  entropy\n",
       "0   3.62160    8.6661   -2.8073 -0.44699\n",
       "1   4.54590    8.1674   -2.4586 -1.46210\n",
       "2   3.86600   -2.6383    1.9242  0.10645\n",
       "3   3.45660    9.5228   -4.0112 -3.59440\n",
       "4   0.32924   -4.4552    4.5718 -0.98880"
      ]
     },
     "execution_count": 7,
     "metadata": {},
     "output_type": "execute_result"
    }
   ],
   "source": [
    "X.head()"
   ]
  },
  {
   "cell_type": "code",
   "execution_count": 8,
   "metadata": {
    "colab": {
     "base_uri": "https://localhost:8080/"
    },
    "id": "wGfpvZ95F_IX",
    "outputId": "207a3deb-a397-4c4d-cbca-cc8ee96ae01d"
   },
   "outputs": [
    {
     "data": {
      "text/plain": [
       "0    0\n",
       "1    0\n",
       "2    0\n",
       "3    0\n",
       "4    0\n",
       "Name: class, dtype: int64"
      ]
     },
     "execution_count": 8,
     "metadata": {},
     "output_type": "execute_result"
    }
   ],
   "source": [
    "y.head()"
   ]
  },
  {
   "cell_type": "markdown",
   "metadata": {
    "id": "TfxA9bYgIgMo"
   },
   "source": [
    "### Entropy based Feature Selection\n",
    "\n",
    "*sklearn.feature_selection.mutual_info_classif*\n",
    "\n",
    "**Mutual information (MI)** between two random variables is a non-negative value, which measures the dependency between the variables. It is equal to zero if and only if two random variables are independent, and higher values mean higher dependency."
   ]
  },
  {
   "cell_type": "code",
   "execution_count": 9,
   "metadata": {
    "colab": {
     "base_uri": "https://localhost:8080/"
    },
    "id": "xVdLyojwGAa1",
    "outputId": "ed1937b2-db19-4b1f-e68a-0131753d092b"
   },
   "outputs": [
    {
     "name": "stdout",
     "output_type": "stream",
     "text": [
      "[0.37796729 0.22742119 0.12327663 0.01673816]\n"
     ]
    }
   ],
   "source": [
    "from sklearn.feature_selection import mutual_info_classif as MIC\n",
    "mi_score = MIC(X,y)\n",
    "print(mi_score)"
   ]
  },
  {
   "cell_type": "code",
   "execution_count": 10,
   "metadata": {
    "id": "Mh-uJHDKGQCp"
   },
   "outputs": [],
   "source": [
    "from sklearn.model_selection import train_test_split as tts\n",
    "X_train1, X_test1, y_train, y_test = tts(X,y,random_state = 2, stratify=y)"
   ]
  },
  {
   "cell_type": "code",
   "execution_count": 11,
   "metadata": {
    "id": "iOPgF6W3Ggrd"
   },
   "outputs": [],
   "source": [
    "#Dataset 2 with features having MI Scores > 0.2\n",
    "mi_score_selected_index = np.where(mi_score > 0.2)[0]\n",
    "X_2 = X.iloc[:,mi_score_selected_index]\n",
    "X_train2, X_test2, y_train, y_test = tts(X_2,y,random_state = 2, stratify=y)"
   ]
  },
  {
   "cell_type": "code",
   "execution_count": 12,
   "metadata": {
    "id": "n9mFsYOGHFgX"
   },
   "outputs": [],
   "source": [
    "#Dataset 3 with features having MI Scores < 0.2\n",
    "mi_score_selected_index = np.where(mi_score < 0.2)[0]\n",
    "X_3 = X.iloc[:,mi_score_selected_index]\n",
    "X_train3, X_test3, y_train, y_test = tts(X_3,y,random_state = 2, stratify=y)"
   ]
  },
  {
   "cell_type": "code",
   "execution_count": 13,
   "metadata": {
    "colab": {
     "base_uri": "https://localhost:8080/"
    },
    "id": "TtM3vOlLHLWn",
    "outputId": "871a19fe-d35d-44e9-993e-23817a9e2722"
   },
   "outputs": [
    {
     "name": "stdout",
     "output_type": "stream",
     "text": [
      "Score 1 : 0.9737609329446064\n",
      "Score 2 : 0.9212827988338192\n",
      "Score 3 : 0.6880466472303207\n"
     ]
    }
   ],
   "source": [
    "#Comparing the 3 datsets with the help of Decision Tree Classifier\n",
    "from sklearn.tree import DecisionTreeClassifier as DTC\n",
    "model_1 = DTC().fit(X_train1,y_train)\n",
    "model_2 = DTC().fit(X_train2,y_train)\n",
    "model_3 = DTC().fit(X_train3,y_train)\n",
    "score_1 = model_1.score(X_test1,y_test)\n",
    "score_2 = model_2.score(X_test2,y_test)\n",
    "score_3 = model_3.score(X_test3,y_test)\n",
    "print(f\"Score 1 : {score_1}\\nScore 2 : {score_2}\\nScore 3 : {score_3}\")"
   ]
  },
  {
   "cell_type": "markdown",
   "metadata": {
    "id": "SQilHklfICI3"
   },
   "source": [
    "From the aboce scores, we can see that there is 92% accuracy in the model with features having MI Score > 0.2\n",
    "The original model shows an accuracy of 97% but it is mostly overfitting the model.\n",
    "Hence we choose the model with 2 features having MI Score > 0.2"
   ]
  },
  {
   "cell_type": "markdown",
   "metadata": {
    "id": "O_eRVDKMIbkg"
   },
   "source": [
    "### Feature Selection based on Filtering Correlation"
   ]
  },
  {
   "cell_type": "code",
   "execution_count": 17,
   "metadata": {
    "colab": {
     "base_uri": "https://localhost:8080/"
    },
    "id": "rdc_KDEgH4n-",
    "outputId": "60308912-19d8-4f77-bf27-c213bf8e40e3"
   },
   "outputs": [],
   "source": [
    "import statsmodels.api as sm \n",
    "from sklearn.linear_model import LinearRegression \n",
    "from sklearn.feature_selection import RFE \n",
    "from sklearn.linear_model import RidgeCV, LassoCV, Ridge, Lasso"
   ]
  },
  {
   "cell_type": "code",
   "execution_count": 15,
   "metadata": {
    "colab": {
     "base_uri": "https://localhost:8080/",
     "height": 596
    },
    "id": "_1SRLjOoJAcO",
    "outputId": "ec125942-eda8-4e41-b40f-2ddfce0f19ee"
   },
   "outputs": [
    {
     "data": {
      "image/png": "[encoded data removed]",
      "text/plain": [
       "<Figure size 864x720 with 2 Axes>"
      ]
     },
     "metadata": {
      "needs_background": "light"
     },
     "output_type": "display_data"
    }
   ],
   "source": [
    "#Using Pearson Correlation\n",
    "plt.figure(figsize=(12,10))\n",
    "cor = df.corr()\n",
    "sns.heatmap(cor, annot=True, cmap=plt.cm.Reds)\n",
    "plt.show()"
   ]
  },
  {
   "cell_type": "code",
   "execution_count": 16,
   "metadata": {
    "colab": {
     "base_uri": "https://localhost:8080/"
    },
    "id": "dX1EyaKmJv8y",
    "outputId": "10cc0704-c0f1-45bd-8c52-64d19f11ff72"
   },
   "outputs": [
    {
     "name": "stdout",
     "output_type": "stream",
     "text": [
      "cor_target \n",
      " variance    0.724843\n",
      "skewness    0.444688\n",
      "curtosis    0.155883\n",
      "entropy     0.023424\n",
      "class       1.000000\n",
      "Name: class, dtype: float64\n",
      "\n",
      "\n",
      "relevant_features \n",
      " variance    0.724843\n",
      "skewness    0.444688\n",
      "class       1.000000\n",
      "Name: class, dtype: float64\n"
     ]
    }
   ],
   "source": [
    "#Correlation with output variable\n",
    "cor_target = abs(cor[\"class\"])\n",
    "\n",
    "#Selecting highly correlated features\n",
    "print(\"cor_target \\n\", cor_target)\n",
    "print(\"\\n\")\n",
    "relevant_features = cor_target[cor_target>0.4]\n",
    "print(\"relevant_features \\n\", relevant_features)"
   ]
  },
  {
   "cell_type": "markdown",
   "metadata": {
    "id": "TXiMKdfrKcgq"
   },
   "source": [
    "### Model based feature selection"
   ]
  },
  {
   "cell_type": "code",
   "execution_count": 18,
   "metadata": {
    "colab": {
     "base_uri": "https://localhost:8080/"
    },
    "id": "Uat8X_juJv6O",
    "outputId": "9a090f95-94d5-471d-a63f-fb8b5bde7a6d"
   },
   "outputs": [
    {
     "name": "stdout",
     "output_type": "stream",
     "text": [
      "[ True False  True False]\n",
      "[1 2 1 3]\n"
     ]
    }
   ],
   "source": [
    "### Forward Elimination\n",
    "model = LinearRegression()\n",
    "#Initializing Recurrsive Feature Elimination (RFE) model\n",
    "rfe = RFE(model)\n",
    "#Transforming data using RFE\n",
    "X_rfe = rfe.fit_transform(X,y)\n",
    "#Fitting the data to model\n",
    "model.fit(X_rfe,y)\n",
    "print(rfe.support_)\n",
    "print(rfe.ranking_)"
   ]
  },
  {
   "cell_type": "code",
   "execution_count": 19,
   "metadata": {
    "colab": {
     "base_uri": "https://localhost:8080/"
    },
    "id": "mHXpq6G1Jvzi",
    "outputId": "921a5767-9d02-40c6-8fb9-a095991bc646"
   },
   "outputs": [
    {
     "name": "stdout",
     "output_type": "stream",
     "text": [
      "Optimum number of features: 9\n",
      "Score with 9 features: 0.877262\n"
     ]
    }
   ],
   "source": [
    "### RFE: Recurrsive Feature Elimination\n",
    "#no of features\n",
    "nof_list=np.arange(1,13)\n",
    "high_score=0\n",
    "#Variable to store the optimum features\n",
    "nof=0\n",
    "score_list =[]\n",
    "for n in range(len(nof_list)):\n",
    "  X_train, X_test, y_train, y_test = tts(X,y, test_size = 0.3)\n",
    "  model = LinearRegression()\n",
    "  rfe = RFE(model,n_features_to_select = nof_list[n])\n",
    "  X_train_rfe = rfe.fit_transform(X_train,y_train)\n",
    "  X_test_rfe = rfe.transform(X_test)\n",
    "  model.fit(X_train_rfe,y_train)\n",
    "  score = model.score(X_test_rfe,y_test)\n",
    "  score_list.append(score)\n",
    "  if(score>high_score):\n",
    "    high_score = score\n",
    "    nof = nof_list[n]\n",
    "print(\"Optimum number of features: %d\" %nof)\n",
    "print(\"Score with %d features: %f\" % (nof, high_score))"
   ]
  },
  {
   "cell_type": "code",
   "execution_count": 21,
   "metadata": {
    "colab": {
     "base_uri": "https://localhost:8080/"
    },
    "id": "yb05eWArK3jN",
    "outputId": "95f4264b-95d7-472e-82ba-7345a804365c"
   },
   "outputs": [
    {
     "data": {
      "text/plain": [
       "const        0.000000e+00\n",
       "variance     0.000000e+00\n",
       "skewness    2.147287e-308\n",
       "curtosis     0.000000e+00\n",
       "entropy      8.039308e-01\n",
       "dtype: float64"
      ]
     },
     "execution_count": 21,
     "metadata": {},
     "output_type": "execute_result"
    }
   ],
   "source": [
    "### Backward Elimination\n",
    "#Adding constant column of ones, mandatory for sm.OLS model\n",
    "X_1 = sm.add_constant(X)\n",
    "#Fitting sm.OLS model\n",
    "model = sm.OLS(y,X_1).fit()\n",
    "model.pvalues"
   ]
  },
  {
   "cell_type": "code",
   "execution_count": 22,
   "metadata": {
    "colab": {
     "base_uri": "https://localhost:8080/"
    },
    "id": "okzVzSCqM1TP",
    "outputId": "3264c4ce-f3eb-4e6c-8684-7361864e5c6d"
   },
   "outputs": [
    {
     "name": "stdout",
     "output_type": "stream",
     "text": [
      "Index(['variance', 'skewness', 'curtosis', 'entropy'], dtype='object')\n"
     ]
    }
   ],
   "source": [
    "### Getting the details about final selected features\n",
    "cols = list(X.columns)\n",
    "model = LinearRegression()\n",
    "#Initializing RFE model\n",
    "rfe = RFE(model,n_features_to_select = 10)\n",
    "#Transforming data using RFE\n",
    "X_rfe = rfe.fit_transform(X,y)\n",
    "#Fitting the data to model\n",
    "model.fit(X_rfe,y)\n",
    "temp = pd.Series(rfe.support_,index = cols)\n",
    "selected_features_rfe = temp[temp==True].index\n",
    "print(selected_features_rfe)"
   ]
  },
  {
   "cell_type": "code",
   "execution_count": null,
   "metadata": {},
   "outputs": [],
   "source": []
  }
 ],
 "metadata": {
  "colab": {
   "collapsed_sections": [],
   "name": "2022_02_04_2148023_P3.ipynb",
   "provenance": []
  },
  "kernelspec": {
   "display_name": "Python 3",
   "language": "python",
   "name": "python3"
  },
  "language_info": {
   "codemirror_mode": {
    "name": "ipython",
    "version": 3
   },
   "file_extension": ".py",
   "mimetype": "text/x-python",
   "name": "python",
   "nbconvert_exporter": "python",
   "pygments_lexer": "ipython3",
   "version": "3.8.8"
  }
 },
 "nbformat": 4,
 "nbformat_minor": 1
}
