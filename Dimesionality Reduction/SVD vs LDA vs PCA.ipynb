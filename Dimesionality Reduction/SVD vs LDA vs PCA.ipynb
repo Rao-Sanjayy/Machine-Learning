{
 "cells": [
  {
   "cell_type": "markdown",
   "id": "6327387c",
   "metadata": {},
   "source": [
    "## Comparing SVD with PCA and LDA\n",
    "\n",
    "*   Author: Sanjay S Rao\n",
    "*   LinkedIn: https://www.linkedin.com/in/sanjay-srinivasa-rao-b67a771a0/\n",
    "*   e-mail - sanjay.s.rao04@gmail.com"
   ]
  },
  {
   "cell_type": "markdown",
   "id": "195c2097",
   "metadata": {},
   "source": [
    "### Importing libraries"
   ]
  },
  {
   "cell_type": "code",
   "execution_count": 1,
   "id": "8b0b4e16",
   "metadata": {},
   "outputs": [],
   "source": [
    "import numpy as np\n",
    "import pandas as pd\n",
    "import matplotlib.pyplot as plt\n",
    "import seaborn as sns\n",
    "import math\n",
    "from sklearn.model_selection import train_test_split"
   ]
  },
  {
   "cell_type": "markdown",
   "id": "1333985a",
   "metadata": {},
   "source": [
    "### Dataset Description:\n",
    "- The dataset contains transactions made by credit cards in September 2013 by European cardholders.\n",
    "- This dataset presents transactions that occurred in two days, where we have 492 frauds out of 284,807 transactions. The dataset is highly unbalanced, the positive class (frauds) account for 0.172% of all transactions.\n",
    "- Feature **'Time'** contains the seconds elapsed between each transaction and the first transaction in the dataset. \n",
    "- Feature **'Amount'** is the transaction Amount, this feature can be used for example-dependant cost-sensitive learning.\n",
    "- Feature **'Class'** is the response variable and it takes value 1 in case of fraud and 0 otherwise."
   ]
  },
  {
   "cell_type": "markdown",
   "id": "379e678a",
   "metadata": {},
   "source": [
    "The dataset can be found at https://www.kaggle.com/mlg-ulb/creditcardfraud"
   ]
  },
  {
   "cell_type": "code",
   "execution_count": 2,
   "id": "29086950",
   "metadata": {},
   "outputs": [
    {
     "data": {
      "text/html": [
       "<div>\n",
       "<style scoped>\n",
       "    .dataframe tbody tr th:only-of-type {\n",
       "        vertical-align: middle;\n",
       "    }\n",
       "\n",
       "    .dataframe tbody tr th {\n",
       "        vertical-align: top;\n",
       "    }\n",
       "\n",
       "    .dataframe thead th {\n",
       "        text-align: right;\n",
       "    }\n",
       "</style>\n",
       "<table border=\"1\" class=\"dataframe\">\n",
       "  <thead>\n",
       "    <tr style=\"text-align: right;\">\n",
       "      <th></th>\n",
       "      <th>Time</th>\n",
       "      <th>V1</th>\n",
       "      <th>V2</th>\n",
       "      <th>V3</th>\n",
       "      <th>V4</th>\n",
       "      <th>V5</th>\n",
       "      <th>V6</th>\n",
       "      <th>V7</th>\n",
       "      <th>V8</th>\n",
       "      <th>V9</th>\n",
       "      <th>...</th>\n",
       "      <th>V21</th>\n",
       "      <th>V22</th>\n",
       "      <th>V23</th>\n",
       "      <th>V24</th>\n",
       "      <th>V25</th>\n",
       "      <th>V26</th>\n",
       "      <th>V27</th>\n",
       "      <th>V28</th>\n",
       "      <th>Amount</th>\n",
       "      <th>Class</th>\n",
       "    </tr>\n",
       "  </thead>\n",
       "  <tbody>\n",
       "    <tr>\n",
       "      <th>0</th>\n",
       "      <td>0.0</td>\n",
       "      <td>-1.359807</td>\n",
       "      <td>-0.072781</td>\n",
       "      <td>2.536347</td>\n",
       "      <td>1.378155</td>\n",
       "      <td>-0.338321</td>\n",
       "      <td>0.462388</td>\n",
       "      <td>0.239599</td>\n",
       "      <td>0.098698</td>\n",
       "      <td>0.363787</td>\n",
       "      <td>...</td>\n",
       "      <td>-0.018307</td>\n",
       "      <td>0.277838</td>\n",
       "      <td>-0.110474</td>\n",
       "      <td>0.066928</td>\n",
       "      <td>0.128539</td>\n",
       "      <td>-0.189115</td>\n",
       "      <td>0.133558</td>\n",
       "      <td>-0.021053</td>\n",
       "      <td>149.62</td>\n",
       "      <td>0</td>\n",
       "    </tr>\n",
       "    <tr>\n",
       "      <th>1</th>\n",
       "      <td>0.0</td>\n",
       "      <td>1.191857</td>\n",
       "      <td>0.266151</td>\n",
       "      <td>0.166480</td>\n",
       "      <td>0.448154</td>\n",
       "      <td>0.060018</td>\n",
       "      <td>-0.082361</td>\n",
       "      <td>-0.078803</td>\n",
       "      <td>0.085102</td>\n",
       "      <td>-0.255425</td>\n",
       "      <td>...</td>\n",
       "      <td>-0.225775</td>\n",
       "      <td>-0.638672</td>\n",
       "      <td>0.101288</td>\n",
       "      <td>-0.339846</td>\n",
       "      <td>0.167170</td>\n",
       "      <td>0.125895</td>\n",
       "      <td>-0.008983</td>\n",
       "      <td>0.014724</td>\n",
       "      <td>2.69</td>\n",
       "      <td>0</td>\n",
       "    </tr>\n",
       "    <tr>\n",
       "      <th>2</th>\n",
       "      <td>1.0</td>\n",
       "      <td>-1.358354</td>\n",
       "      <td>-1.340163</td>\n",
       "      <td>1.773209</td>\n",
       "      <td>0.379780</td>\n",
       "      <td>-0.503198</td>\n",
       "      <td>1.800499</td>\n",
       "      <td>0.791461</td>\n",
       "      <td>0.247676</td>\n",
       "      <td>-1.514654</td>\n",
       "      <td>...</td>\n",
       "      <td>0.247998</td>\n",
       "      <td>0.771679</td>\n",
       "      <td>0.909412</td>\n",
       "      <td>-0.689281</td>\n",
       "      <td>-0.327642</td>\n",
       "      <td>-0.139097</td>\n",
       "      <td>-0.055353</td>\n",
       "      <td>-0.059752</td>\n",
       "      <td>378.66</td>\n",
       "      <td>0</td>\n",
       "    </tr>\n",
       "    <tr>\n",
       "      <th>3</th>\n",
       "      <td>1.0</td>\n",
       "      <td>-0.966272</td>\n",
       "      <td>-0.185226</td>\n",
       "      <td>1.792993</td>\n",
       "      <td>-0.863291</td>\n",
       "      <td>-0.010309</td>\n",
       "      <td>1.247203</td>\n",
       "      <td>0.237609</td>\n",
       "      <td>0.377436</td>\n",
       "      <td>-1.387024</td>\n",
       "      <td>...</td>\n",
       "      <td>-0.108300</td>\n",
       "      <td>0.005274</td>\n",
       "      <td>-0.190321</td>\n",
       "      <td>-1.175575</td>\n",
       "      <td>0.647376</td>\n",
       "      <td>-0.221929</td>\n",
       "      <td>0.062723</td>\n",
       "      <td>0.061458</td>\n",
       "      <td>123.50</td>\n",
       "      <td>0</td>\n",
       "    </tr>\n",
       "    <tr>\n",
       "      <th>4</th>\n",
       "      <td>2.0</td>\n",
       "      <td>-1.158233</td>\n",
       "      <td>0.877737</td>\n",
       "      <td>1.548718</td>\n",
       "      <td>0.403034</td>\n",
       "      <td>-0.407193</td>\n",
       "      <td>0.095921</td>\n",
       "      <td>0.592941</td>\n",
       "      <td>-0.270533</td>\n",
       "      <td>0.817739</td>\n",
       "      <td>...</td>\n",
       "      <td>-0.009431</td>\n",
       "      <td>0.798278</td>\n",
       "      <td>-0.137458</td>\n",
       "      <td>0.141267</td>\n",
       "      <td>-0.206010</td>\n",
       "      <td>0.502292</td>\n",
       "      <td>0.219422</td>\n",
       "      <td>0.215153</td>\n",
       "      <td>69.99</td>\n",
       "      <td>0</td>\n",
       "    </tr>\n",
       "  </tbody>\n",
       "</table>\n",
       "<p>5 rows × 31 columns</p>\n",
       "</div>"
      ],
      "text/plain": [
       "   Time        V1        V2        V3        V4        V5        V6        V7  \\\n",
       "0   0.0 -1.359807 -0.072781  2.536347  1.378155 -0.338321  0.462388  0.239599   \n",
       "1   0.0  1.191857  0.266151  0.166480  0.448154  0.060018 -0.082361 -0.078803   \n",
       "2   1.0 -1.358354 -1.340163  1.773209  0.379780 -0.503198  1.800499  0.791461   \n",
       "3   1.0 -0.966272 -0.185226  1.792993 -0.863291 -0.010309  1.247203  0.237609   \n",
       "4   2.0 -1.158233  0.877737  1.548718  0.403034 -0.407193  0.095921  0.592941   \n",
       "\n",
       "         V8        V9  ...       V21       V22       V23       V24       V25  \\\n",
       "0  0.098698  0.363787  ... -0.018307  0.277838 -0.110474  0.066928  0.128539   \n",
       "1  0.085102 -0.255425  ... -0.225775 -0.638672  0.101288 -0.339846  0.167170   \n",
       "2  0.247676 -1.514654  ...  0.247998  0.771679  0.909412 -0.689281 -0.327642   \n",
       "3  0.377436 -1.387024  ... -0.108300  0.005274 -0.190321 -1.175575  0.647376   \n",
       "4 -0.270533  0.817739  ... -0.009431  0.798278 -0.137458  0.141267 -0.206010   \n",
       "\n",
       "        V26       V27       V28  Amount  Class  \n",
       "0 -0.189115  0.133558 -0.021053  149.62      0  \n",
       "1  0.125895 -0.008983  0.014724    2.69      0  \n",
       "2 -0.139097 -0.055353 -0.059752  378.66      0  \n",
       "3 -0.221929  0.062723  0.061458  123.50      0  \n",
       "4  0.502292  0.219422  0.215153   69.99      0  \n",
       "\n",
       "[5 rows x 31 columns]"
      ]
     },
     "execution_count": 2,
     "metadata": {},
     "output_type": "execute_result"
    }
   ],
   "source": [
    "# importing the dataset\n",
    "df = pd.read_csv('./Datasets/creditcard.csv')\n",
    "\n",
    "# displaying the first 5 rows of the dataset\n",
    "df.head()"
   ]
  },
  {
   "cell_type": "code",
   "execution_count": 3,
   "id": "df635ec7",
   "metadata": {},
   "outputs": [
    {
     "data": {
      "text/plain": [
       "(284807, 31)"
      ]
     },
     "execution_count": 3,
     "metadata": {},
     "output_type": "execute_result"
    }
   ],
   "source": [
    "df.shape"
   ]
  },
  {
   "cell_type": "markdown",
   "id": "75b956d3",
   "metadata": {},
   "source": [
    "### Dropping unnecessary columns, which contains null values"
   ]
  },
  {
   "cell_type": "code",
   "execution_count": 4,
   "id": "f63244d0",
   "metadata": {},
   "outputs": [
    {
     "data": {
      "text/plain": [
       "Index([], dtype='object')"
      ]
     },
     "execution_count": 4,
     "metadata": {},
     "output_type": "execute_result"
    }
   ],
   "source": [
    "# columns containing null values\n",
    "df.columns[df.isnull().any()]"
   ]
  },
  {
   "cell_type": "markdown",
   "id": "4d971210",
   "metadata": {},
   "source": [
    "There is no missing data in the dataset"
   ]
  },
  {
   "cell_type": "code",
   "execution_count": 5,
   "id": "2696583a",
   "metadata": {},
   "outputs": [
    {
     "data": {
      "text/plain": [
       "0    284315\n",
       "1       492\n",
       "Name: Class, dtype: int64"
      ]
     },
     "execution_count": 5,
     "metadata": {},
     "output_type": "execute_result"
    }
   ],
   "source": [
    "df['Class'].value_counts()"
   ]
  },
  {
   "cell_type": "markdown",
   "id": "af168088",
   "metadata": {},
   "source": [
    "There is strong imbalance in the target value counts and it will affect the model adversely. In order to solve this issue, we will oversample the dataset."
   ]
  },
  {
   "cell_type": "markdown",
   "id": "b426bd8d",
   "metadata": {},
   "source": [
    "### Oversampling the dataset "
   ]
  },
  {
   "cell_type": "code",
   "execution_count": 6,
   "id": "e925c0da",
   "metadata": {},
   "outputs": [],
   "source": [
    "def _oversample_positives(df, target):\n",
    "    \"\"\" Oversample the minority classes to match\n",
    "    the majority class.\n",
    "    \n",
    "    :param df: pandas dataframe - input df.\n",
    "    :param target: string - classification target column.\n",
    "\n",
    "    :return: pandas datframe - oversampled version\n",
    "    \"\"\"\n",
    "\n",
    "    class_count = df[target].value_counts()\n",
    "\n",
    "    print(\"Before oversampling:\\n %s\" % class_count)\n",
    "    \n",
    "    for i in range(1,len(class_count)):\n",
    "        df_i = df[df[target] == i]\n",
    "        oversampling_factor_i = class_count[0] / float(class_count[i])\n",
    "        print(len(df_i))\n",
    "        print(\"Oversampling factor for class %i: %s\" %(i, str(oversampling_factor_i)))\n",
    "    \n",
    "        # Integer part of oversampling\n",
    "        df = df.append(\n",
    "            [df_i] * int(math.floor(oversampling_factor_i) - 1),\n",
    "            ignore_index=False)\n",
    "        \n",
    "        # Float part of oversampling\n",
    "        df = df.append(\n",
    "            [df_i.sample(frac=oversampling_factor_i % 1)],\n",
    "            ignore_index=False)\n",
    "    \n",
    "    print(\"After oversampling:\\n %s\" % df[target].value_counts())\n",
    "    print(\"Shape after oversampling: %s\" % str(df.shape))\n",
    "\n",
    "    return df"
   ]
  },
  {
   "cell_type": "code",
   "execution_count": 7,
   "id": "30354914",
   "metadata": {},
   "outputs": [
    {
     "name": "stdout",
     "output_type": "stream",
     "text": [
      "Before oversampling:\n",
      " 0    284315\n",
      "1       492\n",
      "Name: Class, dtype: int64\n",
      "492\n",
      "Oversampling factor for class 1: 577.8760162601626\n",
      "After oversampling:\n",
      " 0    284315\n",
      "1    284315\n",
      "Name: Class, dtype: int64\n",
      "Shape after oversampling: (568630, 31)\n"
     ]
    }
   ],
   "source": [
    "df_oversampled = _oversample_positives(df, 'Class')"
   ]
  },
  {
   "cell_type": "markdown",
   "id": "a2ae2b14",
   "metadata": {},
   "source": [
    "### Splitting the dataset into Independent and Dependent variables"
   ]
  },
  {
   "cell_type": "code",
   "execution_count": 8,
   "id": "1b9d6b71",
   "metadata": {},
   "outputs": [],
   "source": [
    "X = df_oversampled.drop(['Class'],axis = 1)\n",
    "y = df_oversampled['Class']"
   ]
  },
  {
   "cell_type": "code",
   "execution_count": 9,
   "id": "3e7a80ba",
   "metadata": {},
   "outputs": [
    {
     "data": {
      "text/plain": [
       "(568630, 30)"
      ]
     },
     "execution_count": 9,
     "metadata": {},
     "output_type": "execute_result"
    }
   ],
   "source": [
    "X.shape"
   ]
  },
  {
   "cell_type": "code",
   "execution_count": 10,
   "id": "7fe2b33a",
   "metadata": {},
   "outputs": [
    {
     "data": {
      "text/plain": [
       "(568630,)"
      ]
     },
     "execution_count": 10,
     "metadata": {},
     "output_type": "execute_result"
    }
   ],
   "source": [
    "y.shape"
   ]
  },
  {
   "cell_type": "code",
   "execution_count": 11,
   "id": "f624ca00",
   "metadata": {},
   "outputs": [
    {
     "data": {
      "text/plain": [
       "0    284315\n",
       "1    284315\n",
       "Name: Class, dtype: int64"
      ]
     },
     "execution_count": 11,
     "metadata": {},
     "output_type": "execute_result"
    }
   ],
   "source": [
    "y.value_counts()"
   ]
  },
  {
   "cell_type": "markdown",
   "id": "2c03ad55",
   "metadata": {},
   "source": [
    "### Standardizing the data"
   ]
  },
  {
   "cell_type": "code",
   "execution_count": 12,
   "id": "fb39e601",
   "metadata": {},
   "outputs": [],
   "source": [
    "from sklearn.preprocessing import StandardScaler\n",
    "sc = StandardScaler()\n",
    "\n",
    "#fitting\n",
    "sc.fit(X)\n",
    "X = sc.transform(X)"
   ]
  },
  {
   "attachments": {
    "image.png": {
     "image/png": "[encoded data removed]"
    }
   },
   "cell_type": "markdown",
   "id": "563999c8",
   "metadata": {},
   "source": [
    "## Singular Value Decomposition\n",
    "\n",
    "Singular Value Decomposition (SVD) is one of the widely used methods for dimensionality reduction.SVD factors a single matrix into matrix U, D and V* respectively.\n",
    "<div>\n",
    "<img src=\"attachment:image.png\" width=\"400\" />\n",
    "</div>\n",
    "\n",
    "where,\n",
    "- U and V* are orthogonal matrices.\n",
    "- D is a diagonal matrix of singular values\n",
    "\n",
    "### We will use *TruncatedSVD* class from sklearn.decomposition module.\n",
    "In **TruncatedSVD** we need to specify the number of components we need in our output, so instead of calculating whole decompositions we just calculate the required singular values and trim the rest."
   ]
  },
  {
   "cell_type": "code",
   "execution_count": 13,
   "id": "a7f5d881",
   "metadata": {},
   "outputs": [
    {
     "name": "stdout",
     "output_type": "stream",
     "text": [
      "Original Matrix:\n",
      "[[-1.82318718  0.1849266  -0.50607553 ...  0.04765262 -0.1298721\n",
      "   0.17477861]\n",
      " [-1.82318718  0.64668335 -0.41490967 ... -0.09258582 -0.05089074\n",
      "  -0.40400837]\n",
      " [-1.82316641  0.18518955 -0.84697579 ... -0.13820632 -0.21530308\n",
      "   1.07701347]\n",
      " ...\n",
      " [ 0.16269543 -2.73927251  2.89514817 ... -3.05691423 -1.13897195\n",
      "  -0.40818392]\n",
      " [-0.54300021  0.15552059 -0.08164321 ... -1.02091148 -0.94515846\n",
      "  -0.33960241]\n",
      " [-0.76086417 -1.59677225  1.64237848 ...  0.9827602   0.38446586\n",
      "  -0.020724  ]] \n",
      "\n",
      "Singular values: \n",
      "\n",
      "[2542.7877135  1296.10584984 1090.64369665  966.24505921] \n",
      "\n",
      "Transformed Matrix after reducing to 2 features: \n",
      "\n",
      "[[-2.01733914e+00 -7.94782005e-02  2.70471001e-01  6.74500962e-01]\n",
      " [-1.93859229e+00 -5.18804502e-01  8.75974344e-03 -9.23376944e-02]\n",
      " [-2.09947651e+00  3.13725927e-01  9.57341935e-02  3.35452280e-01]\n",
      " ...\n",
      " [ 9.40787005e+00  5.17289672e+00 -1.45797124e+00  8.32696165e-01]\n",
      " [-2.63074071e-01  6.55399003e-01  3.30754008e-03  1.21232130e-02]\n",
      " [ 3.52742840e+00 -1.27416420e+00  2.34756186e-01 -3.37495989e-01]]\n"
     ]
    }
   ],
   "source": [
    "from sklearn.decomposition import TruncatedSVD\n",
    "\n",
    "print(\"Original Matrix:\")\n",
    "print(X,'\\n')\n",
    "\n",
    "svd =  TruncatedSVD(n_components = 4)\n",
    "X_transf = svd.fit_transform(X)\n",
    "\n",
    "print(\"Singular values: \\n\")\n",
    "print(svd.singular_values_, '\\n')\n",
    "\n",
    "print(\"Transformed Matrix after reducing to 2 features: \\n\")\n",
    "print(X_transf)"
   ]
  },
  {
   "cell_type": "markdown",
   "id": "5757824e",
   "metadata": {},
   "source": [
    "### Training data and testing data"
   ]
  },
  {
   "cell_type": "code",
   "execution_count": 14,
   "id": "97df4473",
   "metadata": {},
   "outputs": [],
   "source": [
    "X_train, X_test, y_train, y_test = train_test_split(X_transf, y, test_size=0.2,random_state=1)"
   ]
  },
  {
   "cell_type": "markdown",
   "id": "8d44948a",
   "metadata": {},
   "source": [
    "### Modelling - Logistic Regression"
   ]
  },
  {
   "cell_type": "code",
   "execution_count": 15,
   "id": "ff19980f",
   "metadata": {},
   "outputs": [],
   "source": [
    "from sklearn.linear_model import LogisticRegression\n",
    "classifier = LogisticRegression(random_state=0)\n",
    "classifier.fit(X_train, y_train)\n",
    "y_pred = classifier.predict(X_test)\n",
    "y_pred2 = classifier.predict(X_train)"
   ]
  },
  {
   "cell_type": "markdown",
   "id": "d8a4e441",
   "metadata": {},
   "source": [
    "### Model Evaluation"
   ]
  },
  {
   "cell_type": "code",
   "execution_count": 16,
   "id": "bc77587c",
   "metadata": {},
   "outputs": [
    {
     "name": "stdout",
     "output_type": "stream",
     "text": [
      "[[56398   528]\n",
      " [ 9432 47368]]\n",
      "Accuracy: 0.9124210822503209\n"
     ]
    }
   ],
   "source": [
    "from sklearn.metrics import confusion_matrix,accuracy_score\n",
    "\n",
    "cm = confusion_matrix(y_test, y_pred)\n",
    "\n",
    "print(cm)\n",
    "print('Accuracy: ' + str(accuracy_score(y_test, y_pred)))"
   ]
  },
  {
   "cell_type": "markdown",
   "id": "90d6618b",
   "metadata": {},
   "source": [
    "## Principal Component Analysis\n",
    "\n",
    "Principal component analysis (PCA) is a technique for reducing the dimensionality of such datasets, increasing interpretability but at the same time minimizing information loss. It does so by creating new uncorrelated variables that successively maximize variance."
   ]
  },
  {
   "cell_type": "code",
   "execution_count": 17,
   "id": "f4e49e94",
   "metadata": {},
   "outputs": [
    {
     "name": "stdout",
     "output_type": "stream",
     "text": [
      "(568630, 4)\n"
     ]
    },
    {
     "data": {
      "text/html": [
       "<div>\n",
       "<style scoped>\n",
       "    .dataframe tbody tr th:only-of-type {\n",
       "        vertical-align: middle;\n",
       "    }\n",
       "\n",
       "    .dataframe tbody tr th {\n",
       "        vertical-align: top;\n",
       "    }\n",
       "\n",
       "    .dataframe thead th {\n",
       "        text-align: right;\n",
       "    }\n",
       "</style>\n",
       "<table border=\"1\" class=\"dataframe\">\n",
       "  <thead>\n",
       "    <tr style=\"text-align: right;\">\n",
       "      <th></th>\n",
       "      <th>0</th>\n",
       "      <th>1</th>\n",
       "      <th>2</th>\n",
       "      <th>3</th>\n",
       "    </tr>\n",
       "  </thead>\n",
       "  <tbody>\n",
       "    <tr>\n",
       "      <th>0</th>\n",
       "      <td>-2.017339</td>\n",
       "      <td>-0.079470</td>\n",
       "      <td>0.270388</td>\n",
       "      <td>0.673812</td>\n",
       "    </tr>\n",
       "    <tr>\n",
       "      <th>1</th>\n",
       "      <td>-1.938592</td>\n",
       "      <td>-0.518795</td>\n",
       "      <td>0.008829</td>\n",
       "      <td>-0.091917</td>\n",
       "    </tr>\n",
       "    <tr>\n",
       "      <th>2</th>\n",
       "      <td>-2.099477</td>\n",
       "      <td>0.313761</td>\n",
       "      <td>0.096197</td>\n",
       "      <td>0.338912</td>\n",
       "    </tr>\n",
       "    <tr>\n",
       "      <th>3</th>\n",
       "      <td>-2.340707</td>\n",
       "      <td>-0.038475</td>\n",
       "      <td>-0.452649</td>\n",
       "      <td>-1.047944</td>\n",
       "    </tr>\n",
       "    <tr>\n",
       "      <th>4</th>\n",
       "      <td>-1.898887</td>\n",
       "      <td>-0.053940</td>\n",
       "      <td>0.789904</td>\n",
       "      <td>0.433344</td>\n",
       "    </tr>\n",
       "  </tbody>\n",
       "</table>\n",
       "</div>"
      ],
      "text/plain": [
       "          0         1         2         3\n",
       "0 -2.017339 -0.079470  0.270388  0.673812\n",
       "1 -1.938592 -0.518795  0.008829 -0.091917\n",
       "2 -2.099477  0.313761  0.096197  0.338912\n",
       "3 -2.340707 -0.038475 -0.452649 -1.047944\n",
       "4 -1.898887 -0.053940  0.789904  0.433344"
      ]
     },
     "execution_count": 17,
     "metadata": {},
     "output_type": "execute_result"
    }
   ],
   "source": [
    "# Importing standardscalar module\n",
    "from sklearn.preprocessing import StandardScaler\n",
    "df_new = pd.DataFrame(X)\n",
    "y_target = pd.DataFrame(y)\n",
    "scalar = StandardScaler()\n",
    "\n",
    "# fitting\n",
    "scalar.fit(df_new)\n",
    "scaled_data = scalar.transform(df_new)\n",
    "\n",
    "# Importing PCA\n",
    "from sklearn.decomposition import PCA\n",
    "\n",
    "# Let's say, components = 2\n",
    "pca = PCA(n_components = 4)\n",
    "pca.fit(scaled_data)\n",
    "x_pca = pca.transform(scaled_data)\n",
    "print(x_pca.shape)\n",
    "PCA_df = pd.DataFrame(x_pca)\n",
    "PCA_df.head()"
   ]
  },
  {
   "cell_type": "code",
   "execution_count": 18,
   "id": "362446b0",
   "metadata": {},
   "outputs": [
    {
     "data": {
      "text/plain": [
       "Text(0, 0.5, 'Second Principal Component')"
      ]
     },
     "execution_count": 18,
     "metadata": {},
     "output_type": "execute_result"
    },
    {
     "data": {
      "image/png": "[encoded data removed]",
      "text/plain": [
       "<Figure size 576x432 with 1 Axes>"
      ]
     },
     "metadata": {
      "needs_background": "light"
     },
     "output_type": "display_data"
    }
   ],
   "source": [
    "# giving a larger plot\n",
    "plt.figure(figsize =(8, 6))\n",
    "plt.scatter(x_pca[:, 0], x_pca[:, 1])\n",
    "\n",
    "# labeling x and y axes\n",
    "plt.xlabel('First Principal Component')\n",
    "plt.ylabel('Second Principal Component')"
   ]
  },
  {
   "cell_type": "markdown",
   "id": "410c84b7",
   "metadata": {},
   "source": [
    "Referring to the above scatter plot, we can say that the ***first principal component*** is more significant compared to the second as it explains more variability of the data."
   ]
  },
  {
   "cell_type": "markdown",
   "id": "cd0c3b44",
   "metadata": {},
   "source": [
    "### Training data and testing data"
   ]
  },
  {
   "cell_type": "code",
   "execution_count": 19,
   "id": "24ba09da",
   "metadata": {},
   "outputs": [],
   "source": [
    "X1_train, X1_test, y1_train, y1_test = train_test_split(PCA_df, y_target, test_size=0.2,random_state=1)"
   ]
  },
  {
   "cell_type": "markdown",
   "id": "546719fb",
   "metadata": {},
   "source": [
    "### Logistic Regression Model"
   ]
  },
  {
   "cell_type": "code",
   "execution_count": 20,
   "id": "1d1ab6b8",
   "metadata": {},
   "outputs": [
    {
     "name": "stderr",
     "output_type": "stream",
     "text": [
      "D:\\Anaconda\\lib\\site-packages\\sklearn\\utils\\validation.py:63: DataConversionWarning: A column-vector y was passed when a 1d array was expected. Please change the shape of y to (n_samples, ), for example using ravel().\n",
      "  return f(*args, **kwargs)\n"
     ]
    }
   ],
   "source": [
    "from sklearn.linear_model import LogisticRegression\n",
    "classifier = LogisticRegression(random_state=0)\n",
    "classifier.fit(X1_train, y1_train)\n",
    "y1_pred = classifier.predict(X1_test)\n",
    "y1_pred2 = classifier.predict(X1_train)"
   ]
  },
  {
   "cell_type": "markdown",
   "id": "72126eee",
   "metadata": {},
   "source": [
    "### Model Evaluation"
   ]
  },
  {
   "cell_type": "code",
   "execution_count": 21,
   "id": "7acf78e3",
   "metadata": {},
   "outputs": [
    {
     "name": "stdout",
     "output_type": "stream",
     "text": [
      "[[56399   527]\n",
      " [ 9432 47368]]\n",
      "Accuracy: 0.912429875314352\n"
     ]
    }
   ],
   "source": [
    "from sklearn.metrics import confusion_matrix,accuracy_score\n",
    "\n",
    "cm1 = confusion_matrix(y1_test, y1_pred)\n",
    "\n",
    "print(cm1)\n",
    "print('Accuracy: ' + str(accuracy_score(y1_test, y1_pred)))"
   ]
  },
  {
   "cell_type": "markdown",
   "id": "b3b8c209",
   "metadata": {},
   "source": [
    "## Linear Discriminant Analysis\n",
    "\n",
    "Linear Discriminant Analysis as its name suggests is a linear model for classification and dimensionality reduction.  Most commonly used for feature extraction in pattern classification problems. \n",
    "\n",
    "#### Assumptions:\n",
    "LDA makes some assumptions about the data:\n",
    "\n",
    "- Assumes the data to be distributed normally or Gaussian distribution of data points i.e. each feature must make a bell-shaped curve when plotted. \n",
    "- Each of the classes has identical covariance matrices.\n",
    "\n",
    "However, it is worth mentioning that LDA performs quite well even if the assumptions are violated."
   ]
  },
  {
   "cell_type": "code",
   "execution_count": 22,
   "id": "3d0c7cb7",
   "metadata": {},
   "outputs": [],
   "source": [
    "X = df_oversampled.drop(['Class'],axis = 1)\n",
    "y = df_oversampled['Class']\n",
    "\n",
    "#train test split\n",
    "X2_train, X2_test, y2_train, y2_test = train_test_split(X, y, test_size=0.2,random_state=1)\n",
    "\n",
    "#standard scaling the data\n",
    "from sklearn.preprocessing import StandardScaler\n",
    "sc = StandardScaler()\n",
    "X2_train = sc.fit_transform(X2_train)\n",
    "X2_test = sc.transform(X2_test)"
   ]
  },
  {
   "cell_type": "code",
   "execution_count": 23,
   "id": "2a733d3d",
   "metadata": {},
   "outputs": [
    {
     "data": {
      "text/html": [
       "<div>\n",
       "<style scoped>\n",
       "    .dataframe tbody tr th:only-of-type {\n",
       "        vertical-align: middle;\n",
       "    }\n",
       "\n",
       "    .dataframe tbody tr th {\n",
       "        vertical-align: top;\n",
       "    }\n",
       "\n",
       "    .dataframe thead th {\n",
       "        text-align: right;\n",
       "    }\n",
       "</style>\n",
       "<table border=\"1\" class=\"dataframe\">\n",
       "  <thead>\n",
       "    <tr style=\"text-align: right;\">\n",
       "      <th></th>\n",
       "      <th>0</th>\n",
       "    </tr>\n",
       "  </thead>\n",
       "  <tbody>\n",
       "    <tr>\n",
       "      <th>0</th>\n",
       "      <td>1.756621</td>\n",
       "    </tr>\n",
       "    <tr>\n",
       "      <th>1</th>\n",
       "      <td>1.403868</td>\n",
       "    </tr>\n",
       "    <tr>\n",
       "      <th>2</th>\n",
       "      <td>-0.689782</td>\n",
       "    </tr>\n",
       "    <tr>\n",
       "      <th>3</th>\n",
       "      <td>-2.580664</td>\n",
       "    </tr>\n",
       "    <tr>\n",
       "      <th>4</th>\n",
       "      <td>1.359420</td>\n",
       "    </tr>\n",
       "    <tr>\n",
       "      <th>5</th>\n",
       "      <td>-0.806514</td>\n",
       "    </tr>\n",
       "    <tr>\n",
       "      <th>6</th>\n",
       "      <td>0.152612</td>\n",
       "    </tr>\n",
       "    <tr>\n",
       "      <th>7</th>\n",
       "      <td>0.525995</td>\n",
       "    </tr>\n",
       "    <tr>\n",
       "      <th>8</th>\n",
       "      <td>-0.154143</td>\n",
       "    </tr>\n",
       "    <tr>\n",
       "      <th>9</th>\n",
       "      <td>0.276257</td>\n",
       "    </tr>\n",
       "  </tbody>\n",
       "</table>\n",
       "</div>"
      ],
      "text/plain": [
       "          0\n",
       "0  1.756621\n",
       "1  1.403868\n",
       "2 -0.689782\n",
       "3 -2.580664\n",
       "4  1.359420\n",
       "5 -0.806514\n",
       "6  0.152612\n",
       "7  0.525995\n",
       "8 -0.154143\n",
       "9  0.276257"
      ]
     },
     "execution_count": 23,
     "metadata": {},
     "output_type": "execute_result"
    }
   ],
   "source": [
    "from sklearn.discriminant_analysis import LinearDiscriminantAnalysis as LDA\n",
    "lda = LDA(n_components=1) #n_components to be less than the n_classes count \n",
    "X2_train = lda.fit_transform(X2_train, y2_train)\n",
    "X2_test = lda.transform(X2_test)\n",
    "LDA_df = pd.DataFrame(X2_test)\n",
    "LDA_df.head(10)"
   ]
  },
  {
   "cell_type": "code",
   "execution_count": 24,
   "id": "4474436c",
   "metadata": {},
   "outputs": [],
   "source": [
    "from sklearn.linear_model import LogisticRegression\n",
    "classifier = LogisticRegression(random_state=0)\n",
    "classifier.fit(X2_train, y2_train)\n",
    "y2_pred = classifier.predict(X2_test)\n",
    "y2_pred2 = classifier.predict(X2_train)"
   ]
  },
  {
   "cell_type": "code",
   "execution_count": 25,
   "id": "9181fb94",
   "metadata": {},
   "outputs": [
    {
     "name": "stdout",
     "output_type": "stream",
     "text": [
      "[[54632  2294]\n",
      " [ 5744 51056]]\n",
      "Accuracy: 0.9293213513180802\n"
     ]
    }
   ],
   "source": [
    "from sklearn.metrics import confusion_matrix,accuracy_score\n",
    "\n",
    "cm = confusion_matrix(y2_test, y2_pred)\n",
    "\n",
    "print(cm)\n",
    "print('Accuracy: ' + str(accuracy_score(y2_test, y2_pred)))"
   ]
  },
  {
   "cell_type": "markdown",
   "id": "44714e18",
   "metadata": {},
   "source": [
    "## Inference:"
   ]
  },
  {
   "cell_type": "markdown",
   "id": "bc0c76eb",
   "metadata": {},
   "source": [
    "The model performance with **SVD** and **PCA** was exactly the same with an accuracy of **91.24%** since we scaled down the whole dataset into 4 features, and both the methods worked siilarly on our data where as, **LDA** performed slightly higher in our case with a accuracy of **92.93%**. With all the three techniques, we did not witness any major loss of information of our original data."
   ]
  }
 ],
 "metadata": {
  "kernelspec": {
   "display_name": "Python 3",
   "language": "python",
   "name": "python3"
  },
  "language_info": {
   "codemirror_mode": {
    "name": "ipython",
    "version": 3
   },
   "file_extension": ".py",
   "mimetype": "text/x-python",
   "name": "python",
   "nbconvert_exporter": "python",
   "pygments_lexer": "ipython3",
   "version": "3.8.8"
  }
 },
 "nbformat": 4,
 "nbformat_minor": 5
}
