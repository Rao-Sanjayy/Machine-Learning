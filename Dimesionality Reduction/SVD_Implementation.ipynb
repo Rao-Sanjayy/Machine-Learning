{
 "cells": [
  {
   "cell_type": "markdown",
   "id": "4280a3e3",
   "metadata": {},
   "source": [
    "## Implementation of SVD\n",
    "*   Author: Sanjay S Rao\n",
    "*   LinkedIn: https://www.linkedin.com/in/sanjay-srinivasa-rao-b67a771a0/\n",
    "*   e-mail - sanjay.s.rao04@gmail.com"
   ]
  },
  {
   "cell_type": "code",
   "execution_count": 1,
   "id": "9c8ce746",
   "metadata": {},
   "outputs": [],
   "source": [
    "import numpy as np\n",
    "from scipy.linalg import svd,eig\n",
    "import math"
   ]
  },
  {
   "cell_type": "markdown",
   "id": "513febad",
   "metadata": {},
   "source": [
    "### Using in-built function"
   ]
  },
  {
   "cell_type": "code",
   "execution_count": 2,
   "id": "dd7d7971",
   "metadata": {},
   "outputs": [],
   "source": [
    "A = np.array([[4,0],[3,-5]])\n",
    "U, S, VT = svd(A)"
   ]
  },
  {
   "cell_type": "code",
   "execution_count": 3,
   "id": "fea1952c",
   "metadata": {},
   "outputs": [
    {
     "name": "stdout",
     "output_type": "stream",
     "text": [
      "Left singular vectors: \n",
      "[[-0.4472136  -0.89442719]\n",
      " [-0.89442719  0.4472136 ]]\n",
      "Singular Values: \n",
      "[[6.32455532 0.        ]\n",
      " [0.         3.16227766]]\n",
      "Right singular vectors: \n",
      "[[-0.70710678  0.70710678]\n",
      " [-0.70710678 -0.70710678]]\n"
     ]
    }
   ],
   "source": [
    "print(\"Left singular vectors: \")\n",
    "print(U)\n",
    "print(\"Singular Values: \")\n",
    "print(np.diag(S))\n",
    "print(\"Right singular vectors: \")\n",
    "print(VT)"
   ]
  },
  {
   "cell_type": "code",
   "execution_count": 4,
   "id": "6dec2e14",
   "metadata": {},
   "outputs": [],
   "source": [
    "sigma = np.diag(S)"
   ]
  },
  {
   "cell_type": "code",
   "execution_count": 5,
   "id": "54dd01c0",
   "metadata": {},
   "outputs": [
    {
     "name": "stdout",
     "output_type": "stream",
     "text": [
      "[[ 4.00000000e+00 -1.11022302e-15]\n",
      " [ 3.00000000e+00 -5.00000000e+00]]\n"
     ]
    }
   ],
   "source": [
    "print(U @ sigma @ VT)"
   ]
  },
  {
   "cell_type": "code",
   "execution_count": 6,
   "id": "bf87533b",
   "metadata": {},
   "outputs": [
    {
     "data": {
      "text/plain": [
       "array([[-2.82842712, -2.82842712],\n",
       "       [-5.65685425,  1.41421356]])"
      ]
     },
     "execution_count": 6,
     "metadata": {},
     "output_type": "execute_result"
    }
   ],
   "source": [
    "T = np.dot(U,sigma)\n",
    "T"
   ]
  },
  {
   "cell_type": "code",
   "execution_count": 7,
   "id": "c5eb44c6",
   "metadata": {},
   "outputs": [
    {
     "data": {
      "text/plain": [
       "array([[ 4.00000000e+00, -1.11022302e-15],\n",
       "       [ 3.00000000e+00, -5.00000000e+00]])"
      ]
     },
     "execution_count": 7,
     "metadata": {},
     "output_type": "execute_result"
    }
   ],
   "source": [
    "np.dot(T,VT)"
   ]
  },
  {
   "cell_type": "markdown",
   "id": "225ed1e4",
   "metadata": {},
   "source": [
    "The number of features to be extracted (n_components) are decided while creating a sigma matrix. For instance, if our original matrix is of size 1000x100 and if we want to experiment by choosing only top 10 features, then our sigma matrix should be framed only with 10 diagonal values.\n",
    "\n",
    "**Note:** Choice of diagonal values is never random, bcz the rule for framing a sigma matrix is \"The singular values are to be arranged in descending order diagonally.\"\n",
    "\n",
    "As we know that the sigma matrix is the diagonal matrix of singular values, thus the reduced features are obtained by transformation invovling the sigma matrix. In order to transform, we follow a two-step procedure.\n",
    "- Step-1: Multiply sigma with U i.e., T1 = U.sigma  (dot product)\n",
    "- Step-2: Multiply T1 with V i.e., T2 = T1.V  where V - E.vector matrix\n",
    "\n",
    "Since the extraction involves the singular values as the major criteria, thus the name **Singular Value Decomposition**"
   ]
  },
  {
   "cell_type": "markdown",
   "id": "a583e1c9",
   "metadata": {},
   "source": [
    "### Without in-built function"
   ]
  },
  {
   "cell_type": "code",
   "execution_count": 8,
   "id": "fcb71bdf",
   "metadata": {},
   "outputs": [
    {
     "data": {
      "text/plain": [
       "array([[ 25, -15],\n",
       "       [-15,  25]])"
      ]
     },
     "execution_count": 8,
     "metadata": {},
     "output_type": "execute_result"
    }
   ],
   "source": [
    "A = np.array([[4,0],[3,-5]])\n",
    "ATA = np.dot(np.transpose(A),(A))\n",
    "ATA"
   ]
  },
  {
   "cell_type": "code",
   "execution_count": 9,
   "id": "c8194ae6",
   "metadata": {},
   "outputs": [
    {
     "data": {
      "text/plain": [
       "array([[ 800., -800.],\n",
       "       [-800.,  800.]])"
      ]
     },
     "execution_count": 9,
     "metadata": {},
     "output_type": "execute_result"
    }
   ],
   "source": [
    "cov_matrix = np.cov(ATA.T)\n",
    "cov_matrix"
   ]
  },
  {
   "cell_type": "code",
   "execution_count": 10,
   "id": "0bf873da",
   "metadata": {},
   "outputs": [],
   "source": [
    "evalues, evectors = np.linalg.eig(ATA)"
   ]
  },
  {
   "cell_type": "code",
   "execution_count": 11,
   "id": "7789969c",
   "metadata": {},
   "outputs": [
    {
     "data": {
      "text/plain": [
       "array([40., 10.])"
      ]
     },
     "execution_count": 11,
     "metadata": {},
     "output_type": "execute_result"
    }
   ],
   "source": [
    "evalues"
   ]
  },
  {
   "cell_type": "code",
   "execution_count": 12,
   "id": "5ed2926f",
   "metadata": {},
   "outputs": [
    {
     "data": {
      "text/plain": [
       "array([[ 0.70710678,  0.70710678],\n",
       "       [-0.70710678,  0.70710678]])"
      ]
     },
     "execution_count": 12,
     "metadata": {},
     "output_type": "execute_result"
    }
   ],
   "source": [
    "evectors"
   ]
  },
  {
   "cell_type": "code",
   "execution_count": 13,
   "id": "6d0a20a4",
   "metadata": {},
   "outputs": [
    {
     "data": {
      "text/plain": [
       "array([[6.32455532, 0.        ],\n",
       "       [0.        , 3.16227766]])"
      ]
     },
     "execution_count": 13,
     "metadata": {},
     "output_type": "execute_result"
    }
   ],
   "source": [
    "S = np.sqrt(evalues)\n",
    "sigma = np.diag(S)\n",
    "sigma"
   ]
  },
  {
   "cell_type": "code",
   "execution_count": 14,
   "id": "b550e8ca",
   "metadata": {},
   "outputs": [],
   "source": [
    "V = evectors\n",
    "VT = np.transpose(V)"
   ]
  },
  {
   "cell_type": "code",
   "execution_count": 15,
   "id": "242d2907",
   "metadata": {},
   "outputs": [],
   "source": [
    "sigma_inv = np.linalg.inv(sigma)"
   ]
  },
  {
   "cell_type": "code",
   "execution_count": 16,
   "id": "18c68d66",
   "metadata": {},
   "outputs": [
    {
     "data": {
      "text/plain": [
       "array([[ 0.4472136 ,  0.89442719],\n",
       "       [ 0.89442719, -0.4472136 ]])"
      ]
     },
     "execution_count": 16,
     "metadata": {},
     "output_type": "execute_result"
    }
   ],
   "source": [
    "U = A @ V @ sigma_inv\n",
    "U"
   ]
  },
  {
   "cell_type": "code",
   "execution_count": 17,
   "id": "d3174f98",
   "metadata": {},
   "outputs": [
    {
     "data": {
      "text/plain": [
       "array([[ 4.,  0.],\n",
       "       [ 3., -5.]])"
      ]
     },
     "execution_count": 17,
     "metadata": {},
     "output_type": "execute_result"
    }
   ],
   "source": [
    "SVD_A = U @ sigma @ VT\n",
    "SVD_A"
   ]
  },
  {
   "cell_type": "code",
   "execution_count": 18,
   "id": "fcba87f3",
   "metadata": {},
   "outputs": [
    {
     "data": {
      "text/plain": [
       "array([[ 2.82842712,  2.82842712],\n",
       "       [ 5.65685425, -1.41421356]])"
      ]
     },
     "execution_count": 18,
     "metadata": {},
     "output_type": "execute_result"
    }
   ],
   "source": [
    "T1 = np.dot(U,sigma)\n",
    "T1"
   ]
  },
  {
   "cell_type": "code",
   "execution_count": 19,
   "id": "f70ecde1",
   "metadata": {},
   "outputs": [
    {
     "data": {
      "text/plain": [
       "array([[4.4408921e-16, 4.0000000e+00],\n",
       "       [5.0000000e+00, 3.0000000e+00]])"
      ]
     },
     "execution_count": 19,
     "metadata": {},
     "output_type": "execute_result"
    }
   ],
   "source": [
    "T2 = np.dot(T1,V)\n",
    "T2"
   ]
  },
  {
   "cell_type": "markdown",
   "id": "ae2aca7e",
   "metadata": {},
   "source": [
    "## **TASK:**\n",
    "\n",
    "1. Create a singular matrix for 3x3 array & perform all the transformation tasks that are required to extract top 2 features.\n",
    "2. Using a real-world dataset perform feature extraction using SVD. Justify your result by comparing with PCA and LDA"
   ]
  },
  {
   "cell_type": "code",
   "execution_count": 20,
   "id": "b0090ae6",
   "metadata": {},
   "outputs": [
    {
     "name": "stdout",
     "output_type": "stream",
     "text": [
      "[[-1  2  0]\n",
      " [ 2  0 -2]\n",
      " [ 0 -2  1]]\n",
      "[[-1.00000000e+00  2.00000000e+00 -3.33066907e-16]\n",
      " [ 2.00000000e+00  1.11022302e-16 -2.00000000e+00]\n",
      " [ 0.00000000e+00 -2.00000000e+00  1.00000000e+00]]\n",
      "[[-1.78885438 -1.34164079]\n",
      " [-0.89442719  2.68328157]\n",
      " [ 2.23606798  0.        ]]\n",
      "[[-1.78885438e+00 -1.34164079e+00]\n",
      " [-8.94427191e-01  2.68328157e+00]\n",
      " [ 2.23606798e+00  2.22044605e-16]]\n"
     ]
    }
   ],
   "source": [
    "from numpy import array\n",
    "from numpy import diag\n",
    "from numpy import zeros\n",
    "from scipy.linalg import svd\n",
    "# define a matrix\n",
    "A = array([[-1,2,0],[2,0,-2],[0,-2,1]])\n",
    "\n",
    "#A = array(x)\n",
    "print(A)\n",
    "# Singular-value decomposition\n",
    "U, s, VT = svd(A)\n",
    "# create m x n Sigma matrix\n",
    "Sigma = zeros((A.shape[0], A.shape[1]))\n",
    "# populate Sigma with n x n diagonal matrix\n",
    "Sigma[:A.shape[0], :A.shape[0]] = diag(s) #if any error chnge shape to 1\n",
    "# select\n",
    "n_elements = 2\n",
    "Sigma = Sigma[:, :n_elements]\n",
    "VT = VT[:n_elements, :]\n",
    "# reconstruct\n",
    "B = U.dot(Sigma.dot(VT))\n",
    "print(B)\n",
    "# transform\n",
    "T = U.dot(Sigma)\n",
    "print(T)\n",
    "T = A.dot(VT.T)\n",
    "print(T)\n",
    "#print(U)"
   ]
  },
  {
   "cell_type": "markdown",
   "id": "1f049bb4",
   "metadata": {},
   "source": [
    "## nrows < ncolumns case"
   ]
  },
  {
   "cell_type": "code",
   "execution_count": 21,
   "id": "c52cc864",
   "metadata": {},
   "outputs": [
    {
     "name": "stdout",
     "output_type": "stream",
     "text": [
      "[[-1  2  0  4]\n",
      " [ 2  0 -2  1]\n",
      " [ 0 -2  1  3]]\n",
      "[[-0.14843327  1.14843327 -0.42578337  4.21880078]\n",
      " [ 0.59373307  1.40626693 -1.29686654  0.63867505]\n",
      " [-0.98048356 -1.01951644  1.49024178  2.74807544]]\n",
      "[[ 4.28024566 -1.        ]\n",
      " [ 0.64797706 -2.        ]\n",
      " [ 2.78809989  2.        ]]\n",
      "[[ 4.28024566 -1.        ]\n",
      " [ 0.64797706 -2.        ]\n",
      " [ 2.78809989  2.        ]]\n"
     ]
    }
   ],
   "source": [
    "from numpy import array\n",
    "from numpy import diag\n",
    "from numpy import zeros\n",
    "from scipy.linalg import svd\n",
    "# define a matrix\n",
    "#A = array([[1,2,3],[11,12,13],[21,22,23]])\n",
    "A = array([[-1,2,0,4],[2,0,-2,1],[0,-2,1,3]])\n",
    "\n",
    "#A = array(x)\n",
    "print(A)\n",
    "# Singular-value decomposition\n",
    "U, s, VT = svd(A)\n",
    "# create m x n Sigma matrix\n",
    "Sigma = zeros((A.shape[0], A.shape[1]))\n",
    "# populate Sigma with n x n diagonal matrix\n",
    "Sigma[:A.shape[0], :A.shape[0]] = diag(s) #if any error chnge shape to 1\n",
    "# select\n",
    "n_elements = 2\n",
    "Sigma = Sigma[:, :n_elements]\n",
    "VT = VT[:n_elements, :]\n",
    "# reconstruct\n",
    "B = U.dot(Sigma.dot(VT))\n",
    "print(B)\n",
    "# transform\n",
    "T = U.dot(Sigma)\n",
    "print(T)\n",
    "T = A.dot(VT.T)\n",
    "print(T)\n",
    "#print(U)"
   ]
  },
  {
   "cell_type": "code",
   "execution_count": null,
   "id": "02c50ffc",
   "metadata": {},
   "outputs": [],
   "source": []
  }
 ],
 "metadata": {
  "kernelspec": {
   "display_name": "Python 3",
   "language": "python",
   "name": "python3"
  },
  "language_info": {
   "codemirror_mode": {
    "name": "ipython",
    "version": 3
   },
   "file_extension": ".py",
   "mimetype": "text/x-python",
   "name": "python",
   "nbconvert_exporter": "python",
   "pygments_lexer": "ipython3",
   "version": "3.8.8"
  }
 },
 "nbformat": 4,
 "nbformat_minor": 5
}
