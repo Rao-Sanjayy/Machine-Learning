{
 "cells": [
  {
   "cell_type": "markdown",
   "metadata": {
    "id": "sFcbV3_G_z-J"
   },
   "source": [
    "# Calories Burnt Prediction\n",
    "\n",
    "- Author: Sanjay S Rao\n",
    "- LinkenIn: www.linkedin.com/in/sanjay-srinivasa-rao-b67a771a0\n",
    "- e-mail - sanjay.s.rao04@gmail.com"
   ]
  },
  {
   "cell_type": "markdown",
   "metadata": {
    "id": "3IhzbHuwxiVJ"
   },
   "source": [
    "## Importing the Dependencies"
   ]
  },
  {
   "cell_type": "code",
   "execution_count": 1,
   "metadata": {
    "id": "KNN1HNCrxf09"
   },
   "outputs": [],
   "source": [
    "import numpy as np\n",
    "import pandas as pd\n",
    "import matplotlib.pyplot as plt\n",
    "import seaborn as sns\n",
    "from sklearn import metrics"
   ]
  },
  {
   "cell_type": "markdown",
   "metadata": {
    "id": "obiHZml5Anwo"
   },
   "source": [
    "## Problem:\n",
    "To predict the total calories burnt by a person, given the activity details. "
   ]
  },
  {
   "cell_type": "markdown",
   "metadata": {
    "id": "Hey4nDw8xlOV"
   },
   "source": [
    "## Data Collection & Processing"
   ]
  },
  {
   "cell_type": "markdown",
   "metadata": {
    "id": "dDL4SnC6xmTk"
   },
   "source": [
    "dataset link: https://www.kaggle.com/fmendes/fmendesdat263xdemos"
   ]
  },
  {
   "cell_type": "code",
   "execution_count": 2,
   "metadata": {
    "id": "AF0IFnlBxl6j"
   },
   "outputs": [],
   "source": [
    "# loading the data from csv file to a Pandas DataFrame\n",
    "calories = pd.read_csv('calories.csv')"
   ]
  },
  {
   "cell_type": "code",
   "execution_count": 3,
   "metadata": {
    "colab": {
     "base_uri": "https://localhost:8080/",
     "height": 206
    },
    "id": "lw5BHEjexrW4",
    "outputId": "f4e3c16c-feaf-421c-decc-348e270d1513"
   },
   "outputs": [
    {
     "data": {
      "text/html": [
       "<div>\n",
       "<style scoped>\n",
       "    .dataframe tbody tr th:only-of-type {\n",
       "        vertical-align: middle;\n",
       "    }\n",
       "\n",
       "    .dataframe tbody tr th {\n",
       "        vertical-align: top;\n",
       "    }\n",
       "\n",
       "    .dataframe thead th {\n",
       "        text-align: right;\n",
       "    }\n",
       "</style>\n",
       "<table border=\"1\" class=\"dataframe\">\n",
       "  <thead>\n",
       "    <tr style=\"text-align: right;\">\n",
       "      <th></th>\n",
       "      <th>User_ID</th>\n",
       "      <th>Calories</th>\n",
       "    </tr>\n",
       "  </thead>\n",
       "  <tbody>\n",
       "    <tr>\n",
       "      <th>0</th>\n",
       "      <td>14733363</td>\n",
       "      <td>231.0</td>\n",
       "    </tr>\n",
       "    <tr>\n",
       "      <th>1</th>\n",
       "      <td>14861698</td>\n",
       "      <td>66.0</td>\n",
       "    </tr>\n",
       "    <tr>\n",
       "      <th>2</th>\n",
       "      <td>11179863</td>\n",
       "      <td>26.0</td>\n",
       "    </tr>\n",
       "    <tr>\n",
       "      <th>3</th>\n",
       "      <td>16180408</td>\n",
       "      <td>71.0</td>\n",
       "    </tr>\n",
       "    <tr>\n",
       "      <th>4</th>\n",
       "      <td>17771927</td>\n",
       "      <td>35.0</td>\n",
       "    </tr>\n",
       "  </tbody>\n",
       "</table>\n",
       "</div>"
      ],
      "text/plain": [
       "    User_ID  Calories\n",
       "0  14733363     231.0\n",
       "1  14861698      66.0\n",
       "2  11179863      26.0\n",
       "3  16180408      71.0\n",
       "4  17771927      35.0"
      ]
     },
     "execution_count": 3,
     "metadata": {},
     "output_type": "execute_result"
    }
   ],
   "source": [
    "# print the first 5 rows of the dataframe\n",
    "calories.head()"
   ]
  },
  {
   "cell_type": "code",
   "execution_count": 4,
   "metadata": {
    "id": "1-Gq9YtRxrUk"
   },
   "outputs": [],
   "source": [
    "exercise_data = pd.read_csv('exercise.csv')"
   ]
  },
  {
   "cell_type": "code",
   "execution_count": 5,
   "metadata": {
    "colab": {
     "base_uri": "https://localhost:8080/",
     "height": 206
    },
    "id": "DpNF7mGhxrR0",
    "outputId": "5ce88eec-3a8f-4551-c963-d9c86e60fdd5"
   },
   "outputs": [
    {
     "data": {
      "text/html": [
       "<div>\n",
       "<style scoped>\n",
       "    .dataframe tbody tr th:only-of-type {\n",
       "        vertical-align: middle;\n",
       "    }\n",
       "\n",
       "    .dataframe tbody tr th {\n",
       "        vertical-align: top;\n",
       "    }\n",
       "\n",
       "    .dataframe thead th {\n",
       "        text-align: right;\n",
       "    }\n",
       "</style>\n",
       "<table border=\"1\" class=\"dataframe\">\n",
       "  <thead>\n",
       "    <tr style=\"text-align: right;\">\n",
       "      <th></th>\n",
       "      <th>User_ID</th>\n",
       "      <th>Gender</th>\n",
       "      <th>Age</th>\n",
       "      <th>Height</th>\n",
       "      <th>Weight</th>\n",
       "      <th>Duration</th>\n",
       "      <th>Heart_Rate</th>\n",
       "      <th>Body_Temp</th>\n",
       "    </tr>\n",
       "  </thead>\n",
       "  <tbody>\n",
       "    <tr>\n",
       "      <th>0</th>\n",
       "      <td>14733363</td>\n",
       "      <td>male</td>\n",
       "      <td>68</td>\n",
       "      <td>190.0</td>\n",
       "      <td>94.0</td>\n",
       "      <td>29.0</td>\n",
       "      <td>105.0</td>\n",
       "      <td>40.8</td>\n",
       "    </tr>\n",
       "    <tr>\n",
       "      <th>1</th>\n",
       "      <td>14861698</td>\n",
       "      <td>female</td>\n",
       "      <td>20</td>\n",
       "      <td>166.0</td>\n",
       "      <td>60.0</td>\n",
       "      <td>14.0</td>\n",
       "      <td>94.0</td>\n",
       "      <td>40.3</td>\n",
       "    </tr>\n",
       "    <tr>\n",
       "      <th>2</th>\n",
       "      <td>11179863</td>\n",
       "      <td>male</td>\n",
       "      <td>69</td>\n",
       "      <td>179.0</td>\n",
       "      <td>79.0</td>\n",
       "      <td>5.0</td>\n",
       "      <td>88.0</td>\n",
       "      <td>38.7</td>\n",
       "    </tr>\n",
       "    <tr>\n",
       "      <th>3</th>\n",
       "      <td>16180408</td>\n",
       "      <td>female</td>\n",
       "      <td>34</td>\n",
       "      <td>179.0</td>\n",
       "      <td>71.0</td>\n",
       "      <td>13.0</td>\n",
       "      <td>100.0</td>\n",
       "      <td>40.5</td>\n",
       "    </tr>\n",
       "    <tr>\n",
       "      <th>4</th>\n",
       "      <td>17771927</td>\n",
       "      <td>female</td>\n",
       "      <td>27</td>\n",
       "      <td>154.0</td>\n",
       "      <td>58.0</td>\n",
       "      <td>10.0</td>\n",
       "      <td>81.0</td>\n",
       "      <td>39.8</td>\n",
       "    </tr>\n",
       "  </tbody>\n",
       "</table>\n",
       "</div>"
      ],
      "text/plain": [
       "    User_ID  Gender  Age  Height  Weight  Duration  Heart_Rate  Body_Temp\n",
       "0  14733363    male   68   190.0    94.0      29.0       105.0       40.8\n",
       "1  14861698  female   20   166.0    60.0      14.0        94.0       40.3\n",
       "2  11179863    male   69   179.0    79.0       5.0        88.0       38.7\n",
       "3  16180408  female   34   179.0    71.0      13.0       100.0       40.5\n",
       "4  17771927  female   27   154.0    58.0      10.0        81.0       39.8"
      ]
     },
     "execution_count": 5,
     "metadata": {},
     "output_type": "execute_result"
    }
   ],
   "source": [
    "exercise_data.head()"
   ]
  },
  {
   "cell_type": "markdown",
   "metadata": {
    "id": "Vy8B_yTjxxMe"
   },
   "source": [
    "## Combining the two Dataframes"
   ]
  },
  {
   "cell_type": "code",
   "execution_count": 6,
   "metadata": {
    "id": "xlBIi_c2xrNZ"
   },
   "outputs": [],
   "source": [
    "calories_df = pd.concat([exercise_data, calories['Calories']], axis=1)"
   ]
  },
  {
   "cell_type": "code",
   "execution_count": 7,
   "metadata": {
    "colab": {
     "base_uri": "https://localhost:8080/",
     "height": 206
    },
    "id": "eXy6CXmuxrKo",
    "outputId": "a0610870-a279-462d-e2d3-aee872f7c218"
   },
   "outputs": [
    {
     "data": {
      "text/html": [
       "<div>\n",
       "<style scoped>\n",
       "    .dataframe tbody tr th:only-of-type {\n",
       "        vertical-align: middle;\n",
       "    }\n",
       "\n",
       "    .dataframe tbody tr th {\n",
       "        vertical-align: top;\n",
       "    }\n",
       "\n",
       "    .dataframe thead th {\n",
       "        text-align: right;\n",
       "    }\n",
       "</style>\n",
       "<table border=\"1\" class=\"dataframe\">\n",
       "  <thead>\n",
       "    <tr style=\"text-align: right;\">\n",
       "      <th></th>\n",
       "      <th>User_ID</th>\n",
       "      <th>Gender</th>\n",
       "      <th>Age</th>\n",
       "      <th>Height</th>\n",
       "      <th>Weight</th>\n",
       "      <th>Duration</th>\n",
       "      <th>Heart_Rate</th>\n",
       "      <th>Body_Temp</th>\n",
       "      <th>Calories</th>\n",
       "    </tr>\n",
       "  </thead>\n",
       "  <tbody>\n",
       "    <tr>\n",
       "      <th>0</th>\n",
       "      <td>14733363</td>\n",
       "      <td>male</td>\n",
       "      <td>68</td>\n",
       "      <td>190.0</td>\n",
       "      <td>94.0</td>\n",
       "      <td>29.0</td>\n",
       "      <td>105.0</td>\n",
       "      <td>40.8</td>\n",
       "      <td>231.0</td>\n",
       "    </tr>\n",
       "    <tr>\n",
       "      <th>1</th>\n",
       "      <td>14861698</td>\n",
       "      <td>female</td>\n",
       "      <td>20</td>\n",
       "      <td>166.0</td>\n",
       "      <td>60.0</td>\n",
       "      <td>14.0</td>\n",
       "      <td>94.0</td>\n",
       "      <td>40.3</td>\n",
       "      <td>66.0</td>\n",
       "    </tr>\n",
       "    <tr>\n",
       "      <th>2</th>\n",
       "      <td>11179863</td>\n",
       "      <td>male</td>\n",
       "      <td>69</td>\n",
       "      <td>179.0</td>\n",
       "      <td>79.0</td>\n",
       "      <td>5.0</td>\n",
       "      <td>88.0</td>\n",
       "      <td>38.7</td>\n",
       "      <td>26.0</td>\n",
       "    </tr>\n",
       "    <tr>\n",
       "      <th>3</th>\n",
       "      <td>16180408</td>\n",
       "      <td>female</td>\n",
       "      <td>34</td>\n",
       "      <td>179.0</td>\n",
       "      <td>71.0</td>\n",
       "      <td>13.0</td>\n",
       "      <td>100.0</td>\n",
       "      <td>40.5</td>\n",
       "      <td>71.0</td>\n",
       "    </tr>\n",
       "    <tr>\n",
       "      <th>4</th>\n",
       "      <td>17771927</td>\n",
       "      <td>female</td>\n",
       "      <td>27</td>\n",
       "      <td>154.0</td>\n",
       "      <td>58.0</td>\n",
       "      <td>10.0</td>\n",
       "      <td>81.0</td>\n",
       "      <td>39.8</td>\n",
       "      <td>35.0</td>\n",
       "    </tr>\n",
       "  </tbody>\n",
       "</table>\n",
       "</div>"
      ],
      "text/plain": [
       "    User_ID  Gender  Age  Height  Weight  Duration  Heart_Rate  Body_Temp  \\\n",
       "0  14733363    male   68   190.0    94.0      29.0       105.0       40.8   \n",
       "1  14861698  female   20   166.0    60.0      14.0        94.0       40.3   \n",
       "2  11179863    male   69   179.0    79.0       5.0        88.0       38.7   \n",
       "3  16180408  female   34   179.0    71.0      13.0       100.0       40.5   \n",
       "4  17771927  female   27   154.0    58.0      10.0        81.0       39.8   \n",
       "\n",
       "   Calories  \n",
       "0     231.0  \n",
       "1      66.0  \n",
       "2      26.0  \n",
       "3      71.0  \n",
       "4      35.0  "
      ]
     },
     "execution_count": 7,
     "metadata": {},
     "output_type": "execute_result"
    }
   ],
   "source": [
    "calories_df.head()"
   ]
  },
  {
   "cell_type": "code",
   "execution_count": 8,
   "metadata": {
    "colab": {
     "base_uri": "https://localhost:8080/"
    },
    "id": "aANncOhkxrIQ",
    "outputId": "26587aac-671e-4d94-a5ae-a5582f88817d"
   },
   "outputs": [
    {
     "data": {
      "text/plain": [
       "(15000, 9)"
      ]
     },
     "execution_count": 8,
     "metadata": {},
     "output_type": "execute_result"
    }
   ],
   "source": [
    "# checking the number of rows and columns\n",
    "calories_df.shape"
   ]
  },
  {
   "cell_type": "code",
   "execution_count": 9,
   "metadata": {
    "colab": {
     "base_uri": "https://localhost:8080/"
    },
    "id": "VqWjNhJRxrCq",
    "outputId": "a14df9e3-2433-4a75-d714-e9f4a1bbfc6e"
   },
   "outputs": [
    {
     "name": "stdout",
     "output_type": "stream",
     "text": [
      "<class 'pandas.core.frame.DataFrame'>\n",
      "RangeIndex: 15000 entries, 0 to 14999\n",
      "Data columns (total 9 columns):\n",
      " #   Column      Non-Null Count  Dtype  \n",
      "---  ------      --------------  -----  \n",
      " 0   User_ID     15000 non-null  int64  \n",
      " 1   Gender      15000 non-null  object \n",
      " 2   Age         15000 non-null  int64  \n",
      " 3   Height      15000 non-null  float64\n",
      " 4   Weight      15000 non-null  float64\n",
      " 5   Duration    15000 non-null  float64\n",
      " 6   Heart_Rate  15000 non-null  float64\n",
      " 7   Body_Temp   15000 non-null  float64\n",
      " 8   Calories    15000 non-null  float64\n",
      "dtypes: float64(6), int64(2), object(1)\n",
      "memory usage: 1.0+ MB\n"
     ]
    }
   ],
   "source": [
    "# getting some informations about the data\n",
    "calories_df.info()"
   ]
  },
  {
   "cell_type": "code",
   "execution_count": 10,
   "metadata": {
    "colab": {
     "base_uri": "https://localhost:8080/"
    },
    "id": "hmi6mn6hx3_x",
    "outputId": "99841f96-1147-466d-a141-191518ef6a8b"
   },
   "outputs": [
    {
     "data": {
      "text/plain": [
       "User_ID       0\n",
       "Gender        0\n",
       "Age           0\n",
       "Height        0\n",
       "Weight        0\n",
       "Duration      0\n",
       "Heart_Rate    0\n",
       "Body_Temp     0\n",
       "Calories      0\n",
       "dtype: int64"
      ]
     },
     "execution_count": 10,
     "metadata": {},
     "output_type": "execute_result"
    }
   ],
   "source": [
    "# checking for missing values\n",
    "calories_df.isnull().sum()"
   ]
  },
  {
   "cell_type": "code",
   "execution_count": 11,
   "metadata": {
    "colab": {
     "base_uri": "https://localhost:8080/",
     "height": 300
    },
    "id": "Obonpxlrx397",
    "outputId": "0ec81037-5fc8-44f6-9bd4-48c11ab61851"
   },
   "outputs": [
    {
     "data": {
      "text/html": [
       "<div>\n",
       "<style scoped>\n",
       "    .dataframe tbody tr th:only-of-type {\n",
       "        vertical-align: middle;\n",
       "    }\n",
       "\n",
       "    .dataframe tbody tr th {\n",
       "        vertical-align: top;\n",
       "    }\n",
       "\n",
       "    .dataframe thead th {\n",
       "        text-align: right;\n",
       "    }\n",
       "</style>\n",
       "<table border=\"1\" class=\"dataframe\">\n",
       "  <thead>\n",
       "    <tr style=\"text-align: right;\">\n",
       "      <th></th>\n",
       "      <th>User_ID</th>\n",
       "      <th>Age</th>\n",
       "      <th>Height</th>\n",
       "      <th>Weight</th>\n",
       "      <th>Duration</th>\n",
       "      <th>Heart_Rate</th>\n",
       "      <th>Body_Temp</th>\n",
       "      <th>Calories</th>\n",
       "    </tr>\n",
       "  </thead>\n",
       "  <tbody>\n",
       "    <tr>\n",
       "      <th>count</th>\n",
       "      <td>1.500000e+04</td>\n",
       "      <td>15000.000000</td>\n",
       "      <td>15000.000000</td>\n",
       "      <td>15000.000000</td>\n",
       "      <td>15000.000000</td>\n",
       "      <td>15000.000000</td>\n",
       "      <td>15000.000000</td>\n",
       "      <td>15000.000000</td>\n",
       "    </tr>\n",
       "    <tr>\n",
       "      <th>mean</th>\n",
       "      <td>1.497736e+07</td>\n",
       "      <td>42.789800</td>\n",
       "      <td>174.465133</td>\n",
       "      <td>74.966867</td>\n",
       "      <td>15.530600</td>\n",
       "      <td>95.518533</td>\n",
       "      <td>40.025453</td>\n",
       "      <td>89.539533</td>\n",
       "    </tr>\n",
       "    <tr>\n",
       "      <th>std</th>\n",
       "      <td>2.872851e+06</td>\n",
       "      <td>16.980264</td>\n",
       "      <td>14.258114</td>\n",
       "      <td>15.035657</td>\n",
       "      <td>8.319203</td>\n",
       "      <td>9.583328</td>\n",
       "      <td>0.779230</td>\n",
       "      <td>62.456978</td>\n",
       "    </tr>\n",
       "    <tr>\n",
       "      <th>min</th>\n",
       "      <td>1.000116e+07</td>\n",
       "      <td>20.000000</td>\n",
       "      <td>123.000000</td>\n",
       "      <td>36.000000</td>\n",
       "      <td>1.000000</td>\n",
       "      <td>67.000000</td>\n",
       "      <td>37.100000</td>\n",
       "      <td>1.000000</td>\n",
       "    </tr>\n",
       "    <tr>\n",
       "      <th>25%</th>\n",
       "      <td>1.247419e+07</td>\n",
       "      <td>28.000000</td>\n",
       "      <td>164.000000</td>\n",
       "      <td>63.000000</td>\n",
       "      <td>8.000000</td>\n",
       "      <td>88.000000</td>\n",
       "      <td>39.600000</td>\n",
       "      <td>35.000000</td>\n",
       "    </tr>\n",
       "    <tr>\n",
       "      <th>50%</th>\n",
       "      <td>1.499728e+07</td>\n",
       "      <td>39.000000</td>\n",
       "      <td>175.000000</td>\n",
       "      <td>74.000000</td>\n",
       "      <td>16.000000</td>\n",
       "      <td>96.000000</td>\n",
       "      <td>40.200000</td>\n",
       "      <td>79.000000</td>\n",
       "    </tr>\n",
       "    <tr>\n",
       "      <th>75%</th>\n",
       "      <td>1.744928e+07</td>\n",
       "      <td>56.000000</td>\n",
       "      <td>185.000000</td>\n",
       "      <td>87.000000</td>\n",
       "      <td>23.000000</td>\n",
       "      <td>103.000000</td>\n",
       "      <td>40.600000</td>\n",
       "      <td>138.000000</td>\n",
       "    </tr>\n",
       "    <tr>\n",
       "      <th>max</th>\n",
       "      <td>1.999965e+07</td>\n",
       "      <td>79.000000</td>\n",
       "      <td>222.000000</td>\n",
       "      <td>132.000000</td>\n",
       "      <td>30.000000</td>\n",
       "      <td>128.000000</td>\n",
       "      <td>41.500000</td>\n",
       "      <td>314.000000</td>\n",
       "    </tr>\n",
       "  </tbody>\n",
       "</table>\n",
       "</div>"
      ],
      "text/plain": [
       "            User_ID           Age        Height        Weight      Duration  \\\n",
       "count  1.500000e+04  15000.000000  15000.000000  15000.000000  15000.000000   \n",
       "mean   1.497736e+07     42.789800    174.465133     74.966867     15.530600   \n",
       "std    2.872851e+06     16.980264     14.258114     15.035657      8.319203   \n",
       "min    1.000116e+07     20.000000    123.000000     36.000000      1.000000   \n",
       "25%    1.247419e+07     28.000000    164.000000     63.000000      8.000000   \n",
       "50%    1.499728e+07     39.000000    175.000000     74.000000     16.000000   \n",
       "75%    1.744928e+07     56.000000    185.000000     87.000000     23.000000   \n",
       "max    1.999965e+07     79.000000    222.000000    132.000000     30.000000   \n",
       "\n",
       "         Heart_Rate     Body_Temp      Calories  \n",
       "count  15000.000000  15000.000000  15000.000000  \n",
       "mean      95.518533     40.025453     89.539533  \n",
       "std        9.583328      0.779230     62.456978  \n",
       "min       67.000000     37.100000      1.000000  \n",
       "25%       88.000000     39.600000     35.000000  \n",
       "50%       96.000000     40.200000     79.000000  \n",
       "75%      103.000000     40.600000    138.000000  \n",
       "max      128.000000     41.500000    314.000000  "
      ]
     },
     "execution_count": 11,
     "metadata": {},
     "output_type": "execute_result"
    }
   ],
   "source": [
    "# get some statistical measures about the data\n",
    "calories_df.describe()"
   ]
  },
  {
   "cell_type": "markdown",
   "metadata": {
    "id": "vP9mHhOAx827"
   },
   "source": [
    "## Data Visualization"
   ]
  },
  {
   "cell_type": "code",
   "execution_count": 12,
   "metadata": {
    "id": "sQvJ2V9Ox37V"
   },
   "outputs": [],
   "source": [
    "sns.set()"
   ]
  },
  {
   "cell_type": "code",
   "execution_count": 13,
   "metadata": {
    "colab": {
     "base_uri": "https://localhost:8080/",
     "height": 357
    },
    "id": "lrL0YmHRx34l",
    "outputId": "d1d7c59f-fe7d-41a9-d546-3d27fe62bc88"
   },
   "outputs": [
    {
     "name": "stderr",
     "output_type": "stream",
     "text": [
      "D:\\Anaconda\\lib\\site-packages\\seaborn\\_decorators.py:36: FutureWarning: Pass the following variable as a keyword arg: x. From version 0.12, the only valid positional argument will be `data`, and passing other arguments without an explicit keyword will result in an error or misinterpretation.\n",
      "  warnings.warn(\n"
     ]
    },
    {
     "data": {
      "text/plain": [
       "<matplotlib.axes._subplots.AxesSubplot at 0x28168a9bbe0>"
      ]
     },
     "execution_count": 13,
     "metadata": {},
     "output_type": "execute_result"
    },
    {
     "data": {
      "image/png": "[encoded data removed]",
      "text/plain": [
       "<Figure size 432x288 with 1 Axes>"
      ]
     },
     "metadata": {},
     "output_type": "display_data"
    }
   ],
   "source": [
    "# plotting the gender column in count plot\n",
    "sns.countplot(calories_df['Gender'])"
   ]
  },
  {
   "cell_type": "code",
   "execution_count": 14,
   "metadata": {
    "colab": {
     "base_uri": "https://localhost:8080/",
     "height": 357
    },
    "id": "kZkR-Rnux3z9",
    "outputId": "7fc55bf1-c1ab-488b-d419-bf17173cc880"
   },
   "outputs": [
    {
     "name": "stderr",
     "output_type": "stream",
     "text": [
      "D:\\Anaconda\\lib\\site-packages\\seaborn\\distributions.py:2557: FutureWarning: `distplot` is a deprecated function and will be removed in a future version. Please adapt your code to use either `displot` (a figure-level function with similar flexibility) or `histplot` (an axes-level function for histograms).\n",
      "  warnings.warn(msg, FutureWarning)\n"
     ]
    },
    {
     "data": {
      "text/plain": [
       "<matplotlib.axes._subplots.AxesSubplot at 0x28168b4ca60>"
      ]
     },
     "execution_count": 14,
     "metadata": {},
     "output_type": "execute_result"
    },
    {
     "data": {
      "image/png": "[encoded data removed]",
      "text/plain": [
       "<Figure size 432x288 with 1 Axes>"
      ]
     },
     "metadata": {},
     "output_type": "display_data"
    }
   ],
   "source": [
    "# finding the distribution of \"Age\" column\n",
    "sns.distplot(calories_df['Age'])"
   ]
  },
  {
   "cell_type": "code",
   "execution_count": 15,
   "metadata": {
    "colab": {
     "base_uri": "https://localhost:8080/",
     "height": 357
    },
    "id": "g3lg6Ymhx3xV",
    "outputId": "b67c8a8c-a664-4b01-e2d3-c89f4b4fe0a7"
   },
   "outputs": [
    {
     "name": "stderr",
     "output_type": "stream",
     "text": [
      "D:\\Anaconda\\lib\\site-packages\\seaborn\\distributions.py:2557: FutureWarning: `distplot` is a deprecated function and will be removed in a future version. Please adapt your code to use either `displot` (a figure-level function with similar flexibility) or `histplot` (an axes-level function for histograms).\n",
      "  warnings.warn(msg, FutureWarning)\n"
     ]
    },
    {
     "data": {
      "text/plain": [
       "<matplotlib.axes._subplots.AxesSubplot at 0x28169349f70>"
      ]
     },
     "execution_count": 15,
     "metadata": {},
     "output_type": "execute_result"
    },
    {
     "data": {
      "image/png": "[encoded data removed]",
      "text/plain": [
       "<Figure size 432x288 with 1 Axes>"
      ]
     },
     "metadata": {},
     "output_type": "display_data"
    }
   ],
   "source": [
    "# finding the distribution of \"Height\" column\n",
    "sns.distplot(calories_df['Height'])"
   ]
  },
  {
   "cell_type": "code",
   "execution_count": 16,
   "metadata": {
    "colab": {
     "base_uri": "https://localhost:8080/",
     "height": 357
    },
    "id": "yh_pYTN8x3ub",
    "outputId": "b3a540c4-c45d-4f75-e94b-5d246153a261"
   },
   "outputs": [
    {
     "name": "stderr",
     "output_type": "stream",
     "text": [
      "D:\\Anaconda\\lib\\site-packages\\seaborn\\distributions.py:2557: FutureWarning: `distplot` is a deprecated function and will be removed in a future version. Please adapt your code to use either `displot` (a figure-level function with similar flexibility) or `histplot` (an axes-level function for histograms).\n",
      "  warnings.warn(msg, FutureWarning)\n"
     ]
    },
    {
     "data": {
      "text/plain": [
       "<matplotlib.axes._subplots.AxesSubplot at 0x28168c8e850>"
      ]
     },
     "execution_count": 16,
     "metadata": {},
     "output_type": "execute_result"
    },
    {
     "data": {
      "image/png": "[encoded data removed]",
      "text/plain": [
       "<Figure size 432x288 with 1 Axes>"
      ]
     },
     "metadata": {},
     "output_type": "display_data"
    }
   ],
   "source": [
    "# finding the distribution of \"Weight\" column\n",
    "sns.distplot(calories_df['Weight'])"
   ]
  },
  {
   "cell_type": "markdown",
   "metadata": {
    "id": "YIs4GVfTyJTE"
   },
   "source": [
    "## Finding the Correlation in the dataset"
   ]
  },
  {
   "cell_type": "code",
   "execution_count": 17,
   "metadata": {
    "id": "rq2j6XDux3r7"
   },
   "outputs": [],
   "source": [
    "correlation = calories_df.corr()"
   ]
  },
  {
   "cell_type": "code",
   "execution_count": 18,
   "metadata": {
    "colab": {
     "base_uri": "https://localhost:8080/",
     "height": 619
    },
    "id": "8rmJU4XByE0R",
    "outputId": "79fd79f3-2dd8-48e7-d400-1e9e5e83473c"
   },
   "outputs": [
    {
     "data": {
      "text/plain": [
       "<matplotlib.axes._subplots.AxesSubplot at 0x281694e2670>"
      ]
     },
     "execution_count": 18,
     "metadata": {},
     "output_type": "execute_result"
    },
    {
     "data": {
      "image/png": "[encoded data removed]",
      "text/plain": [
       "<Figure size 720x720 with 2 Axes>"
      ]
     },
     "metadata": {},
     "output_type": "display_data"
    }
   ],
   "source": [
    "# constructing a heatmap to understand the correlation\n",
    "\n",
    "plt.figure(figsize=(10,10))\n",
    "sns.heatmap(correlation, cbar=True, square=True, fmt='.1f', annot=True, annot_kws={'size':8}, cmap='Blues')\n"
   ]
  },
  {
   "cell_type": "markdown",
   "metadata": {
    "id": "TxeNI04KyOE8"
   },
   "source": [
    "## Converting the text data to numerical values"
   ]
  },
  {
   "cell_type": "code",
   "execution_count": 19,
   "metadata": {
    "id": "tjR4hrYtyEx7"
   },
   "outputs": [],
   "source": [
    "calories_df.replace({\"Gender\":{'male':0,'female':1}}, inplace=True)"
   ]
  },
  {
   "cell_type": "code",
   "execution_count": 20,
   "metadata": {
    "colab": {
     "base_uri": "https://localhost:8080/",
     "height": 206
    },
    "id": "B0Ac-tSSyEvU",
    "outputId": "15d9e9d4-6a7c-4d23-eb1a-1e805dd08b5d"
   },
   "outputs": [
    {
     "data": {
      "text/html": [
       "<div>\n",
       "<style scoped>\n",
       "    .dataframe tbody tr th:only-of-type {\n",
       "        vertical-align: middle;\n",
       "    }\n",
       "\n",
       "    .dataframe tbody tr th {\n",
       "        vertical-align: top;\n",
       "    }\n",
       "\n",
       "    .dataframe thead th {\n",
       "        text-align: right;\n",
       "    }\n",
       "</style>\n",
       "<table border=\"1\" class=\"dataframe\">\n",
       "  <thead>\n",
       "    <tr style=\"text-align: right;\">\n",
       "      <th></th>\n",
       "      <th>User_ID</th>\n",
       "      <th>Gender</th>\n",
       "      <th>Age</th>\n",
       "      <th>Height</th>\n",
       "      <th>Weight</th>\n",
       "      <th>Duration</th>\n",
       "      <th>Heart_Rate</th>\n",
       "      <th>Body_Temp</th>\n",
       "      <th>Calories</th>\n",
       "    </tr>\n",
       "  </thead>\n",
       "  <tbody>\n",
       "    <tr>\n",
       "      <th>0</th>\n",
       "      <td>14733363</td>\n",
       "      <td>0</td>\n",
       "      <td>68</td>\n",
       "      <td>190.0</td>\n",
       "      <td>94.0</td>\n",
       "      <td>29.0</td>\n",
       "      <td>105.0</td>\n",
       "      <td>40.8</td>\n",
       "      <td>231.0</td>\n",
       "    </tr>\n",
       "    <tr>\n",
       "      <th>1</th>\n",
       "      <td>14861698</td>\n",
       "      <td>1</td>\n",
       "      <td>20</td>\n",
       "      <td>166.0</td>\n",
       "      <td>60.0</td>\n",
       "      <td>14.0</td>\n",
       "      <td>94.0</td>\n",
       "      <td>40.3</td>\n",
       "      <td>66.0</td>\n",
       "    </tr>\n",
       "    <tr>\n",
       "      <th>2</th>\n",
       "      <td>11179863</td>\n",
       "      <td>0</td>\n",
       "      <td>69</td>\n",
       "      <td>179.0</td>\n",
       "      <td>79.0</td>\n",
       "      <td>5.0</td>\n",
       "      <td>88.0</td>\n",
       "      <td>38.7</td>\n",
       "      <td>26.0</td>\n",
       "    </tr>\n",
       "    <tr>\n",
       "      <th>3</th>\n",
       "      <td>16180408</td>\n",
       "      <td>1</td>\n",
       "      <td>34</td>\n",
       "      <td>179.0</td>\n",
       "      <td>71.0</td>\n",
       "      <td>13.0</td>\n",
       "      <td>100.0</td>\n",
       "      <td>40.5</td>\n",
       "      <td>71.0</td>\n",
       "    </tr>\n",
       "    <tr>\n",
       "      <th>4</th>\n",
       "      <td>17771927</td>\n",
       "      <td>1</td>\n",
       "      <td>27</td>\n",
       "      <td>154.0</td>\n",
       "      <td>58.0</td>\n",
       "      <td>10.0</td>\n",
       "      <td>81.0</td>\n",
       "      <td>39.8</td>\n",
       "      <td>35.0</td>\n",
       "    </tr>\n",
       "  </tbody>\n",
       "</table>\n",
       "</div>"
      ],
      "text/plain": [
       "    User_ID  Gender  Age  Height  Weight  Duration  Heart_Rate  Body_Temp  \\\n",
       "0  14733363       0   68   190.0    94.0      29.0       105.0       40.8   \n",
       "1  14861698       1   20   166.0    60.0      14.0        94.0       40.3   \n",
       "2  11179863       0   69   179.0    79.0       5.0        88.0       38.7   \n",
       "3  16180408       1   34   179.0    71.0      13.0       100.0       40.5   \n",
       "4  17771927       1   27   154.0    58.0      10.0        81.0       39.8   \n",
       "\n",
       "   Calories  \n",
       "0     231.0  \n",
       "1      66.0  \n",
       "2      26.0  \n",
       "3      71.0  \n",
       "4      35.0  "
      ]
     },
     "execution_count": 20,
     "metadata": {},
     "output_type": "execute_result"
    }
   ],
   "source": [
    "calories_df.head()"
   ]
  },
  {
   "cell_type": "markdown",
   "metadata": {
    "id": "BvVi7SUByS73"
   },
   "source": [
    "## Separating features and Target"
   ]
  },
  {
   "cell_type": "code",
   "execution_count": 21,
   "metadata": {
    "id": "xlwKMUVNyErI"
   },
   "outputs": [],
   "source": [
    "X = calories_df.drop(columns=['User_ID','Calories'], axis=1)\n",
    "Y = calories_df['Calories']"
   ]
  },
  {
   "cell_type": "code",
   "execution_count": 22,
   "metadata": {
    "colab": {
     "base_uri": "https://localhost:8080/"
    },
    "id": "Ro0eEnyWyTw_",
    "outputId": "4161163b-f632-42a5-c20c-9248e1eadc17"
   },
   "outputs": [
    {
     "name": "stdout",
     "output_type": "stream",
     "text": [
      "       Gender  Age  Height  Weight  Duration  Heart_Rate  Body_Temp\n",
      "0           0   68   190.0    94.0      29.0       105.0       40.8\n",
      "1           1   20   166.0    60.0      14.0        94.0       40.3\n",
      "2           0   69   179.0    79.0       5.0        88.0       38.7\n",
      "3           1   34   179.0    71.0      13.0       100.0       40.5\n",
      "4           1   27   154.0    58.0      10.0        81.0       39.8\n",
      "...       ...  ...     ...     ...       ...         ...        ...\n",
      "14995       1   20   193.0    86.0      11.0        92.0       40.4\n",
      "14996       1   27   165.0    65.0       6.0        85.0       39.2\n",
      "14997       1   43   159.0    58.0      16.0        90.0       40.1\n",
      "14998       0   78   193.0    97.0       2.0        84.0       38.3\n",
      "14999       0   63   173.0    79.0      18.0        92.0       40.5\n",
      "\n",
      "[15000 rows x 7 columns]\n"
     ]
    }
   ],
   "source": [
    "print(X)"
   ]
  },
  {
   "cell_type": "code",
   "execution_count": 23,
   "metadata": {
    "colab": {
     "base_uri": "https://localhost:8080/"
    },
    "id": "fOWpIZAxyTuz",
    "outputId": "eef16770-d0fa-4b6b-ee06-7301692fc850"
   },
   "outputs": [
    {
     "name": "stdout",
     "output_type": "stream",
     "text": [
      "0        231.0\n",
      "1         66.0\n",
      "2         26.0\n",
      "3         71.0\n",
      "4         35.0\n",
      "         ...  \n",
      "14995     45.0\n",
      "14996     23.0\n",
      "14997     75.0\n",
      "14998     11.0\n",
      "14999     98.0\n",
      "Name: Calories, Length: 15000, dtype: float64\n"
     ]
    }
   ],
   "source": [
    "print(Y)"
   ]
  },
  {
   "cell_type": "markdown",
   "metadata": {
    "id": "yvP0d1gwyZw4"
   },
   "source": [
    "## Splitting the data into training data and Test data"
   ]
  },
  {
   "cell_type": "code",
   "execution_count": 24,
   "metadata": {
    "id": "0_XA0eCv3Sea"
   },
   "outputs": [],
   "source": [
    "from sklearn.model_selection import train_test_split"
   ]
  },
  {
   "cell_type": "code",
   "execution_count": 25,
   "metadata": {
    "id": "Ee8v6LQzyTsK"
   },
   "outputs": [],
   "source": [
    "X_train, X_test, Y_train, Y_test = train_test_split(X, Y, test_size=0.2, random_state=2)"
   ]
  },
  {
   "cell_type": "code",
   "execution_count": 26,
   "metadata": {
    "colab": {
     "base_uri": "https://localhost:8080/"
    },
    "id": "xoUygQYtyEoy",
    "outputId": "c123a026-d941-4bee-fec8-e2182c0d78b0"
   },
   "outputs": [
    {
     "name": "stdout",
     "output_type": "stream",
     "text": [
      "(15000, 7) (12000, 7) (3000, 7)\n"
     ]
    }
   ],
   "source": [
    "print(X.shape, X_train.shape, X_test.shape)"
   ]
  },
  {
   "cell_type": "markdown",
   "metadata": {
    "id": "tDUsQZVhyfRy"
   },
   "source": [
    "## Model Training"
   ]
  },
  {
   "cell_type": "markdown",
   "metadata": {
    "id": "6FYJmq_TyhPJ"
   },
   "source": [
    "## 1. XGBoost Regressor"
   ]
  },
  {
   "cell_type": "markdown",
   "metadata": {
    "id": "2D0C8LPj9iMq"
   },
   "source": [
    "Extreme Gradient Boosting (XGBoost) is an open-source library that provides an efficient and effective implementation of the gradient boosting algorithm.\n",
    "\n",
    "Regression predictive modeling problems involve predicting a numerical value such as a dollar amount or a height. XGBoost can be used directly for regression predictive modeling."
   ]
  },
  {
   "cell_type": "code",
   "execution_count": 27,
   "metadata": {
    "colab": {
     "base_uri": "https://localhost:8080/"
    },
    "id": "EGGZjeZa3UsX",
    "outputId": "8db4870e-b145-4372-b4cd-85604b3d7ac3"
   },
   "outputs": [
    {
     "name": "stdout",
     "output_type": "stream",
     "text": [
      "[127.823784 226.00154   38.66253  ... 144.3636    22.767195  89.87375 ]\n"
     ]
    }
   ],
   "source": [
    "#!pip install xgboost\n",
    "from xgboost import XGBRegressor\n",
    "# loading the model\n",
    "model1 = XGBRegressor()\n",
    "# training the model with X_train\n",
    "model1.fit(X_train, Y_train)\n",
    "\n",
    "#test data predictions\n",
    "test_data_prediction1 = model1.predict(X_test)\n",
    "print(test_data_prediction1)\n"
   ]
  },
  {
   "cell_type": "markdown",
   "metadata": {
    "id": "nBbvGOyR7sfY"
   },
   "source": [
    "Mean absolute error"
   ]
  },
  {
   "cell_type": "code",
   "execution_count": 28,
   "metadata": {
    "colab": {
     "base_uri": "https://localhost:8080/"
    },
    "id": "mm_RbN6B7pi_",
    "outputId": "9ac6633e-81ef-47d4-9ace-f9c87fcc3b1a"
   },
   "outputs": [
    {
     "name": "stdout",
     "output_type": "stream",
     "text": [
      "Mean Absolute Error =  1.4807048829992613\n"
     ]
    }
   ],
   "source": [
    "mae = metrics.mean_absolute_error(Y_test, test_data_prediction1)\n",
    "print(\"Mean Absolute Error = \", mae)"
   ]
  },
  {
   "cell_type": "markdown",
   "metadata": {
    "id": "ipw19G_42kcn"
   },
   "source": [
    "## 2. RandomForestRegressor"
   ]
  },
  {
   "cell_type": "markdown",
   "metadata": {
    "id": "hqjRi_ik92Ai"
   },
   "source": [
    "Random forest adds additional randomness to the model, while growing the trees. Instead of searching for the most important feature while splitting a node, it searches for the best feature among a random subset of features. This results in a wide diversity that generally results in a better model."
   ]
  },
  {
   "cell_type": "code",
   "execution_count": 29,
   "metadata": {
    "colab": {
     "base_uri": "https://localhost:8080/"
    },
    "id": "gISt_CrX1eGk",
    "outputId": "f8a434ab-5706-446b-c581-c89a83d6326c"
   },
   "outputs": [
    {
     "name": "stdout",
     "output_type": "stream",
     "text": [
      "[128.36 224.07  36.79 ... 146.58  23.87  89.94]\n"
     ]
    }
   ],
   "source": [
    "from sklearn.ensemble import RandomForestRegressor\n",
    "model2 = RandomForestRegressor(n_estimators=100,random_state=0)\n",
    "model2.fit(X_train,Y_train)\n",
    "test_data_prediction2 = model2.predict(X_test)\n",
    "print(test_data_prediction2)"
   ]
  },
  {
   "cell_type": "code",
   "execution_count": 30,
   "metadata": {
    "colab": {
     "base_uri": "https://localhost:8080/"
    },
    "id": "HfsOSSdO7yv6",
    "outputId": "052daf62-bc05-4cd0-d091-7ab7c7ef6f84"
   },
   "outputs": [
    {
     "name": "stdout",
     "output_type": "stream",
     "text": [
      "Mean Absolute Error =  1.6832766666666665\n"
     ]
    }
   ],
   "source": [
    "mae = metrics.mean_absolute_error(Y_test, test_data_prediction2)\n",
    "print(\"Mean Absolute Error = \", mae)"
   ]
  },
  {
   "cell_type": "markdown",
   "metadata": {
    "id": "Ay67inKg6k1I"
   },
   "source": [
    "## 3. Support Vector Machine - SVR"
   ]
  },
  {
   "cell_type": "markdown",
   "metadata": {
    "id": "DMH1XB4P-O7Z"
   },
   "source": [
    "Supervised Machine Learning Models with associated learning algorithms that analyze data for classification and regression analysis are known as Support Vector Regression. SVR is built based on the concept of Support Vector Machine or SVM. It is one among the popular Machine Learning models that can be used in classification problems or assigning classes when the data is not linearly separable."
   ]
  },
  {
   "cell_type": "code",
   "execution_count": 31,
   "metadata": {
    "colab": {
     "base_uri": "https://localhost:8080/"
    },
    "id": "uaBn4r8t4BRU",
    "outputId": "e56c05b0-57d5-4ca3-aff3-faba4d80e63a"
   },
   "outputs": [
    {
     "name": "stdout",
     "output_type": "stream",
     "text": [
      "[123.04017365 173.117781    56.41704389 ... 138.00300555  22.00311932\n",
      "  94.25110648]\n"
     ]
    }
   ],
   "source": [
    "from sklearn import svm\n",
    "model3 = svm.SVR()\n",
    "model3.fit(X_train,Y_train)\n",
    "test_data_prediction3 = model3.predict(X_test)\n",
    "print(test_data_prediction3)"
   ]
  },
  {
   "cell_type": "code",
   "execution_count": 32,
   "metadata": {
    "colab": {
     "base_uri": "https://localhost:8080/"
    },
    "id": "Dt3J7gwc72I2",
    "outputId": "59b40a13-9ee2-4954-f52e-03608ed79e2e"
   },
   "outputs": [
    {
     "name": "stdout",
     "output_type": "stream",
     "text": [
      "Mean Absolute Error =  10.620614362927721\n"
     ]
    }
   ],
   "source": [
    "mae = metrics.mean_absolute_error(Y_test, test_data_prediction3)\n",
    "print(\"Mean Absolute Error = \", mae)"
   ]
  },
  {
   "cell_type": "markdown",
   "metadata": {
    "id": "W2f62qYY6_QW"
   },
   "source": [
    "## 4. Catboost"
   ]
  },
  {
   "cell_type": "markdown",
   "metadata": {
    "id": "VwaN4rQ99Oo0"
   },
   "source": [
    "CatBoost is a recently open-sourced machine learning algorithm from Yandex. It can easily integrate with deep learning frameworks like Google’s TensorFlow and Apple’s Core ML. It can work with diverse data types to help solve a wide range of problems that businesses face today. To top it up, it provides best-in-class accuracy.\n",
    "\n",
    "It is especially powerful in two ways:\n",
    "\n",
    "* It yields state-of-the-art results without extensive data training typically required by other machine learning methods, and\n",
    "* Provides powerful out-of-the-box support for the more descriptive data formats that accompany many business problems.\n",
    "\n",
    "“CatBoost” name comes from two words “Category” and “Boosting”."
   ]
  },
  {
   "cell_type": "code",
   "execution_count": 33,
   "metadata": {
    "id": "l_C_kMjs7BdO"
   },
   "outputs": [
    {
     "name": "stdout",
     "output_type": "stream",
     "text": [
      "Collecting catboost\n",
      "  Downloading catboost-1.0.4-cp38-none-win_amd64.whl (73.5 MB)\n",
      "Collecting graphviz\n",
      "  Downloading graphviz-0.19.1-py3-none-any.whl (46 kB)\n",
      "Requirement already satisfied: numpy>=1.16.0 in d:\\anaconda\\lib\\site-packages (from catboost) (1.20.1)\n",
      "Requirement already satisfied: plotly in d:\\anaconda\\lib\\site-packages (from catboost) (5.6.0)\n",
      "Requirement already satisfied: matplotlib in d:\\anaconda\\lib\\site-packages (from catboost) (3.1.3)\n",
      "Requirement already satisfied: scipy in d:\\anaconda\\lib\\site-packages (from catboost) (1.6.2)\n",
      "Requirement already satisfied: pandas>=0.24.0 in d:\\anaconda\\lib\\site-packages (from catboost) (1.2.4)\n",
      "Requirement already satisfied: six in d:\\anaconda\\lib\\site-packages (from catboost) (1.15.0)\n",
      "Requirement already satisfied: python-dateutil>=2.7.3 in d:\\anaconda\\lib\\site-packages (from pandas>=0.24.0->catboost) (2.8.1)\n",
      "Requirement already satisfied: pytz>=2017.3 in d:\\anaconda\\lib\\site-packages (from pandas>=0.24.0->catboost) (2021.1)\n",
      "Requirement already satisfied: cycler>=0.10 in d:\\anaconda\\lib\\site-packages (from matplotlib->catboost) (0.10.0)\n",
      "Requirement already satisfied: kiwisolver>=1.0.1 in d:\\anaconda\\lib\\site-packages (from matplotlib->catboost) (1.3.1)\n",
      "Requirement already satisfied: pyparsing!=2.0.4,!=2.1.2,!=2.1.6,>=2.0.1 in d:\\anaconda\\lib\\site-packages (from matplotlib->catboost) (2.4.7)\n",
      "Requirement already satisfied: tenacity>=6.2.0 in d:\\anaconda\\lib\\site-packages (from plotly->catboost) (8.0.1)\n",
      "Installing collected packages: graphviz, catboost\n",
      "Successfully installed catboost-1.0.4 graphviz-0.19.1\n"
     ]
    }
   ],
   "source": [
    "!pip install catboost"
   ]
  },
  {
   "cell_type": "code",
   "execution_count": 34,
   "metadata": {
    "id": "_DeY9fkY7Ba6"
   },
   "outputs": [
    {
     "name": "stdout",
     "output_type": "stream",
     "text": [
      "Learning rate set to 0.06063\n",
      "0:\tlearn: 59.0633191\ttotal: 140ms\tremaining: 2m 19s\n",
      "1:\tlearn: 55.8781450\ttotal: 142ms\tremaining: 1m 11s\n",
      "2:\tlearn: 52.8127867\ttotal: 145ms\tremaining: 48.2s\n",
      "3:\tlearn: 49.9519531\ttotal: 148ms\tremaining: 36.8s\n",
      "4:\tlearn: 47.3023222\ttotal: 151ms\tremaining: 29.9s\n",
      "5:\tlearn: 44.7787389\ttotal: 153ms\tremaining: 25.4s\n",
      "6:\tlearn: 42.4222618\ttotal: 157ms\tremaining: 22.3s\n",
      "7:\tlearn: 40.2724922\ttotal: 160ms\tremaining: 19.8s\n",
      "8:\tlearn: 38.1889349\ttotal: 162ms\tremaining: 17.9s\n",
      "9:\tlearn: 36.1544597\ttotal: 165ms\tremaining: 16.3s\n",
      "10:\tlearn: 34.3390111\ttotal: 168ms\tremaining: 15.1s\n",
      "11:\tlearn: 32.5985595\ttotal: 171ms\tremaining: 14.1s\n",
      "12:\tlearn: 30.9249778\ttotal: 174ms\tremaining: 13.2s\n",
      "13:\tlearn: 29.3711851\ttotal: 176ms\tremaining: 12.4s\n",
      "14:\tlearn: 27.8473666\ttotal: 179ms\tremaining: 11.8s\n",
      "15:\tlearn: 26.4267625\ttotal: 182ms\tremaining: 11.2s\n",
      "16:\tlearn: 25.0811706\ttotal: 184ms\tremaining: 10.7s\n",
      "17:\tlearn: 23.8648622\ttotal: 187ms\tremaining: 10.2s\n",
      "18:\tlearn: 22.7237102\ttotal: 190ms\tremaining: 9.8s\n",
      "19:\tlearn: 21.6611551\ttotal: 192ms\tremaining: 9.42s\n",
      "20:\tlearn: 20.6770568\ttotal: 195ms\tremaining: 9.07s\n",
      "21:\tlearn: 19.6892993\ttotal: 197ms\tremaining: 8.76s\n",
      "22:\tlearn: 18.7691610\ttotal: 199ms\tremaining: 8.47s\n",
      "23:\tlearn: 17.8760907\ttotal: 202ms\tremaining: 8.2s\n",
      "24:\tlearn: 17.0546717\ttotal: 204ms\tremaining: 7.96s\n",
      "25:\tlearn: 16.2641349\ttotal: 207ms\tremaining: 7.74s\n",
      "26:\tlearn: 15.5578083\ttotal: 209ms\tremaining: 7.54s\n",
      "27:\tlearn: 14.8563551\ttotal: 212ms\tremaining: 7.34s\n",
      "28:\tlearn: 14.2016656\ttotal: 214ms\tremaining: 7.16s\n",
      "29:\tlearn: 13.5938208\ttotal: 216ms\tremaining: 7s\n",
      "30:\tlearn: 13.0154845\ttotal: 219ms\tremaining: 6.84s\n",
      "31:\tlearn: 12.4462559\ttotal: 222ms\tremaining: 6.7s\n",
      "32:\tlearn: 11.9093936\ttotal: 224ms\tremaining: 6.57s\n",
      "33:\tlearn: 11.4283153\ttotal: 227ms\tremaining: 6.44s\n",
      "34:\tlearn: 10.9722469\ttotal: 229ms\tremaining: 6.31s\n",
      "35:\tlearn: 10.5370326\ttotal: 231ms\tremaining: 6.2s\n",
      "36:\tlearn: 10.1181411\ttotal: 234ms\tremaining: 6.09s\n",
      "37:\tlearn: 9.7413273\ttotal: 236ms\tremaining: 5.99s\n",
      "38:\tlearn: 9.3611011\ttotal: 239ms\tremaining: 5.89s\n",
      "39:\tlearn: 8.9990246\ttotal: 241ms\tremaining: 5.79s\n",
      "40:\tlearn: 8.6918078\ttotal: 244ms\tremaining: 5.7s\n",
      "41:\tlearn: 8.3919829\ttotal: 246ms\tremaining: 5.61s\n",
      "42:\tlearn: 8.0966012\ttotal: 248ms\tremaining: 5.53s\n",
      "43:\tlearn: 7.8268487\ttotal: 251ms\tremaining: 5.45s\n",
      "44:\tlearn: 7.5634937\ttotal: 253ms\tremaining: 5.37s\n",
      "45:\tlearn: 7.3131746\ttotal: 255ms\tremaining: 5.3s\n",
      "46:\tlearn: 7.0724362\ttotal: 258ms\tremaining: 5.23s\n",
      "47:\tlearn: 6.8557501\ttotal: 260ms\tremaining: 5.16s\n",
      "48:\tlearn: 6.6506116\ttotal: 263ms\tremaining: 5.1s\n",
      "49:\tlearn: 6.4701173\ttotal: 265ms\tremaining: 5.03s\n",
      "50:\tlearn: 6.2757292\ttotal: 267ms\tremaining: 4.97s\n",
      "51:\tlearn: 6.1028366\ttotal: 269ms\tremaining: 4.91s\n",
      "52:\tlearn: 5.9458428\ttotal: 272ms\tremaining: 4.85s\n",
      "53:\tlearn: 5.7978256\ttotal: 274ms\tremaining: 4.79s\n",
      "54:\tlearn: 5.6447287\ttotal: 276ms\tremaining: 4.74s\n",
      "55:\tlearn: 5.5090025\ttotal: 278ms\tremaining: 4.69s\n",
      "56:\tlearn: 5.3824548\ttotal: 280ms\tremaining: 4.64s\n",
      "57:\tlearn: 5.2681918\ttotal: 283ms\tremaining: 4.59s\n",
      "58:\tlearn: 5.1467061\ttotal: 285ms\tremaining: 4.54s\n",
      "59:\tlearn: 5.0243481\ttotal: 287ms\tremaining: 4.5s\n",
      "60:\tlearn: 4.9307959\ttotal: 289ms\tremaining: 4.45s\n",
      "61:\tlearn: 4.8215872\ttotal: 291ms\tremaining: 4.41s\n",
      "62:\tlearn: 4.7338003\ttotal: 294ms\tremaining: 4.37s\n",
      "63:\tlearn: 4.6451704\ttotal: 296ms\tremaining: 4.33s\n",
      "64:\tlearn: 4.5529504\ttotal: 298ms\tremaining: 4.29s\n",
      "65:\tlearn: 4.4763756\ttotal: 301ms\tremaining: 4.25s\n",
      "66:\tlearn: 4.3946342\ttotal: 303ms\tremaining: 4.22s\n",
      "67:\tlearn: 4.3170306\ttotal: 305ms\tremaining: 4.18s\n",
      "68:\tlearn: 4.2602254\ttotal: 308ms\tremaining: 4.15s\n",
      "69:\tlearn: 4.2019746\ttotal: 310ms\tremaining: 4.12s\n",
      "70:\tlearn: 4.1345137\ttotal: 312ms\tremaining: 4.08s\n",
      "71:\tlearn: 4.0684530\ttotal: 314ms\tremaining: 4.05s\n",
      "72:\tlearn: 3.9978194\ttotal: 317ms\tremaining: 4.02s\n",
      "73:\tlearn: 3.9480890\ttotal: 319ms\tremaining: 3.99s\n",
      "74:\tlearn: 3.8912019\ttotal: 321ms\tremaining: 3.96s\n",
      "75:\tlearn: 3.8426784\ttotal: 324ms\tremaining: 3.94s\n",
      "76:\tlearn: 3.7808954\ttotal: 326ms\tremaining: 3.91s\n",
      "77:\tlearn: 3.7285816\ttotal: 329ms\tremaining: 3.88s\n",
      "78:\tlearn: 3.6854017\ttotal: 331ms\tremaining: 3.86s\n",
      "79:\tlearn: 3.6412444\ttotal: 333ms\tremaining: 3.83s\n",
      "80:\tlearn: 3.6045785\ttotal: 335ms\tremaining: 3.8s\n",
      "81:\tlearn: 3.5650513\ttotal: 338ms\tremaining: 3.78s\n",
      "82:\tlearn: 3.5323725\ttotal: 340ms\tremaining: 3.75s\n",
      "83:\tlearn: 3.4954080\ttotal: 342ms\tremaining: 3.73s\n",
      "84:\tlearn: 3.4522592\ttotal: 345ms\tremaining: 3.71s\n",
      "85:\tlearn: 3.4170588\ttotal: 347ms\tremaining: 3.69s\n",
      "86:\tlearn: 3.3822007\ttotal: 349ms\tremaining: 3.67s\n",
      "87:\tlearn: 3.3411983\ttotal: 352ms\tremaining: 3.65s\n",
      "88:\tlearn: 3.3026353\ttotal: 354ms\tremaining: 3.63s\n",
      "89:\tlearn: 3.2671085\ttotal: 357ms\tremaining: 3.61s\n",
      "90:\tlearn: 3.2394007\ttotal: 359ms\tremaining: 3.59s\n",
      "91:\tlearn: 3.2062748\ttotal: 361ms\tremaining: 3.57s\n",
      "92:\tlearn: 3.1761605\ttotal: 364ms\tremaining: 3.55s\n",
      "93:\tlearn: 3.1451922\ttotal: 366ms\tremaining: 3.52s\n",
      "94:\tlearn: 3.1274541\ttotal: 368ms\tremaining: 3.51s\n",
      "95:\tlearn: 3.1071673\ttotal: 370ms\tremaining: 3.49s\n",
      "96:\tlearn: 3.0783796\ttotal: 373ms\tremaining: 3.47s\n",
      "97:\tlearn: 3.0471370\ttotal: 375ms\tremaining: 3.45s\n",
      "98:\tlearn: 3.0280534\ttotal: 377ms\tremaining: 3.43s\n",
      "99:\tlearn: 3.0050623\ttotal: 380ms\tremaining: 3.42s\n",
      "100:\tlearn: 2.9863036\ttotal: 382ms\tremaining: 3.4s\n",
      "101:\tlearn: 2.9636279\ttotal: 384ms\tremaining: 3.38s\n",
      "102:\tlearn: 2.9485420\ttotal: 386ms\tremaining: 3.36s\n",
      "103:\tlearn: 2.9222334\ttotal: 389ms\tremaining: 3.35s\n",
      "104:\tlearn: 2.9010731\ttotal: 391ms\tremaining: 3.33s\n",
      "105:\tlearn: 2.8809535\ttotal: 393ms\tremaining: 3.32s\n",
      "106:\tlearn: 2.8647110\ttotal: 396ms\tremaining: 3.3s\n",
      "107:\tlearn: 2.8460744\ttotal: 398ms\tremaining: 3.29s\n",
      "108:\tlearn: 2.8130410\ttotal: 400ms\tremaining: 3.27s\n",
      "109:\tlearn: 2.7889060\ttotal: 402ms\tremaining: 3.25s\n",
      "110:\tlearn: 2.7719308\ttotal: 404ms\tremaining: 3.24s\n",
      "111:\tlearn: 2.7568774\ttotal: 407ms\tremaining: 3.22s\n",
      "112:\tlearn: 2.7319398\ttotal: 409ms\tremaining: 3.21s\n",
      "113:\tlearn: 2.7134925\ttotal: 411ms\tremaining: 3.19s\n",
      "114:\tlearn: 2.6938412\ttotal: 413ms\tremaining: 3.18s\n",
      "115:\tlearn: 2.6779265\ttotal: 416ms\tremaining: 3.17s\n",
      "116:\tlearn: 2.6612672\ttotal: 418ms\tremaining: 3.15s\n",
      "117:\tlearn: 2.6466680\ttotal: 420ms\tremaining: 3.14s\n",
      "118:\tlearn: 2.6258756\ttotal: 422ms\tremaining: 3.13s\n",
      "119:\tlearn: 2.6050254\ttotal: 425ms\tremaining: 3.11s\n",
      "120:\tlearn: 2.5833416\ttotal: 427ms\tremaining: 3.1s\n",
      "121:\tlearn: 2.5659696\ttotal: 429ms\tremaining: 3.09s\n",
      "122:\tlearn: 2.5470617\ttotal: 431ms\tremaining: 3.08s\n",
      "123:\tlearn: 2.5301657\ttotal: 434ms\tremaining: 3.06s\n",
      "124:\tlearn: 2.5126437\ttotal: 436ms\tremaining: 3.05s\n",
      "125:\tlearn: 2.4973852\ttotal: 438ms\tremaining: 3.04s\n",
      "126:\tlearn: 2.4871623\ttotal: 441ms\tremaining: 3.03s\n",
      "127:\tlearn: 2.4675150\ttotal: 443ms\tremaining: 3.02s\n",
      "128:\tlearn: 2.4549576\ttotal: 446ms\tremaining: 3.01s\n",
      "129:\tlearn: 2.4425867\ttotal: 448ms\tremaining: 3s\n",
      "130:\tlearn: 2.4238537\ttotal: 451ms\tremaining: 2.99s\n",
      "131:\tlearn: 2.4126008\ttotal: 453ms\tremaining: 2.98s\n",
      "132:\tlearn: 2.4007934\ttotal: 455ms\tremaining: 2.97s\n",
      "133:\tlearn: 2.3869213\ttotal: 458ms\tremaining: 2.96s\n",
      "134:\tlearn: 2.3690066\ttotal: 460ms\tremaining: 2.95s\n",
      "135:\tlearn: 2.3484659\ttotal: 462ms\tremaining: 2.94s\n",
      "136:\tlearn: 2.3374449\ttotal: 464ms\tremaining: 2.92s\n",
      "137:\tlearn: 2.3293674\ttotal: 467ms\tremaining: 2.92s\n",
      "138:\tlearn: 2.3044604\ttotal: 469ms\tremaining: 2.9s\n",
      "139:\tlearn: 2.2962069\ttotal: 471ms\tremaining: 2.9s\n",
      "140:\tlearn: 2.2833967\ttotal: 474ms\tremaining: 2.89s\n",
      "141:\tlearn: 2.2622748\ttotal: 476ms\tremaining: 2.88s\n",
      "142:\tlearn: 2.2490559\ttotal: 479ms\tremaining: 2.87s\n",
      "143:\tlearn: 2.2385175\ttotal: 481ms\tremaining: 2.86s\n",
      "144:\tlearn: 2.2317441\ttotal: 483ms\tremaining: 2.85s\n",
      "145:\tlearn: 2.2240806\ttotal: 485ms\tremaining: 2.84s\n",
      "146:\tlearn: 2.2090898\ttotal: 488ms\tremaining: 2.83s\n",
      "147:\tlearn: 2.1963636\ttotal: 490ms\tremaining: 2.82s\n",
      "148:\tlearn: 2.1887052\ttotal: 492ms\tremaining: 2.81s\n",
      "149:\tlearn: 2.1767664\ttotal: 495ms\tremaining: 2.8s\n",
      "150:\tlearn: 2.1700998\ttotal: 497ms\tremaining: 2.79s\n",
      "151:\tlearn: 2.1539557\ttotal: 499ms\tremaining: 2.79s\n",
      "152:\tlearn: 2.1394342\ttotal: 502ms\tremaining: 2.78s\n",
      "153:\tlearn: 2.1296993\ttotal: 504ms\tremaining: 2.77s\n",
      "154:\tlearn: 2.1214994\ttotal: 506ms\tremaining: 2.76s\n",
      "155:\tlearn: 2.1091639\ttotal: 509ms\tremaining: 2.75s\n",
      "156:\tlearn: 2.0990134\ttotal: 511ms\tremaining: 2.74s\n",
      "157:\tlearn: 2.0914364\ttotal: 513ms\tremaining: 2.73s\n",
      "158:\tlearn: 2.0795598\ttotal: 515ms\tremaining: 2.73s\n",
      "159:\tlearn: 2.0683623\ttotal: 518ms\tremaining: 2.72s\n",
      "160:\tlearn: 2.0626073\ttotal: 520ms\tremaining: 2.71s\n"
     ]
    },
    {
     "name": "stdout",
     "output_type": "stream",
     "text": [
      "161:\tlearn: 2.0552522\ttotal: 523ms\tremaining: 2.7s\n",
      "162:\tlearn: 2.0464698\ttotal: 525ms\tremaining: 2.7s\n",
      "163:\tlearn: 2.0374575\ttotal: 527ms\tremaining: 2.69s\n",
      "164:\tlearn: 2.0281535\ttotal: 530ms\tremaining: 2.68s\n",
      "165:\tlearn: 2.0184413\ttotal: 532ms\tremaining: 2.67s\n",
      "166:\tlearn: 2.0104260\ttotal: 535ms\tremaining: 2.67s\n",
      "167:\tlearn: 2.0055918\ttotal: 537ms\tremaining: 2.66s\n",
      "168:\tlearn: 1.9908173\ttotal: 540ms\tremaining: 2.65s\n",
      "169:\tlearn: 1.9840872\ttotal: 542ms\tremaining: 2.65s\n",
      "170:\tlearn: 1.9779690\ttotal: 544ms\tremaining: 2.64s\n",
      "171:\tlearn: 1.9661852\ttotal: 547ms\tremaining: 2.63s\n",
      "172:\tlearn: 1.9570927\ttotal: 549ms\tremaining: 2.63s\n",
      "173:\tlearn: 1.9503182\ttotal: 552ms\tremaining: 2.62s\n",
      "174:\tlearn: 1.9395346\ttotal: 554ms\tremaining: 2.61s\n",
      "175:\tlearn: 1.9298655\ttotal: 557ms\tremaining: 2.61s\n",
      "176:\tlearn: 1.9211854\ttotal: 559ms\tremaining: 2.6s\n",
      "177:\tlearn: 1.9104683\ttotal: 562ms\tremaining: 2.59s\n",
      "178:\tlearn: 1.8958670\ttotal: 564ms\tremaining: 2.59s\n",
      "179:\tlearn: 1.8824172\ttotal: 567ms\tremaining: 2.58s\n",
      "180:\tlearn: 1.8729357\ttotal: 569ms\tremaining: 2.58s\n",
      "181:\tlearn: 1.8658195\ttotal: 572ms\tremaining: 2.57s\n",
      "182:\tlearn: 1.8574487\ttotal: 575ms\tremaining: 2.57s\n",
      "183:\tlearn: 1.8405819\ttotal: 577ms\tremaining: 2.56s\n",
      "184:\tlearn: 1.8336409\ttotal: 580ms\tremaining: 2.55s\n",
      "185:\tlearn: 1.8214423\ttotal: 582ms\tremaining: 2.55s\n",
      "186:\tlearn: 1.8164749\ttotal: 585ms\tremaining: 2.54s\n",
      "187:\tlearn: 1.8067950\ttotal: 587ms\tremaining: 2.53s\n",
      "188:\tlearn: 1.8002675\ttotal: 589ms\tremaining: 2.53s\n",
      "189:\tlearn: 1.7898753\ttotal: 591ms\tremaining: 2.52s\n",
      "190:\tlearn: 1.7822063\ttotal: 593ms\tremaining: 2.51s\n",
      "191:\tlearn: 1.7744204\ttotal: 596ms\tremaining: 2.51s\n",
      "192:\tlearn: 1.7646101\ttotal: 598ms\tremaining: 2.5s\n",
      "193:\tlearn: 1.7581197\ttotal: 600ms\tremaining: 2.49s\n",
      "194:\tlearn: 1.7487237\ttotal: 603ms\tremaining: 2.49s\n",
      "195:\tlearn: 1.7425069\ttotal: 605ms\tremaining: 2.48s\n",
      "196:\tlearn: 1.7385363\ttotal: 607ms\tremaining: 2.47s\n",
      "197:\tlearn: 1.7304737\ttotal: 609ms\tremaining: 2.47s\n",
      "198:\tlearn: 1.7239167\ttotal: 611ms\tremaining: 2.46s\n",
      "199:\tlearn: 1.7170153\ttotal: 614ms\tremaining: 2.45s\n",
      "200:\tlearn: 1.7120759\ttotal: 616ms\tremaining: 2.45s\n",
      "201:\tlearn: 1.7031390\ttotal: 618ms\tremaining: 2.44s\n",
      "202:\tlearn: 1.6962683\ttotal: 620ms\tremaining: 2.43s\n",
      "203:\tlearn: 1.6886969\ttotal: 622ms\tremaining: 2.43s\n",
      "204:\tlearn: 1.6842244\ttotal: 625ms\tremaining: 2.42s\n",
      "205:\tlearn: 1.6782880\ttotal: 627ms\tremaining: 2.42s\n",
      "206:\tlearn: 1.6699170\ttotal: 629ms\tremaining: 2.41s\n",
      "207:\tlearn: 1.6642524\ttotal: 631ms\tremaining: 2.4s\n",
      "208:\tlearn: 1.6578311\ttotal: 634ms\tremaining: 2.4s\n",
      "209:\tlearn: 1.6497345\ttotal: 636ms\tremaining: 2.39s\n",
      "210:\tlearn: 1.6403006\ttotal: 638ms\tremaining: 2.39s\n",
      "211:\tlearn: 1.6327012\ttotal: 640ms\tremaining: 2.38s\n",
      "212:\tlearn: 1.6238332\ttotal: 643ms\tremaining: 2.37s\n",
      "213:\tlearn: 1.6145841\ttotal: 645ms\tremaining: 2.37s\n",
      "214:\tlearn: 1.6095824\ttotal: 647ms\tremaining: 2.36s\n",
      "215:\tlearn: 1.6037110\ttotal: 650ms\tremaining: 2.36s\n",
      "216:\tlearn: 1.5988822\ttotal: 652ms\tremaining: 2.35s\n",
      "217:\tlearn: 1.5928461\ttotal: 655ms\tremaining: 2.35s\n",
      "218:\tlearn: 1.5838489\ttotal: 657ms\tremaining: 2.34s\n",
      "219:\tlearn: 1.5782937\ttotal: 660ms\tremaining: 2.34s\n",
      "220:\tlearn: 1.5726199\ttotal: 662ms\tremaining: 2.33s\n",
      "221:\tlearn: 1.5654811\ttotal: 664ms\tremaining: 2.33s\n",
      "222:\tlearn: 1.5592634\ttotal: 666ms\tremaining: 2.32s\n",
      "223:\tlearn: 1.5547695\ttotal: 668ms\tremaining: 2.31s\n",
      "224:\tlearn: 1.5492761\ttotal: 670ms\tremaining: 2.31s\n",
      "225:\tlearn: 1.5435015\ttotal: 673ms\tremaining: 2.3s\n",
      "226:\tlearn: 1.5366089\ttotal: 675ms\tremaining: 2.3s\n",
      "227:\tlearn: 1.5304067\ttotal: 677ms\tremaining: 2.29s\n",
      "228:\tlearn: 1.5256372\ttotal: 680ms\tremaining: 2.29s\n",
      "229:\tlearn: 1.5196587\ttotal: 682ms\tremaining: 2.28s\n",
      "230:\tlearn: 1.5146953\ttotal: 684ms\tremaining: 2.28s\n",
      "231:\tlearn: 1.5104762\ttotal: 686ms\tremaining: 2.27s\n",
      "232:\tlearn: 1.5030074\ttotal: 688ms\tremaining: 2.27s\n",
      "233:\tlearn: 1.4973312\ttotal: 690ms\tremaining: 2.26s\n",
      "234:\tlearn: 1.4916788\ttotal: 692ms\tremaining: 2.25s\n",
      "235:\tlearn: 1.4863103\ttotal: 694ms\tremaining: 2.25s\n",
      "236:\tlearn: 1.4785108\ttotal: 697ms\tremaining: 2.24s\n",
      "237:\tlearn: 1.4734533\ttotal: 699ms\tremaining: 2.24s\n",
      "238:\tlearn: 1.4700532\ttotal: 702ms\tremaining: 2.23s\n",
      "239:\tlearn: 1.4665499\ttotal: 704ms\tremaining: 2.23s\n",
      "240:\tlearn: 1.4600633\ttotal: 706ms\tremaining: 2.22s\n",
      "241:\tlearn: 1.4546681\ttotal: 709ms\tremaining: 2.22s\n",
      "242:\tlearn: 1.4500549\ttotal: 711ms\tremaining: 2.21s\n",
      "243:\tlearn: 1.4453976\ttotal: 713ms\tremaining: 2.21s\n",
      "244:\tlearn: 1.4389554\ttotal: 715ms\tremaining: 2.2s\n",
      "245:\tlearn: 1.4341756\ttotal: 717ms\tremaining: 2.2s\n",
      "246:\tlearn: 1.4299819\ttotal: 720ms\tremaining: 2.19s\n",
      "247:\tlearn: 1.4254474\ttotal: 722ms\tremaining: 2.19s\n",
      "248:\tlearn: 1.4215903\ttotal: 724ms\tremaining: 2.18s\n",
      "249:\tlearn: 1.4170704\ttotal: 726ms\tremaining: 2.18s\n",
      "250:\tlearn: 1.4141902\ttotal: 728ms\tremaining: 2.17s\n",
      "251:\tlearn: 1.4079924\ttotal: 731ms\tremaining: 2.17s\n",
      "252:\tlearn: 1.4045382\ttotal: 733ms\tremaining: 2.16s\n",
      "253:\tlearn: 1.3977555\ttotal: 735ms\tremaining: 2.16s\n",
      "254:\tlearn: 1.3932216\ttotal: 737ms\tremaining: 2.15s\n",
      "255:\tlearn: 1.3879761\ttotal: 739ms\tremaining: 2.15s\n",
      "256:\tlearn: 1.3823623\ttotal: 741ms\tremaining: 2.14s\n",
      "257:\tlearn: 1.3770544\ttotal: 743ms\tremaining: 2.14s\n",
      "258:\tlearn: 1.3715924\ttotal: 745ms\tremaining: 2.13s\n",
      "259:\tlearn: 1.3680070\ttotal: 747ms\tremaining: 2.13s\n",
      "260:\tlearn: 1.3636342\ttotal: 750ms\tremaining: 2.12s\n",
      "261:\tlearn: 1.3596144\ttotal: 752ms\tremaining: 2.12s\n",
      "262:\tlearn: 1.3541079\ttotal: 754ms\tremaining: 2.11s\n",
      "263:\tlearn: 1.3507473\ttotal: 756ms\tremaining: 2.11s\n",
      "264:\tlearn: 1.3467092\ttotal: 758ms\tremaining: 2.1s\n",
      "265:\tlearn: 1.3428383\ttotal: 761ms\tremaining: 2.1s\n",
      "266:\tlearn: 1.3394998\ttotal: 763ms\tremaining: 2.09s\n",
      "267:\tlearn: 1.3372364\ttotal: 765ms\tremaining: 2.09s\n",
      "268:\tlearn: 1.3340421\ttotal: 767ms\tremaining: 2.08s\n",
      "269:\tlearn: 1.3306391\ttotal: 770ms\tremaining: 2.08s\n",
      "270:\tlearn: 1.3257876\ttotal: 772ms\tremaining: 2.08s\n",
      "271:\tlearn: 1.3203027\ttotal: 774ms\tremaining: 2.07s\n",
      "272:\tlearn: 1.3169646\ttotal: 777ms\tremaining: 2.07s\n",
      "273:\tlearn: 1.3122324\ttotal: 779ms\tremaining: 2.06s\n",
      "274:\tlearn: 1.3089375\ttotal: 781ms\tremaining: 2.06s\n",
      "275:\tlearn: 1.3030295\ttotal: 784ms\tremaining: 2.06s\n",
      "276:\tlearn: 1.2994067\ttotal: 786ms\tremaining: 2.05s\n",
      "277:\tlearn: 1.2968205\ttotal: 788ms\tremaining: 2.05s\n",
      "278:\tlearn: 1.2928522\ttotal: 790ms\tremaining: 2.04s\n",
      "279:\tlearn: 1.2896350\ttotal: 793ms\tremaining: 2.04s\n",
      "280:\tlearn: 1.2857221\ttotal: 795ms\tremaining: 2.03s\n",
      "281:\tlearn: 1.2801597\ttotal: 797ms\tremaining: 2.03s\n",
      "282:\tlearn: 1.2740518\ttotal: 799ms\tremaining: 2.02s\n",
      "283:\tlearn: 1.2707500\ttotal: 801ms\tremaining: 2.02s\n",
      "284:\tlearn: 1.2676402\ttotal: 804ms\tremaining: 2.02s\n",
      "285:\tlearn: 1.2643550\ttotal: 806ms\tremaining: 2.01s\n",
      "286:\tlearn: 1.2593786\ttotal: 808ms\tremaining: 2.01s\n",
      "287:\tlearn: 1.2544810\ttotal: 811ms\tremaining: 2s\n",
      "288:\tlearn: 1.2502391\ttotal: 813ms\tremaining: 2s\n",
      "289:\tlearn: 1.2474121\ttotal: 815ms\tremaining: 2s\n",
      "290:\tlearn: 1.2445492\ttotal: 817ms\tremaining: 1.99s\n",
      "291:\tlearn: 1.2402822\ttotal: 820ms\tremaining: 1.99s\n",
      "292:\tlearn: 1.2368195\ttotal: 822ms\tremaining: 1.98s\n",
      "293:\tlearn: 1.2338554\ttotal: 824ms\tremaining: 1.98s\n",
      "294:\tlearn: 1.2297988\ttotal: 826ms\tremaining: 1.98s\n",
      "295:\tlearn: 1.2269921\ttotal: 829ms\tremaining: 1.97s\n",
      "296:\tlearn: 1.2242925\ttotal: 831ms\tremaining: 1.97s\n",
      "297:\tlearn: 1.2216326\ttotal: 833ms\tremaining: 1.96s\n",
      "298:\tlearn: 1.2168735\ttotal: 835ms\tremaining: 1.96s\n",
      "299:\tlearn: 1.2139802\ttotal: 838ms\tremaining: 1.95s\n",
      "300:\tlearn: 1.2095328\ttotal: 840ms\tremaining: 1.95s\n",
      "301:\tlearn: 1.2059319\ttotal: 842ms\tremaining: 1.95s\n",
      "302:\tlearn: 1.2016851\ttotal: 845ms\tremaining: 1.94s\n",
      "303:\tlearn: 1.1980101\ttotal: 847ms\tremaining: 1.94s\n",
      "304:\tlearn: 1.1946334\ttotal: 849ms\tremaining: 1.94s\n",
      "305:\tlearn: 1.1903039\ttotal: 852ms\tremaining: 1.93s\n",
      "306:\tlearn: 1.1877925\ttotal: 854ms\tremaining: 1.93s\n",
      "307:\tlearn: 1.1836400\ttotal: 856ms\tremaining: 1.92s\n",
      "308:\tlearn: 1.1798650\ttotal: 859ms\tremaining: 1.92s\n",
      "309:\tlearn: 1.1778042\ttotal: 861ms\tremaining: 1.92s\n",
      "310:\tlearn: 1.1745677\ttotal: 863ms\tremaining: 1.91s\n",
      "311:\tlearn: 1.1716376\ttotal: 865ms\tremaining: 1.91s\n",
      "312:\tlearn: 1.1693082\ttotal: 868ms\tremaining: 1.9s\n",
      "313:\tlearn: 1.1656522\ttotal: 870ms\tremaining: 1.9s\n",
      "314:\tlearn: 1.1634232\ttotal: 872ms\tremaining: 1.9s\n",
      "315:\tlearn: 1.1604297\ttotal: 874ms\tremaining: 1.89s\n",
      "316:\tlearn: 1.1582728\ttotal: 877ms\tremaining: 1.89s\n",
      "317:\tlearn: 1.1550849\ttotal: 880ms\tremaining: 1.89s\n",
      "318:\tlearn: 1.1521936\ttotal: 882ms\tremaining: 1.88s\n",
      "319:\tlearn: 1.1496846\ttotal: 884ms\tremaining: 1.88s\n",
      "320:\tlearn: 1.1473370\ttotal: 887ms\tremaining: 1.88s\n",
      "321:\tlearn: 1.1441114\ttotal: 889ms\tremaining: 1.87s\n",
      "322:\tlearn: 1.1428172\ttotal: 892ms\tremaining: 1.87s\n",
      "323:\tlearn: 1.1408785\ttotal: 894ms\tremaining: 1.86s\n",
      "324:\tlearn: 1.1387600\ttotal: 896ms\tremaining: 1.86s\n",
      "325:\tlearn: 1.1367417\ttotal: 899ms\tremaining: 1.86s\n",
      "326:\tlearn: 1.1346032\ttotal: 901ms\tremaining: 1.85s\n",
      "327:\tlearn: 1.1312055\ttotal: 903ms\tremaining: 1.85s\n",
      "328:\tlearn: 1.1299431\ttotal: 906ms\tremaining: 1.85s\n",
      "329:\tlearn: 1.1267596\ttotal: 908ms\tremaining: 1.84s\n",
      "330:\tlearn: 1.1250649\ttotal: 910ms\tremaining: 1.84s\n",
      "331:\tlearn: 1.1230895\ttotal: 913ms\tremaining: 1.84s\n",
      "332:\tlearn: 1.1214517\ttotal: 915ms\tremaining: 1.83s\n",
      "333:\tlearn: 1.1186801\ttotal: 918ms\tremaining: 1.83s\n",
      "334:\tlearn: 1.1155032\ttotal: 920ms\tremaining: 1.83s\n",
      "335:\tlearn: 1.1132804\ttotal: 922ms\tremaining: 1.82s\n",
      "336:\tlearn: 1.1114130\ttotal: 925ms\tremaining: 1.82s\n",
      "337:\tlearn: 1.1071696\ttotal: 927ms\tremaining: 1.81s\n",
      "338:\tlearn: 1.1031822\ttotal: 929ms\tremaining: 1.81s\n",
      "339:\tlearn: 1.0991885\ttotal: 932ms\tremaining: 1.81s\n",
      "340:\tlearn: 1.0982348\ttotal: 934ms\tremaining: 1.8s\n",
      "341:\tlearn: 1.0965810\ttotal: 936ms\tremaining: 1.8s\n",
      "342:\tlearn: 1.0945490\ttotal: 939ms\tremaining: 1.8s\n",
      "343:\tlearn: 1.0914405\ttotal: 941ms\tremaining: 1.79s\n",
      "344:\tlearn: 1.0899879\ttotal: 943ms\tremaining: 1.79s\n",
      "345:\tlearn: 1.0878370\ttotal: 946ms\tremaining: 1.79s\n",
      "346:\tlearn: 1.0860718\ttotal: 948ms\tremaining: 1.78s\n",
      "347:\tlearn: 1.0829031\ttotal: 950ms\tremaining: 1.78s\n",
      "348:\tlearn: 1.0808657\ttotal: 952ms\tremaining: 1.78s\n",
      "349:\tlearn: 1.0786374\ttotal: 955ms\tremaining: 1.77s\n",
      "350:\tlearn: 1.0762502\ttotal: 957ms\tremaining: 1.77s\n",
      "351:\tlearn: 1.0726235\ttotal: 960ms\tremaining: 1.77s\n",
      "352:\tlearn: 1.0694565\ttotal: 962ms\tremaining: 1.76s\n",
      "353:\tlearn: 1.0677605\ttotal: 964ms\tremaining: 1.76s\n",
      "354:\tlearn: 1.0656324\ttotal: 967ms\tremaining: 1.76s\n",
      "355:\tlearn: 1.0635458\ttotal: 969ms\tremaining: 1.75s\n",
      "356:\tlearn: 1.0618428\ttotal: 971ms\tremaining: 1.75s\n",
      "357:\tlearn: 1.0594731\ttotal: 973ms\tremaining: 1.75s\n",
      "358:\tlearn: 1.0565696\ttotal: 976ms\tremaining: 1.74s\n",
      "359:\tlearn: 1.0544034\ttotal: 978ms\tremaining: 1.74s\n",
      "360:\tlearn: 1.0514676\ttotal: 980ms\tremaining: 1.74s\n",
      "361:\tlearn: 1.0483991\ttotal: 983ms\tremaining: 1.73s\n",
      "362:\tlearn: 1.0441963\ttotal: 985ms\tremaining: 1.73s\n",
      "363:\tlearn: 1.0418163\ttotal: 987ms\tremaining: 1.73s\n",
      "364:\tlearn: 1.0397071\ttotal: 990ms\tremaining: 1.72s\n",
      "365:\tlearn: 1.0362675\ttotal: 992ms\tremaining: 1.72s\n",
      "366:\tlearn: 1.0345114\ttotal: 994ms\tremaining: 1.72s\n",
      "367:\tlearn: 1.0332937\ttotal: 997ms\tremaining: 1.71s\n",
      "368:\tlearn: 1.0305641\ttotal: 999ms\tremaining: 1.71s\n",
      "369:\tlearn: 1.0290224\ttotal: 1s\tremaining: 1.7s\n",
      "370:\tlearn: 1.0274161\ttotal: 1s\tremaining: 1.7s\n",
      "371:\tlearn: 1.0259134\ttotal: 1s\tremaining: 1.7s\n",
      "372:\tlearn: 1.0241023\ttotal: 1.01s\tremaining: 1.69s\n",
      "373:\tlearn: 1.0219307\ttotal: 1.01s\tremaining: 1.69s\n",
      "374:\tlearn: 1.0207882\ttotal: 1.01s\tremaining: 1.69s\n",
      "375:\tlearn: 1.0192946\ttotal: 1.01s\tremaining: 1.68s\n",
      "376:\tlearn: 1.0166993\ttotal: 1.02s\tremaining: 1.68s\n",
      "377:\tlearn: 1.0153167\ttotal: 1.02s\tremaining: 1.68s\n",
      "378:\tlearn: 1.0136789\ttotal: 1.02s\tremaining: 1.67s\n",
      "379:\tlearn: 1.0111372\ttotal: 1.02s\tremaining: 1.67s\n",
      "380:\tlearn: 1.0094988\ttotal: 1.03s\tremaining: 1.67s\n",
      "381:\tlearn: 1.0070975\ttotal: 1.03s\tremaining: 1.66s\n",
      "382:\tlearn: 1.0049652\ttotal: 1.03s\tremaining: 1.66s\n",
      "383:\tlearn: 1.0036294\ttotal: 1.03s\tremaining: 1.66s\n",
      "384:\tlearn: 1.0015485\ttotal: 1.03s\tremaining: 1.65s\n",
      "385:\tlearn: 0.9996701\ttotal: 1.04s\tremaining: 1.65s\n",
      "386:\tlearn: 0.9981308\ttotal: 1.04s\tremaining: 1.65s\n",
      "387:\tlearn: 0.9962041\ttotal: 1.04s\tremaining: 1.64s\n",
      "388:\tlearn: 0.9930923\ttotal: 1.04s\tremaining: 1.64s\n",
      "389:\tlearn: 0.9915603\ttotal: 1.05s\tremaining: 1.64s\n",
      "390:\tlearn: 0.9898122\ttotal: 1.05s\tremaining: 1.63s\n"
     ]
    },
    {
     "name": "stdout",
     "output_type": "stream",
     "text": [
      "391:\tlearn: 0.9878400\ttotal: 1.05s\tremaining: 1.63s\n",
      "392:\tlearn: 0.9867313\ttotal: 1.05s\tremaining: 1.63s\n",
      "393:\tlearn: 0.9841771\ttotal: 1.06s\tremaining: 1.63s\n",
      "394:\tlearn: 0.9818242\ttotal: 1.06s\tremaining: 1.62s\n",
      "395:\tlearn: 0.9800758\ttotal: 1.06s\tremaining: 1.62s\n",
      "396:\tlearn: 0.9788041\ttotal: 1.06s\tremaining: 1.62s\n",
      "397:\tlearn: 0.9769738\ttotal: 1.07s\tremaining: 1.61s\n",
      "398:\tlearn: 0.9755622\ttotal: 1.07s\tremaining: 1.61s\n",
      "399:\tlearn: 0.9738278\ttotal: 1.07s\tremaining: 1.61s\n",
      "400:\tlearn: 0.9707365\ttotal: 1.07s\tremaining: 1.61s\n",
      "401:\tlearn: 0.9697217\ttotal: 1.08s\tremaining: 1.6s\n",
      "402:\tlearn: 0.9682453\ttotal: 1.08s\tremaining: 1.6s\n",
      "403:\tlearn: 0.9670382\ttotal: 1.08s\tremaining: 1.6s\n",
      "404:\tlearn: 0.9647800\ttotal: 1.08s\tremaining: 1.59s\n",
      "405:\tlearn: 0.9631063\ttotal: 1.09s\tremaining: 1.59s\n",
      "406:\tlearn: 0.9618503\ttotal: 1.09s\tremaining: 1.59s\n",
      "407:\tlearn: 0.9604838\ttotal: 1.09s\tremaining: 1.58s\n",
      "408:\tlearn: 0.9575274\ttotal: 1.09s\tremaining: 1.58s\n",
      "409:\tlearn: 0.9535535\ttotal: 1.1s\tremaining: 1.58s\n",
      "410:\tlearn: 0.9512918\ttotal: 1.1s\tremaining: 1.57s\n",
      "411:\tlearn: 0.9495051\ttotal: 1.1s\tremaining: 1.57s\n",
      "412:\tlearn: 0.9468596\ttotal: 1.1s\tremaining: 1.57s\n",
      "413:\tlearn: 0.9446850\ttotal: 1.11s\tremaining: 1.57s\n",
      "414:\tlearn: 0.9419526\ttotal: 1.11s\tremaining: 1.56s\n",
      "415:\tlearn: 0.9410056\ttotal: 1.11s\tremaining: 1.56s\n",
      "416:\tlearn: 0.9398759\ttotal: 1.11s\tremaining: 1.56s\n",
      "417:\tlearn: 0.9377019\ttotal: 1.11s\tremaining: 1.55s\n",
      "418:\tlearn: 0.9366814\ttotal: 1.12s\tremaining: 1.55s\n",
      "419:\tlearn: 0.9358567\ttotal: 1.12s\tremaining: 1.55s\n",
      "420:\tlearn: 0.9349529\ttotal: 1.12s\tremaining: 1.54s\n",
      "421:\tlearn: 0.9340566\ttotal: 1.13s\tremaining: 1.54s\n",
      "422:\tlearn: 0.9326563\ttotal: 1.13s\tremaining: 1.54s\n",
      "423:\tlearn: 0.9319374\ttotal: 1.13s\tremaining: 1.53s\n",
      "424:\tlearn: 0.9296908\ttotal: 1.13s\tremaining: 1.53s\n",
      "425:\tlearn: 0.9264132\ttotal: 1.13s\tremaining: 1.53s\n",
      "426:\tlearn: 0.9246152\ttotal: 1.14s\tremaining: 1.52s\n",
      "427:\tlearn: 0.9229751\ttotal: 1.14s\tremaining: 1.52s\n",
      "428:\tlearn: 0.9211885\ttotal: 1.14s\tremaining: 1.52s\n",
      "429:\tlearn: 0.9199025\ttotal: 1.14s\tremaining: 1.52s\n",
      "430:\tlearn: 0.9187308\ttotal: 1.15s\tremaining: 1.51s\n",
      "431:\tlearn: 0.9171996\ttotal: 1.15s\tremaining: 1.51s\n",
      "432:\tlearn: 0.9159314\ttotal: 1.15s\tremaining: 1.51s\n",
      "433:\tlearn: 0.9142695\ttotal: 1.15s\tremaining: 1.5s\n",
      "434:\tlearn: 0.9134511\ttotal: 1.16s\tremaining: 1.5s\n",
      "435:\tlearn: 0.9120402\ttotal: 1.16s\tremaining: 1.5s\n",
      "436:\tlearn: 0.9100760\ttotal: 1.16s\tremaining: 1.5s\n",
      "437:\tlearn: 0.9083245\ttotal: 1.16s\tremaining: 1.49s\n",
      "438:\tlearn: 0.9059703\ttotal: 1.17s\tremaining: 1.49s\n",
      "439:\tlearn: 0.9052736\ttotal: 1.17s\tremaining: 1.49s\n",
      "440:\tlearn: 0.9032884\ttotal: 1.17s\tremaining: 1.48s\n",
      "441:\tlearn: 0.9012798\ttotal: 1.17s\tremaining: 1.48s\n",
      "442:\tlearn: 0.8994825\ttotal: 1.17s\tremaining: 1.48s\n",
      "443:\tlearn: 0.8978520\ttotal: 1.18s\tremaining: 1.47s\n",
      "444:\tlearn: 0.8960720\ttotal: 1.18s\tremaining: 1.47s\n",
      "445:\tlearn: 0.8945883\ttotal: 1.18s\tremaining: 1.47s\n",
      "446:\tlearn: 0.8928480\ttotal: 1.18s\tremaining: 1.46s\n",
      "447:\tlearn: 0.8918233\ttotal: 1.19s\tremaining: 1.46s\n",
      "448:\tlearn: 0.8899056\ttotal: 1.19s\tremaining: 1.46s\n",
      "449:\tlearn: 0.8885494\ttotal: 1.19s\tremaining: 1.46s\n",
      "450:\tlearn: 0.8874321\ttotal: 1.19s\tremaining: 1.45s\n",
      "451:\tlearn: 0.8858510\ttotal: 1.2s\tremaining: 1.45s\n",
      "452:\tlearn: 0.8848651\ttotal: 1.2s\tremaining: 1.45s\n",
      "453:\tlearn: 0.8828310\ttotal: 1.2s\tremaining: 1.44s\n",
      "454:\tlearn: 0.8813993\ttotal: 1.2s\tremaining: 1.44s\n",
      "455:\tlearn: 0.8801266\ttotal: 1.21s\tremaining: 1.44s\n",
      "456:\tlearn: 0.8791347\ttotal: 1.21s\tremaining: 1.43s\n",
      "457:\tlearn: 0.8772243\ttotal: 1.21s\tremaining: 1.43s\n",
      "458:\tlearn: 0.8754185\ttotal: 1.21s\tremaining: 1.43s\n",
      "459:\tlearn: 0.8740974\ttotal: 1.21s\tremaining: 1.43s\n",
      "460:\tlearn: 0.8729682\ttotal: 1.22s\tremaining: 1.42s\n",
      "461:\tlearn: 0.8716571\ttotal: 1.22s\tremaining: 1.42s\n",
      "462:\tlearn: 0.8704448\ttotal: 1.22s\tremaining: 1.42s\n",
      "463:\tlearn: 0.8685667\ttotal: 1.22s\tremaining: 1.41s\n",
      "464:\tlearn: 0.8676265\ttotal: 1.23s\tremaining: 1.41s\n",
      "465:\tlearn: 0.8656282\ttotal: 1.23s\tremaining: 1.41s\n",
      "466:\tlearn: 0.8639842\ttotal: 1.23s\tremaining: 1.4s\n",
      "467:\tlearn: 0.8626383\ttotal: 1.23s\tremaining: 1.4s\n",
      "468:\tlearn: 0.8608968\ttotal: 1.24s\tremaining: 1.4s\n",
      "469:\tlearn: 0.8598480\ttotal: 1.24s\tremaining: 1.4s\n",
      "470:\tlearn: 0.8591636\ttotal: 1.24s\tremaining: 1.39s\n",
      "471:\tlearn: 0.8580575\ttotal: 1.24s\tremaining: 1.39s\n",
      "472:\tlearn: 0.8568720\ttotal: 1.24s\tremaining: 1.39s\n",
      "473:\tlearn: 0.8554871\ttotal: 1.25s\tremaining: 1.38s\n",
      "474:\tlearn: 0.8528692\ttotal: 1.25s\tremaining: 1.38s\n",
      "475:\tlearn: 0.8515469\ttotal: 1.25s\tremaining: 1.38s\n",
      "476:\tlearn: 0.8501762\ttotal: 1.25s\tremaining: 1.37s\n",
      "477:\tlearn: 0.8489761\ttotal: 1.26s\tremaining: 1.37s\n",
      "478:\tlearn: 0.8469262\ttotal: 1.26s\tremaining: 1.37s\n",
      "479:\tlearn: 0.8454164\ttotal: 1.26s\tremaining: 1.36s\n",
      "480:\tlearn: 0.8442877\ttotal: 1.26s\tremaining: 1.36s\n",
      "481:\tlearn: 0.8429550\ttotal: 1.26s\tremaining: 1.36s\n",
      "482:\tlearn: 0.8414709\ttotal: 1.27s\tremaining: 1.36s\n",
      "483:\tlearn: 0.8403634\ttotal: 1.27s\tremaining: 1.35s\n",
      "484:\tlearn: 0.8388019\ttotal: 1.27s\tremaining: 1.35s\n",
      "485:\tlearn: 0.8373119\ttotal: 1.27s\tremaining: 1.35s\n",
      "486:\tlearn: 0.8365778\ttotal: 1.28s\tremaining: 1.34s\n",
      "487:\tlearn: 0.8360833\ttotal: 1.28s\tremaining: 1.34s\n",
      "488:\tlearn: 0.8349527\ttotal: 1.28s\tremaining: 1.34s\n",
      "489:\tlearn: 0.8338085\ttotal: 1.28s\tremaining: 1.33s\n",
      "490:\tlearn: 0.8330900\ttotal: 1.28s\tremaining: 1.33s\n",
      "491:\tlearn: 0.8311225\ttotal: 1.29s\tremaining: 1.33s\n",
      "492:\tlearn: 0.8301135\ttotal: 1.29s\tremaining: 1.33s\n",
      "493:\tlearn: 0.8289932\ttotal: 1.29s\tremaining: 1.32s\n",
      "494:\tlearn: 0.8273035\ttotal: 1.29s\tremaining: 1.32s\n",
      "495:\tlearn: 0.8267552\ttotal: 1.3s\tremaining: 1.32s\n",
      "496:\tlearn: 0.8251806\ttotal: 1.3s\tremaining: 1.31s\n",
      "497:\tlearn: 0.8235950\ttotal: 1.3s\tremaining: 1.31s\n",
      "498:\tlearn: 0.8223388\ttotal: 1.3s\tremaining: 1.31s\n",
      "499:\tlearn: 0.8207215\ttotal: 1.31s\tremaining: 1.31s\n",
      "500:\tlearn: 0.8192575\ttotal: 1.31s\tremaining: 1.3s\n",
      "501:\tlearn: 0.8182034\ttotal: 1.31s\tremaining: 1.3s\n",
      "502:\tlearn: 0.8171835\ttotal: 1.31s\tremaining: 1.3s\n",
      "503:\tlearn: 0.8166549\ttotal: 1.31s\tremaining: 1.29s\n",
      "504:\tlearn: 0.8147569\ttotal: 1.32s\tremaining: 1.29s\n",
      "505:\tlearn: 0.8142711\ttotal: 1.32s\tremaining: 1.29s\n",
      "506:\tlearn: 0.8135438\ttotal: 1.32s\tremaining: 1.28s\n",
      "507:\tlearn: 0.8125524\ttotal: 1.32s\tremaining: 1.28s\n",
      "508:\tlearn: 0.8111610\ttotal: 1.33s\tremaining: 1.28s\n",
      "509:\tlearn: 0.8101915\ttotal: 1.33s\tremaining: 1.28s\n",
      "510:\tlearn: 0.8089990\ttotal: 1.33s\tremaining: 1.27s\n",
      "511:\tlearn: 0.8084592\ttotal: 1.33s\tremaining: 1.27s\n",
      "512:\tlearn: 0.8073637\ttotal: 1.33s\tremaining: 1.27s\n",
      "513:\tlearn: 0.8058296\ttotal: 1.34s\tremaining: 1.26s\n",
      "514:\tlearn: 0.8052663\ttotal: 1.34s\tremaining: 1.26s\n",
      "515:\tlearn: 0.8033707\ttotal: 1.34s\tremaining: 1.26s\n",
      "516:\tlearn: 0.8029524\ttotal: 1.34s\tremaining: 1.25s\n",
      "517:\tlearn: 0.8022381\ttotal: 1.35s\tremaining: 1.25s\n",
      "518:\tlearn: 0.8007072\ttotal: 1.35s\tremaining: 1.25s\n",
      "519:\tlearn: 0.7989383\ttotal: 1.35s\tremaining: 1.25s\n",
      "520:\tlearn: 0.7977949\ttotal: 1.35s\tremaining: 1.24s\n",
      "521:\tlearn: 0.7968767\ttotal: 1.35s\tremaining: 1.24s\n",
      "522:\tlearn: 0.7961791\ttotal: 1.36s\tremaining: 1.24s\n",
      "523:\tlearn: 0.7954286\ttotal: 1.36s\tremaining: 1.24s\n",
      "524:\tlearn: 0.7945844\ttotal: 1.36s\tremaining: 1.23s\n",
      "525:\tlearn: 0.7935687\ttotal: 1.36s\tremaining: 1.23s\n",
      "526:\tlearn: 0.7924418\ttotal: 1.37s\tremaining: 1.23s\n",
      "527:\tlearn: 0.7912764\ttotal: 1.37s\tremaining: 1.22s\n",
      "528:\tlearn: 0.7904371\ttotal: 1.37s\tremaining: 1.22s\n",
      "529:\tlearn: 0.7895163\ttotal: 1.37s\tremaining: 1.22s\n",
      "530:\tlearn: 0.7886435\ttotal: 1.38s\tremaining: 1.22s\n",
      "531:\tlearn: 0.7880444\ttotal: 1.38s\tremaining: 1.21s\n",
      "532:\tlearn: 0.7869130\ttotal: 1.38s\tremaining: 1.21s\n",
      "533:\tlearn: 0.7855198\ttotal: 1.38s\tremaining: 1.21s\n",
      "534:\tlearn: 0.7843245\ttotal: 1.39s\tremaining: 1.2s\n",
      "535:\tlearn: 0.7832259\ttotal: 1.39s\tremaining: 1.2s\n",
      "536:\tlearn: 0.7825106\ttotal: 1.39s\tremaining: 1.2s\n",
      "537:\tlearn: 0.7818640\ttotal: 1.39s\tremaining: 1.2s\n",
      "538:\tlearn: 0.7803889\ttotal: 1.4s\tremaining: 1.19s\n",
      "539:\tlearn: 0.7797008\ttotal: 1.4s\tremaining: 1.19s\n",
      "540:\tlearn: 0.7789944\ttotal: 1.4s\tremaining: 1.19s\n",
      "541:\tlearn: 0.7780725\ttotal: 1.4s\tremaining: 1.19s\n",
      "542:\tlearn: 0.7769494\ttotal: 1.41s\tremaining: 1.18s\n",
      "543:\tlearn: 0.7759637\ttotal: 1.41s\tremaining: 1.18s\n",
      "544:\tlearn: 0.7751293\ttotal: 1.41s\tremaining: 1.18s\n",
      "545:\tlearn: 0.7738914\ttotal: 1.41s\tremaining: 1.17s\n",
      "546:\tlearn: 0.7729659\ttotal: 1.42s\tremaining: 1.17s\n",
      "547:\tlearn: 0.7712956\ttotal: 1.42s\tremaining: 1.17s\n",
      "548:\tlearn: 0.7706218\ttotal: 1.42s\tremaining: 1.17s\n",
      "549:\tlearn: 0.7697349\ttotal: 1.42s\tremaining: 1.16s\n",
      "550:\tlearn: 0.7688079\ttotal: 1.42s\tremaining: 1.16s\n",
      "551:\tlearn: 0.7675629\ttotal: 1.43s\tremaining: 1.16s\n",
      "552:\tlearn: 0.7657967\ttotal: 1.43s\tremaining: 1.16s\n",
      "553:\tlearn: 0.7649046\ttotal: 1.43s\tremaining: 1.15s\n",
      "554:\tlearn: 0.7643491\ttotal: 1.43s\tremaining: 1.15s\n",
      "555:\tlearn: 0.7635705\ttotal: 1.44s\tremaining: 1.15s\n",
      "556:\tlearn: 0.7628996\ttotal: 1.44s\tremaining: 1.14s\n",
      "557:\tlearn: 0.7618741\ttotal: 1.44s\tremaining: 1.14s\n",
      "558:\tlearn: 0.7610021\ttotal: 1.44s\tremaining: 1.14s\n",
      "559:\tlearn: 0.7597723\ttotal: 1.45s\tremaining: 1.14s\n",
      "560:\tlearn: 0.7587191\ttotal: 1.45s\tremaining: 1.13s\n",
      "561:\tlearn: 0.7572306\ttotal: 1.45s\tremaining: 1.13s\n",
      "562:\tlearn: 0.7569992\ttotal: 1.45s\tremaining: 1.13s\n",
      "563:\tlearn: 0.7558784\ttotal: 1.45s\tremaining: 1.12s\n",
      "564:\tlearn: 0.7554233\ttotal: 1.46s\tremaining: 1.12s\n",
      "565:\tlearn: 0.7546580\ttotal: 1.46s\tremaining: 1.12s\n",
      "566:\tlearn: 0.7539625\ttotal: 1.46s\tremaining: 1.11s\n",
      "567:\tlearn: 0.7520429\ttotal: 1.46s\tremaining: 1.11s\n",
      "568:\tlearn: 0.7506991\ttotal: 1.47s\tremaining: 1.11s\n",
      "569:\tlearn: 0.7501513\ttotal: 1.47s\tremaining: 1.11s\n",
      "570:\tlearn: 0.7489043\ttotal: 1.47s\tremaining: 1.1s\n",
      "571:\tlearn: 0.7479554\ttotal: 1.47s\tremaining: 1.1s\n",
      "572:\tlearn: 0.7465396\ttotal: 1.48s\tremaining: 1.1s\n",
      "573:\tlearn: 0.7452614\ttotal: 1.48s\tremaining: 1.1s\n",
      "574:\tlearn: 0.7441931\ttotal: 1.48s\tremaining: 1.09s\n",
      "575:\tlearn: 0.7433043\ttotal: 1.48s\tremaining: 1.09s\n",
      "576:\tlearn: 0.7422593\ttotal: 1.48s\tremaining: 1.09s\n",
      "577:\tlearn: 0.7416847\ttotal: 1.49s\tremaining: 1.08s\n",
      "578:\tlearn: 0.7407413\ttotal: 1.49s\tremaining: 1.08s\n",
      "579:\tlearn: 0.7399732\ttotal: 1.49s\tremaining: 1.08s\n",
      "580:\tlearn: 0.7386636\ttotal: 1.49s\tremaining: 1.08s\n",
      "581:\tlearn: 0.7378203\ttotal: 1.5s\tremaining: 1.07s\n",
      "582:\tlearn: 0.7374415\ttotal: 1.5s\tremaining: 1.07s\n",
      "583:\tlearn: 0.7368409\ttotal: 1.5s\tremaining: 1.07s\n",
      "584:\tlearn: 0.7358902\ttotal: 1.5s\tremaining: 1.07s\n",
      "585:\tlearn: 0.7354662\ttotal: 1.5s\tremaining: 1.06s\n",
      "586:\tlearn: 0.7347356\ttotal: 1.51s\tremaining: 1.06s\n",
      "587:\tlearn: 0.7335994\ttotal: 1.51s\tremaining: 1.06s\n",
      "588:\tlearn: 0.7327938\ttotal: 1.51s\tremaining: 1.05s\n",
      "589:\tlearn: 0.7322088\ttotal: 1.51s\tremaining: 1.05s\n",
      "590:\tlearn: 0.7313866\ttotal: 1.52s\tremaining: 1.05s\n",
      "591:\tlearn: 0.7300623\ttotal: 1.52s\tremaining: 1.05s\n",
      "592:\tlearn: 0.7292215\ttotal: 1.52s\tremaining: 1.04s\n",
      "593:\tlearn: 0.7283633\ttotal: 1.52s\tremaining: 1.04s\n",
      "594:\tlearn: 0.7278538\ttotal: 1.52s\tremaining: 1.04s\n",
      "595:\tlearn: 0.7268283\ttotal: 1.53s\tremaining: 1.03s\n",
      "596:\tlearn: 0.7260415\ttotal: 1.53s\tremaining: 1.03s\n",
      "597:\tlearn: 0.7245554\ttotal: 1.53s\tremaining: 1.03s\n",
      "598:\tlearn: 0.7236676\ttotal: 1.53s\tremaining: 1.03s\n",
      "599:\tlearn: 0.7230446\ttotal: 1.54s\tremaining: 1.02s\n",
      "600:\tlearn: 0.7217724\ttotal: 1.54s\tremaining: 1.02s\n",
      "601:\tlearn: 0.7209647\ttotal: 1.54s\tremaining: 1.02s\n",
      "602:\tlearn: 0.7205510\ttotal: 1.54s\tremaining: 1.02s\n",
      "603:\tlearn: 0.7195119\ttotal: 1.55s\tremaining: 1.01s\n",
      "604:\tlearn: 0.7182760\ttotal: 1.55s\tremaining: 1.01s\n",
      "605:\tlearn: 0.7171395\ttotal: 1.55s\tremaining: 1.01s\n",
      "606:\tlearn: 0.7158049\ttotal: 1.55s\tremaining: 1.01s\n",
      "607:\tlearn: 0.7155844\ttotal: 1.56s\tremaining: 1s\n",
      "608:\tlearn: 0.7139283\ttotal: 1.56s\tremaining: 1s\n",
      "609:\tlearn: 0.7130372\ttotal: 1.56s\tremaining: 998ms\n",
      "610:\tlearn: 0.7121274\ttotal: 1.56s\tremaining: 995ms\n",
      "611:\tlearn: 0.7112159\ttotal: 1.56s\tremaining: 993ms\n",
      "612:\tlearn: 0.7106257\ttotal: 1.57s\tremaining: 990ms\n",
      "613:\tlearn: 0.7097955\ttotal: 1.57s\tremaining: 987ms\n",
      "614:\tlearn: 0.7087587\ttotal: 1.57s\tremaining: 985ms\n",
      "615:\tlearn: 0.7079259\ttotal: 1.57s\tremaining: 982ms\n",
      "616:\tlearn: 0.7074974\ttotal: 1.58s\tremaining: 979ms\n",
      "617:\tlearn: 0.7065663\ttotal: 1.58s\tremaining: 977ms\n",
      "618:\tlearn: 0.7060591\ttotal: 1.58s\tremaining: 974ms\n"
     ]
    },
    {
     "name": "stdout",
     "output_type": "stream",
     "text": [
      "619:\tlearn: 0.7054905\ttotal: 1.58s\tremaining: 972ms\n",
      "620:\tlearn: 0.7040168\ttotal: 1.59s\tremaining: 969ms\n",
      "621:\tlearn: 0.7029743\ttotal: 1.59s\tremaining: 967ms\n",
      "622:\tlearn: 0.7021937\ttotal: 1.59s\tremaining: 964ms\n",
      "623:\tlearn: 0.7007863\ttotal: 1.59s\tremaining: 962ms\n",
      "624:\tlearn: 0.7001490\ttotal: 1.6s\tremaining: 959ms\n",
      "625:\tlearn: 0.6998297\ttotal: 1.6s\tremaining: 957ms\n",
      "626:\tlearn: 0.6986212\ttotal: 1.6s\tremaining: 954ms\n",
      "627:\tlearn: 0.6971400\ttotal: 1.61s\tremaining: 952ms\n",
      "628:\tlearn: 0.6958612\ttotal: 1.61s\tremaining: 949ms\n",
      "629:\tlearn: 0.6946838\ttotal: 1.61s\tremaining: 946ms\n",
      "630:\tlearn: 0.6933266\ttotal: 1.61s\tremaining: 944ms\n",
      "631:\tlearn: 0.6925689\ttotal: 1.61s\tremaining: 941ms\n",
      "632:\tlearn: 0.6914844\ttotal: 1.62s\tremaining: 938ms\n",
      "633:\tlearn: 0.6907874\ttotal: 1.62s\tremaining: 936ms\n",
      "634:\tlearn: 0.6895230\ttotal: 1.62s\tremaining: 933ms\n",
      "635:\tlearn: 0.6889350\ttotal: 1.63s\tremaining: 931ms\n",
      "636:\tlearn: 0.6881480\ttotal: 1.63s\tremaining: 928ms\n",
      "637:\tlearn: 0.6873907\ttotal: 1.63s\tremaining: 925ms\n",
      "638:\tlearn: 0.6864231\ttotal: 1.63s\tremaining: 923ms\n",
      "639:\tlearn: 0.6859227\ttotal: 1.64s\tremaining: 920ms\n",
      "640:\tlearn: 0.6854316\ttotal: 1.64s\tremaining: 918ms\n",
      "641:\tlearn: 0.6847850\ttotal: 1.64s\tremaining: 915ms\n",
      "642:\tlearn: 0.6836339\ttotal: 1.64s\tremaining: 912ms\n",
      "643:\tlearn: 0.6829767\ttotal: 1.65s\tremaining: 910ms\n",
      "644:\tlearn: 0.6824094\ttotal: 1.65s\tremaining: 907ms\n",
      "645:\tlearn: 0.6818532\ttotal: 1.65s\tremaining: 905ms\n",
      "646:\tlearn: 0.6814303\ttotal: 1.65s\tremaining: 902ms\n",
      "647:\tlearn: 0.6802327\ttotal: 1.66s\tremaining: 900ms\n",
      "648:\tlearn: 0.6792643\ttotal: 1.66s\tremaining: 897ms\n",
      "649:\tlearn: 0.6786473\ttotal: 1.66s\tremaining: 894ms\n",
      "650:\tlearn: 0.6782672\ttotal: 1.66s\tremaining: 892ms\n",
      "651:\tlearn: 0.6774557\ttotal: 1.67s\tremaining: 889ms\n",
      "652:\tlearn: 0.6763599\ttotal: 1.67s\tremaining: 886ms\n",
      "653:\tlearn: 0.6760031\ttotal: 1.67s\tremaining: 884ms\n",
      "654:\tlearn: 0.6755252\ttotal: 1.67s\tremaining: 881ms\n",
      "655:\tlearn: 0.6750413\ttotal: 1.68s\tremaining: 879ms\n",
      "656:\tlearn: 0.6746022\ttotal: 1.68s\tremaining: 876ms\n",
      "657:\tlearn: 0.6739138\ttotal: 1.68s\tremaining: 874ms\n",
      "658:\tlearn: 0.6733745\ttotal: 1.68s\tremaining: 871ms\n",
      "659:\tlearn: 0.6721820\ttotal: 1.69s\tremaining: 868ms\n",
      "660:\tlearn: 0.6713292\ttotal: 1.69s\tremaining: 866ms\n",
      "661:\tlearn: 0.6703736\ttotal: 1.69s\tremaining: 863ms\n",
      "662:\tlearn: 0.6701067\ttotal: 1.69s\tremaining: 861ms\n",
      "663:\tlearn: 0.6692954\ttotal: 1.7s\tremaining: 858ms\n",
      "664:\tlearn: 0.6688551\ttotal: 1.7s\tremaining: 855ms\n",
      "665:\tlearn: 0.6685120\ttotal: 1.7s\tremaining: 853ms\n",
      "666:\tlearn: 0.6678664\ttotal: 1.7s\tremaining: 850ms\n",
      "667:\tlearn: 0.6672072\ttotal: 1.7s\tremaining: 847ms\n",
      "668:\tlearn: 0.6661995\ttotal: 1.71s\tremaining: 845ms\n",
      "669:\tlearn: 0.6656401\ttotal: 1.71s\tremaining: 842ms\n",
      "670:\tlearn: 0.6646295\ttotal: 1.71s\tremaining: 839ms\n",
      "671:\tlearn: 0.6638730\ttotal: 1.71s\tremaining: 837ms\n",
      "672:\tlearn: 0.6629951\ttotal: 1.72s\tremaining: 834ms\n",
      "673:\tlearn: 0.6624114\ttotal: 1.72s\tremaining: 831ms\n",
      "674:\tlearn: 0.6619517\ttotal: 1.72s\tremaining: 829ms\n",
      "675:\tlearn: 0.6614001\ttotal: 1.72s\tremaining: 826ms\n",
      "676:\tlearn: 0.6606910\ttotal: 1.73s\tremaining: 823ms\n",
      "677:\tlearn: 0.6603546\ttotal: 1.73s\tremaining: 821ms\n",
      "678:\tlearn: 0.6600314\ttotal: 1.73s\tremaining: 818ms\n",
      "679:\tlearn: 0.6594500\ttotal: 1.73s\tremaining: 815ms\n",
      "680:\tlearn: 0.6586310\ttotal: 1.73s\tremaining: 812ms\n",
      "681:\tlearn: 0.6579832\ttotal: 1.74s\tremaining: 810ms\n",
      "682:\tlearn: 0.6574372\ttotal: 1.74s\tremaining: 807ms\n",
      "683:\tlearn: 0.6571488\ttotal: 1.74s\tremaining: 804ms\n",
      "684:\tlearn: 0.6568633\ttotal: 1.74s\tremaining: 802ms\n",
      "685:\tlearn: 0.6565139\ttotal: 1.75s\tremaining: 799ms\n",
      "686:\tlearn: 0.6561495\ttotal: 1.75s\tremaining: 797ms\n",
      "687:\tlearn: 0.6555676\ttotal: 1.75s\tremaining: 794ms\n",
      "688:\tlearn: 0.6544119\ttotal: 1.75s\tremaining: 791ms\n",
      "689:\tlearn: 0.6536842\ttotal: 1.75s\tremaining: 789ms\n",
      "690:\tlearn: 0.6529451\ttotal: 1.76s\tremaining: 786ms\n",
      "691:\tlearn: 0.6523821\ttotal: 1.76s\tremaining: 783ms\n",
      "692:\tlearn: 0.6519498\ttotal: 1.76s\tremaining: 781ms\n",
      "693:\tlearn: 0.6509975\ttotal: 1.76s\tremaining: 778ms\n",
      "694:\tlearn: 0.6502903\ttotal: 1.77s\tremaining: 776ms\n",
      "695:\tlearn: 0.6497488\ttotal: 1.77s\tremaining: 773ms\n",
      "696:\tlearn: 0.6492520\ttotal: 1.77s\tremaining: 770ms\n",
      "697:\tlearn: 0.6485820\ttotal: 1.77s\tremaining: 768ms\n",
      "698:\tlearn: 0.6476517\ttotal: 1.78s\tremaining: 765ms\n",
      "699:\tlearn: 0.6472346\ttotal: 1.78s\tremaining: 762ms\n",
      "700:\tlearn: 0.6462126\ttotal: 1.78s\tremaining: 760ms\n",
      "701:\tlearn: 0.6452377\ttotal: 1.78s\tremaining: 757ms\n",
      "702:\tlearn: 0.6447684\ttotal: 1.79s\tremaining: 755ms\n",
      "703:\tlearn: 0.6443176\ttotal: 1.79s\tremaining: 752ms\n",
      "704:\tlearn: 0.6437576\ttotal: 1.79s\tremaining: 749ms\n",
      "705:\tlearn: 0.6433314\ttotal: 1.79s\tremaining: 747ms\n",
      "706:\tlearn: 0.6426097\ttotal: 1.79s\tremaining: 744ms\n",
      "707:\tlearn: 0.6419185\ttotal: 1.8s\tremaining: 741ms\n",
      "708:\tlearn: 0.6410917\ttotal: 1.8s\tremaining: 739ms\n",
      "709:\tlearn: 0.6404418\ttotal: 1.8s\tremaining: 736ms\n",
      "710:\tlearn: 0.6397948\ttotal: 1.8s\tremaining: 734ms\n",
      "711:\tlearn: 0.6395052\ttotal: 1.81s\tremaining: 731ms\n",
      "712:\tlearn: 0.6391125\ttotal: 1.81s\tremaining: 728ms\n",
      "713:\tlearn: 0.6385506\ttotal: 1.81s\tremaining: 726ms\n",
      "714:\tlearn: 0.6382540\ttotal: 1.81s\tremaining: 723ms\n",
      "715:\tlearn: 0.6373242\ttotal: 1.82s\tremaining: 720ms\n",
      "716:\tlearn: 0.6370269\ttotal: 1.82s\tremaining: 718ms\n",
      "717:\tlearn: 0.6364990\ttotal: 1.82s\tremaining: 715ms\n",
      "718:\tlearn: 0.6359614\ttotal: 1.82s\tremaining: 712ms\n",
      "719:\tlearn: 0.6353788\ttotal: 1.82s\tremaining: 710ms\n",
      "720:\tlearn: 0.6346747\ttotal: 1.83s\tremaining: 707ms\n",
      "721:\tlearn: 0.6344322\ttotal: 1.83s\tremaining: 705ms\n",
      "722:\tlearn: 0.6340742\ttotal: 1.83s\tremaining: 702ms\n",
      "723:\tlearn: 0.6335701\ttotal: 1.83s\tremaining: 699ms\n",
      "724:\tlearn: 0.6330458\ttotal: 1.84s\tremaining: 697ms\n",
      "725:\tlearn: 0.6324514\ttotal: 1.84s\tremaining: 694ms\n",
      "726:\tlearn: 0.6315720\ttotal: 1.84s\tremaining: 691ms\n",
      "727:\tlearn: 0.6310363\ttotal: 1.84s\tremaining: 689ms\n",
      "728:\tlearn: 0.6300417\ttotal: 1.85s\tremaining: 686ms\n",
      "729:\tlearn: 0.6295121\ttotal: 1.85s\tremaining: 684ms\n",
      "730:\tlearn: 0.6292699\ttotal: 1.85s\tremaining: 681ms\n",
      "731:\tlearn: 0.6287215\ttotal: 1.85s\tremaining: 678ms\n",
      "732:\tlearn: 0.6282940\ttotal: 1.85s\tremaining: 676ms\n",
      "733:\tlearn: 0.6279173\ttotal: 1.86s\tremaining: 673ms\n",
      "734:\tlearn: 0.6272448\ttotal: 1.86s\tremaining: 671ms\n",
      "735:\tlearn: 0.6262843\ttotal: 1.86s\tremaining: 668ms\n",
      "736:\tlearn: 0.6259787\ttotal: 1.86s\tremaining: 665ms\n",
      "737:\tlearn: 0.6254475\ttotal: 1.87s\tremaining: 663ms\n",
      "738:\tlearn: 0.6251660\ttotal: 1.87s\tremaining: 660ms\n",
      "739:\tlearn: 0.6246375\ttotal: 1.87s\tremaining: 658ms\n",
      "740:\tlearn: 0.6245134\ttotal: 1.87s\tremaining: 655ms\n",
      "741:\tlearn: 0.6240481\ttotal: 1.88s\tremaining: 653ms\n",
      "742:\tlearn: 0.6231260\ttotal: 1.88s\tremaining: 650ms\n",
      "743:\tlearn: 0.6225903\ttotal: 1.88s\tremaining: 648ms\n",
      "744:\tlearn: 0.6221012\ttotal: 1.88s\tremaining: 645ms\n",
      "745:\tlearn: 0.6217234\ttotal: 1.89s\tremaining: 642ms\n",
      "746:\tlearn: 0.6213948\ttotal: 1.89s\tremaining: 640ms\n",
      "747:\tlearn: 0.6205796\ttotal: 1.89s\tremaining: 637ms\n",
      "748:\tlearn: 0.6199025\ttotal: 1.89s\tremaining: 635ms\n",
      "749:\tlearn: 0.6196780\ttotal: 1.9s\tremaining: 632ms\n",
      "750:\tlearn: 0.6192855\ttotal: 1.9s\tremaining: 630ms\n",
      "751:\tlearn: 0.6189480\ttotal: 1.9s\tremaining: 627ms\n",
      "752:\tlearn: 0.6184515\ttotal: 1.9s\tremaining: 625ms\n",
      "753:\tlearn: 0.6176443\ttotal: 1.91s\tremaining: 622ms\n",
      "754:\tlearn: 0.6174109\ttotal: 1.91s\tremaining: 620ms\n",
      "755:\tlearn: 0.6164443\ttotal: 1.91s\tremaining: 617ms\n",
      "756:\tlearn: 0.6157543\ttotal: 1.91s\tremaining: 614ms\n",
      "757:\tlearn: 0.6155310\ttotal: 1.92s\tremaining: 612ms\n",
      "758:\tlearn: 0.6147018\ttotal: 1.92s\tremaining: 609ms\n",
      "759:\tlearn: 0.6142159\ttotal: 1.92s\tremaining: 607ms\n",
      "760:\tlearn: 0.6136445\ttotal: 1.92s\tremaining: 604ms\n",
      "761:\tlearn: 0.6129938\ttotal: 1.93s\tremaining: 602ms\n",
      "762:\tlearn: 0.6125222\ttotal: 1.93s\tremaining: 599ms\n",
      "763:\tlearn: 0.6120313\ttotal: 1.93s\tremaining: 597ms\n",
      "764:\tlearn: 0.6112811\ttotal: 1.93s\tremaining: 594ms\n",
      "765:\tlearn: 0.6107271\ttotal: 1.94s\tremaining: 592ms\n",
      "766:\tlearn: 0.6102289\ttotal: 1.94s\tremaining: 589ms\n",
      "767:\tlearn: 0.6097998\ttotal: 1.94s\tremaining: 587ms\n",
      "768:\tlearn: 0.6090617\ttotal: 1.94s\tremaining: 584ms\n",
      "769:\tlearn: 0.6086030\ttotal: 1.95s\tremaining: 582ms\n",
      "770:\tlearn: 0.6082805\ttotal: 1.95s\tremaining: 579ms\n",
      "771:\tlearn: 0.6081755\ttotal: 1.95s\tremaining: 577ms\n",
      "772:\tlearn: 0.6075506\ttotal: 1.96s\tremaining: 574ms\n",
      "773:\tlearn: 0.6072977\ttotal: 1.96s\tremaining: 572ms\n",
      "774:\tlearn: 0.6066088\ttotal: 1.96s\tremaining: 569ms\n",
      "775:\tlearn: 0.6064484\ttotal: 1.96s\tremaining: 567ms\n",
      "776:\tlearn: 0.6057432\ttotal: 1.97s\tremaining: 564ms\n",
      "777:\tlearn: 0.6054646\ttotal: 1.97s\tremaining: 561ms\n",
      "778:\tlearn: 0.6051476\ttotal: 1.97s\tremaining: 559ms\n",
      "779:\tlearn: 0.6047732\ttotal: 1.97s\tremaining: 556ms\n",
      "780:\tlearn: 0.6039794\ttotal: 1.98s\tremaining: 554ms\n",
      "781:\tlearn: 0.6038153\ttotal: 1.98s\tremaining: 551ms\n",
      "782:\tlearn: 0.6033188\ttotal: 1.98s\tremaining: 549ms\n",
      "783:\tlearn: 0.6024648\ttotal: 1.98s\tremaining: 546ms\n",
      "784:\tlearn: 0.6019659\ttotal: 1.98s\tremaining: 544ms\n",
      "785:\tlearn: 0.6015241\ttotal: 1.99s\tremaining: 541ms\n",
      "786:\tlearn: 0.6011068\ttotal: 1.99s\tremaining: 539ms\n",
      "787:\tlearn: 0.6002980\ttotal: 1.99s\tremaining: 536ms\n",
      "788:\tlearn: 0.5995003\ttotal: 2s\tremaining: 534ms\n",
      "789:\tlearn: 0.5992238\ttotal: 2s\tremaining: 531ms\n",
      "790:\tlearn: 0.5985956\ttotal: 2s\tremaining: 528ms\n",
      "791:\tlearn: 0.5978930\ttotal: 2s\tremaining: 526ms\n",
      "792:\tlearn: 0.5973230\ttotal: 2s\tremaining: 523ms\n",
      "793:\tlearn: 0.5967614\ttotal: 2.01s\tremaining: 521ms\n",
      "794:\tlearn: 0.5962874\ttotal: 2.01s\tremaining: 518ms\n",
      "795:\tlearn: 0.5956812\ttotal: 2.01s\tremaining: 516ms\n",
      "796:\tlearn: 0.5953457\ttotal: 2.01s\tremaining: 513ms\n",
      "797:\tlearn: 0.5947891\ttotal: 2.02s\tremaining: 511ms\n",
      "798:\tlearn: 0.5944960\ttotal: 2.02s\tremaining: 508ms\n",
      "799:\tlearn: 0.5940239\ttotal: 2.02s\tremaining: 505ms\n",
      "800:\tlearn: 0.5937481\ttotal: 2.02s\tremaining: 503ms\n",
      "801:\tlearn: 0.5933312\ttotal: 2.03s\tremaining: 500ms\n",
      "802:\tlearn: 0.5931237\ttotal: 2.03s\tremaining: 498ms\n",
      "803:\tlearn: 0.5927016\ttotal: 2.03s\tremaining: 495ms\n",
      "804:\tlearn: 0.5925498\ttotal: 2.03s\tremaining: 492ms\n",
      "805:\tlearn: 0.5921733\ttotal: 2.04s\tremaining: 490ms\n",
      "806:\tlearn: 0.5919092\ttotal: 2.04s\tremaining: 487ms\n",
      "807:\tlearn: 0.5912401\ttotal: 2.04s\tremaining: 485ms\n",
      "808:\tlearn: 0.5909587\ttotal: 2.04s\tremaining: 482ms\n",
      "809:\tlearn: 0.5906243\ttotal: 2.04s\tremaining: 479ms\n",
      "810:\tlearn: 0.5901740\ttotal: 2.05s\tremaining: 477ms\n",
      "811:\tlearn: 0.5899582\ttotal: 2.05s\tremaining: 474ms\n",
      "812:\tlearn: 0.5898686\ttotal: 2.05s\tremaining: 472ms\n",
      "813:\tlearn: 0.5894673\ttotal: 2.05s\tremaining: 469ms\n",
      "814:\tlearn: 0.5891316\ttotal: 2.06s\tremaining: 467ms\n",
      "815:\tlearn: 0.5887490\ttotal: 2.06s\tremaining: 464ms\n",
      "816:\tlearn: 0.5880365\ttotal: 2.06s\tremaining: 461ms\n",
      "817:\tlearn: 0.5875693\ttotal: 2.06s\tremaining: 459ms\n",
      "818:\tlearn: 0.5874753\ttotal: 2.06s\tremaining: 456ms\n",
      "819:\tlearn: 0.5870263\ttotal: 2.07s\tremaining: 454ms\n",
      "820:\tlearn: 0.5862790\ttotal: 2.07s\tremaining: 451ms\n",
      "821:\tlearn: 0.5860228\ttotal: 2.07s\tremaining: 448ms\n",
      "822:\tlearn: 0.5858703\ttotal: 2.07s\tremaining: 446ms\n",
      "823:\tlearn: 0.5854375\ttotal: 2.08s\tremaining: 443ms\n",
      "824:\tlearn: 0.5848946\ttotal: 2.08s\tremaining: 441ms\n",
      "825:\tlearn: 0.5844423\ttotal: 2.08s\tremaining: 438ms\n",
      "826:\tlearn: 0.5840310\ttotal: 2.08s\tremaining: 436ms\n",
      "827:\tlearn: 0.5839493\ttotal: 2.08s\tremaining: 433ms\n",
      "828:\tlearn: 0.5835160\ttotal: 2.09s\tremaining: 431ms\n",
      "829:\tlearn: 0.5831072\ttotal: 2.09s\tremaining: 428ms\n",
      "830:\tlearn: 0.5828217\ttotal: 2.09s\tremaining: 425ms\n",
      "831:\tlearn: 0.5823353\ttotal: 2.09s\tremaining: 423ms\n",
      "832:\tlearn: 0.5820177\ttotal: 2.1s\tremaining: 420ms\n",
      "833:\tlearn: 0.5817787\ttotal: 2.1s\tremaining: 418ms\n",
      "834:\tlearn: 0.5814391\ttotal: 2.1s\tremaining: 415ms\n",
      "835:\tlearn: 0.5813529\ttotal: 2.1s\tremaining: 413ms\n",
      "836:\tlearn: 0.5808457\ttotal: 2.1s\tremaining: 410ms\n",
      "837:\tlearn: 0.5801929\ttotal: 2.11s\tremaining: 407ms\n",
      "838:\tlearn: 0.5796012\ttotal: 2.11s\tremaining: 405ms\n",
      "839:\tlearn: 0.5791302\ttotal: 2.11s\tremaining: 402ms\n",
      "840:\tlearn: 0.5788969\ttotal: 2.11s\tremaining: 400ms\n"
     ]
    },
    {
     "name": "stdout",
     "output_type": "stream",
     "text": [
      "841:\tlearn: 0.5784437\ttotal: 2.12s\tremaining: 397ms\n",
      "842:\tlearn: 0.5779973\ttotal: 2.12s\tremaining: 395ms\n",
      "843:\tlearn: 0.5777077\ttotal: 2.12s\tremaining: 392ms\n",
      "844:\tlearn: 0.5771379\ttotal: 2.12s\tremaining: 390ms\n",
      "845:\tlearn: 0.5768028\ttotal: 2.13s\tremaining: 387ms\n",
      "846:\tlearn: 0.5762727\ttotal: 2.13s\tremaining: 385ms\n",
      "847:\tlearn: 0.5760831\ttotal: 2.13s\tremaining: 382ms\n",
      "848:\tlearn: 0.5752796\ttotal: 2.13s\tremaining: 379ms\n",
      "849:\tlearn: 0.5747687\ttotal: 2.13s\tremaining: 377ms\n",
      "850:\tlearn: 0.5743375\ttotal: 2.14s\tremaining: 374ms\n",
      "851:\tlearn: 0.5742607\ttotal: 2.14s\tremaining: 372ms\n",
      "852:\tlearn: 0.5737820\ttotal: 2.14s\tremaining: 369ms\n",
      "853:\tlearn: 0.5732270\ttotal: 2.15s\tremaining: 367ms\n",
      "854:\tlearn: 0.5728700\ttotal: 2.15s\tremaining: 364ms\n",
      "855:\tlearn: 0.5726129\ttotal: 2.15s\tremaining: 362ms\n",
      "856:\tlearn: 0.5720470\ttotal: 2.15s\tremaining: 359ms\n",
      "857:\tlearn: 0.5718174\ttotal: 2.15s\tremaining: 357ms\n",
      "858:\tlearn: 0.5712280\ttotal: 2.16s\tremaining: 354ms\n",
      "859:\tlearn: 0.5710103\ttotal: 2.16s\tremaining: 351ms\n",
      "860:\tlearn: 0.5710033\ttotal: 2.16s\tremaining: 349ms\n",
      "861:\tlearn: 0.5705485\ttotal: 2.16s\tremaining: 346ms\n",
      "862:\tlearn: 0.5701055\ttotal: 2.17s\tremaining: 344ms\n",
      "863:\tlearn: 0.5698986\ttotal: 2.17s\tremaining: 341ms\n",
      "864:\tlearn: 0.5695110\ttotal: 2.17s\tremaining: 339ms\n",
      "865:\tlearn: 0.5690552\ttotal: 2.17s\tremaining: 336ms\n",
      "866:\tlearn: 0.5687192\ttotal: 2.17s\tremaining: 334ms\n",
      "867:\tlearn: 0.5683152\ttotal: 2.18s\tremaining: 331ms\n",
      "868:\tlearn: 0.5676240\ttotal: 2.18s\tremaining: 329ms\n",
      "869:\tlearn: 0.5672131\ttotal: 2.18s\tremaining: 326ms\n",
      "870:\tlearn: 0.5668429\ttotal: 2.18s\tremaining: 323ms\n",
      "871:\tlearn: 0.5662183\ttotal: 2.19s\tremaining: 321ms\n",
      "872:\tlearn: 0.5658158\ttotal: 2.19s\tremaining: 318ms\n",
      "873:\tlearn: 0.5654244\ttotal: 2.19s\tremaining: 316ms\n",
      "874:\tlearn: 0.5653280\ttotal: 2.19s\tremaining: 313ms\n",
      "875:\tlearn: 0.5650056\ttotal: 2.19s\tremaining: 311ms\n",
      "876:\tlearn: 0.5649946\ttotal: 2.2s\tremaining: 308ms\n",
      "877:\tlearn: 0.5645422\ttotal: 2.2s\tremaining: 306ms\n",
      "878:\tlearn: 0.5645358\ttotal: 2.2s\tremaining: 303ms\n",
      "879:\tlearn: 0.5640854\ttotal: 2.2s\tremaining: 300ms\n",
      "880:\tlearn: 0.5636600\ttotal: 2.21s\tremaining: 298ms\n",
      "881:\tlearn: 0.5630975\ttotal: 2.21s\tremaining: 295ms\n",
      "882:\tlearn: 0.5630898\ttotal: 2.21s\tremaining: 293ms\n",
      "883:\tlearn: 0.5623757\ttotal: 2.21s\tremaining: 290ms\n",
      "884:\tlearn: 0.5617599\ttotal: 2.21s\tremaining: 288ms\n",
      "885:\tlearn: 0.5612617\ttotal: 2.22s\tremaining: 285ms\n",
      "886:\tlearn: 0.5608586\ttotal: 2.22s\tremaining: 283ms\n",
      "887:\tlearn: 0.5604535\ttotal: 2.22s\tremaining: 280ms\n",
      "888:\tlearn: 0.5599360\ttotal: 2.22s\tremaining: 278ms\n",
      "889:\tlearn: 0.5594637\ttotal: 2.22s\tremaining: 275ms\n",
      "890:\tlearn: 0.5591159\ttotal: 2.23s\tremaining: 272ms\n",
      "891:\tlearn: 0.5587135\ttotal: 2.23s\tremaining: 270ms\n",
      "892:\tlearn: 0.5583568\ttotal: 2.23s\tremaining: 267ms\n",
      "893:\tlearn: 0.5581173\ttotal: 2.23s\tremaining: 265ms\n",
      "894:\tlearn: 0.5575220\ttotal: 2.23s\tremaining: 262ms\n",
      "895:\tlearn: 0.5572663\ttotal: 2.24s\tremaining: 260ms\n",
      "896:\tlearn: 0.5569966\ttotal: 2.24s\tremaining: 257ms\n",
      "897:\tlearn: 0.5565135\ttotal: 2.24s\tremaining: 255ms\n",
      "898:\tlearn: 0.5563515\ttotal: 2.24s\tremaining: 252ms\n",
      "899:\tlearn: 0.5559704\ttotal: 2.25s\tremaining: 250ms\n",
      "900:\tlearn: 0.5558816\ttotal: 2.25s\tremaining: 247ms\n",
      "901:\tlearn: 0.5553899\ttotal: 2.25s\tremaining: 245ms\n",
      "902:\tlearn: 0.5550812\ttotal: 2.25s\tremaining: 242ms\n",
      "903:\tlearn: 0.5546177\ttotal: 2.25s\tremaining: 240ms\n",
      "904:\tlearn: 0.5543307\ttotal: 2.26s\tremaining: 237ms\n",
      "905:\tlearn: 0.5541843\ttotal: 2.26s\tremaining: 234ms\n",
      "906:\tlearn: 0.5535549\ttotal: 2.26s\tremaining: 232ms\n",
      "907:\tlearn: 0.5530819\ttotal: 2.26s\tremaining: 229ms\n",
      "908:\tlearn: 0.5526489\ttotal: 2.27s\tremaining: 227ms\n",
      "909:\tlearn: 0.5524267\ttotal: 2.27s\tremaining: 224ms\n",
      "910:\tlearn: 0.5524198\ttotal: 2.27s\tremaining: 222ms\n",
      "911:\tlearn: 0.5520497\ttotal: 2.27s\tremaining: 219ms\n",
      "912:\tlearn: 0.5516195\ttotal: 2.27s\tremaining: 217ms\n",
      "913:\tlearn: 0.5512996\ttotal: 2.28s\tremaining: 214ms\n",
      "914:\tlearn: 0.5509408\ttotal: 2.28s\tremaining: 212ms\n",
      "915:\tlearn: 0.5506914\ttotal: 2.28s\tremaining: 209ms\n",
      "916:\tlearn: 0.5502052\ttotal: 2.28s\tremaining: 207ms\n",
      "917:\tlearn: 0.5499752\ttotal: 2.29s\tremaining: 204ms\n",
      "918:\tlearn: 0.5496780\ttotal: 2.29s\tremaining: 202ms\n",
      "919:\tlearn: 0.5494102\ttotal: 2.29s\tremaining: 199ms\n",
      "920:\tlearn: 0.5489182\ttotal: 2.29s\tremaining: 197ms\n",
      "921:\tlearn: 0.5483434\ttotal: 2.3s\tremaining: 194ms\n",
      "922:\tlearn: 0.5479627\ttotal: 2.3s\tremaining: 192ms\n",
      "923:\tlearn: 0.5475836\ttotal: 2.3s\tremaining: 189ms\n",
      "924:\tlearn: 0.5469326\ttotal: 2.3s\tremaining: 187ms\n",
      "925:\tlearn: 0.5464876\ttotal: 2.31s\tremaining: 184ms\n",
      "926:\tlearn: 0.5460884\ttotal: 2.31s\tremaining: 182ms\n",
      "927:\tlearn: 0.5456919\ttotal: 2.31s\tremaining: 179ms\n",
      "928:\tlearn: 0.5453615\ttotal: 2.31s\tremaining: 177ms\n",
      "929:\tlearn: 0.5449980\ttotal: 2.31s\tremaining: 174ms\n",
      "930:\tlearn: 0.5447920\ttotal: 2.32s\tremaining: 172ms\n",
      "931:\tlearn: 0.5444413\ttotal: 2.32s\tremaining: 169ms\n",
      "932:\tlearn: 0.5438758\ttotal: 2.32s\tremaining: 167ms\n",
      "933:\tlearn: 0.5433147\ttotal: 2.33s\tremaining: 164ms\n",
      "934:\tlearn: 0.5429535\ttotal: 2.33s\tremaining: 162ms\n",
      "935:\tlearn: 0.5426515\ttotal: 2.33s\tremaining: 159ms\n",
      "936:\tlearn: 0.5425964\ttotal: 2.33s\tremaining: 157ms\n",
      "937:\tlearn: 0.5423683\ttotal: 2.33s\tremaining: 154ms\n",
      "938:\tlearn: 0.5420009\ttotal: 2.34s\tremaining: 152ms\n",
      "939:\tlearn: 0.5413961\ttotal: 2.34s\tremaining: 149ms\n",
      "940:\tlearn: 0.5410353\ttotal: 2.34s\tremaining: 147ms\n",
      "941:\tlearn: 0.5407584\ttotal: 2.34s\tremaining: 144ms\n",
      "942:\tlearn: 0.5403686\ttotal: 2.35s\tremaining: 142ms\n",
      "943:\tlearn: 0.5400076\ttotal: 2.35s\tremaining: 139ms\n",
      "944:\tlearn: 0.5397075\ttotal: 2.35s\tremaining: 137ms\n",
      "945:\tlearn: 0.5393071\ttotal: 2.35s\tremaining: 134ms\n",
      "946:\tlearn: 0.5390955\ttotal: 2.35s\tremaining: 132ms\n",
      "947:\tlearn: 0.5385827\ttotal: 2.36s\tremaining: 129ms\n",
      "948:\tlearn: 0.5382873\ttotal: 2.36s\tremaining: 127ms\n",
      "949:\tlearn: 0.5378992\ttotal: 2.36s\tremaining: 124ms\n",
      "950:\tlearn: 0.5377839\ttotal: 2.36s\tremaining: 122ms\n",
      "951:\tlearn: 0.5375635\ttotal: 2.37s\tremaining: 119ms\n",
      "952:\tlearn: 0.5370708\ttotal: 2.37s\tremaining: 117ms\n",
      "953:\tlearn: 0.5369794\ttotal: 2.37s\tremaining: 114ms\n",
      "954:\tlearn: 0.5364896\ttotal: 2.37s\tremaining: 112ms\n",
      "955:\tlearn: 0.5359543\ttotal: 2.38s\tremaining: 109ms\n",
      "956:\tlearn: 0.5356314\ttotal: 2.38s\tremaining: 107ms\n",
      "957:\tlearn: 0.5351595\ttotal: 2.38s\tremaining: 104ms\n",
      "958:\tlearn: 0.5347365\ttotal: 2.38s\tremaining: 102ms\n",
      "959:\tlearn: 0.5343731\ttotal: 2.38s\tremaining: 99.3ms\n",
      "960:\tlearn: 0.5342549\ttotal: 2.39s\tremaining: 96.9ms\n",
      "961:\tlearn: 0.5340056\ttotal: 2.39s\tremaining: 94.4ms\n",
      "962:\tlearn: 0.5335909\ttotal: 2.39s\tremaining: 91.9ms\n",
      "963:\tlearn: 0.5332533\ttotal: 2.39s\tremaining: 89.4ms\n",
      "964:\tlearn: 0.5330946\ttotal: 2.4s\tremaining: 86.9ms\n",
      "965:\tlearn: 0.5328021\ttotal: 2.4s\tremaining: 84.4ms\n",
      "966:\tlearn: 0.5325188\ttotal: 2.4s\tremaining: 81.9ms\n",
      "967:\tlearn: 0.5322975\ttotal: 2.4s\tremaining: 79.4ms\n",
      "968:\tlearn: 0.5319158\ttotal: 2.4s\tremaining: 76.9ms\n",
      "969:\tlearn: 0.5316257\ttotal: 2.41s\tremaining: 74.4ms\n",
      "970:\tlearn: 0.5314623\ttotal: 2.41s\tremaining: 72ms\n",
      "971:\tlearn: 0.5312938\ttotal: 2.41s\tremaining: 69.5ms\n",
      "972:\tlearn: 0.5310850\ttotal: 2.41s\tremaining: 67ms\n",
      "973:\tlearn: 0.5308663\ttotal: 2.42s\tremaining: 64.5ms\n",
      "974:\tlearn: 0.5304361\ttotal: 2.42s\tremaining: 62ms\n",
      "975:\tlearn: 0.5301296\ttotal: 2.42s\tremaining: 59.5ms\n",
      "976:\tlearn: 0.5298252\ttotal: 2.42s\tremaining: 57ms\n",
      "977:\tlearn: 0.5295279\ttotal: 2.42s\tremaining: 54.5ms\n",
      "978:\tlearn: 0.5293759\ttotal: 2.43s\tremaining: 52ms\n",
      "979:\tlearn: 0.5290531\ttotal: 2.43s\tremaining: 49.6ms\n",
      "980:\tlearn: 0.5287437\ttotal: 2.43s\tremaining: 47.1ms\n",
      "981:\tlearn: 0.5283424\ttotal: 2.43s\tremaining: 44.6ms\n",
      "982:\tlearn: 0.5279441\ttotal: 2.43s\tremaining: 42.1ms\n",
      "983:\tlearn: 0.5276803\ttotal: 2.44s\tremaining: 39.6ms\n",
      "984:\tlearn: 0.5276138\ttotal: 2.44s\tremaining: 37.1ms\n",
      "985:\tlearn: 0.5271692\ttotal: 2.44s\tremaining: 34.7ms\n",
      "986:\tlearn: 0.5268624\ttotal: 2.44s\tremaining: 32.2ms\n",
      "987:\tlearn: 0.5265958\ttotal: 2.44s\tremaining: 29.7ms\n",
      "988:\tlearn: 0.5264845\ttotal: 2.45s\tremaining: 27.2ms\n",
      "989:\tlearn: 0.5262767\ttotal: 2.45s\tremaining: 24.7ms\n",
      "990:\tlearn: 0.5259736\ttotal: 2.45s\tremaining: 22.3ms\n",
      "991:\tlearn: 0.5256738\ttotal: 2.45s\tremaining: 19.8ms\n",
      "992:\tlearn: 0.5255696\ttotal: 2.46s\tremaining: 17.3ms\n",
      "993:\tlearn: 0.5255433\ttotal: 2.46s\tremaining: 14.8ms\n",
      "994:\tlearn: 0.5250144\ttotal: 2.46s\tremaining: 12.4ms\n",
      "995:\tlearn: 0.5245428\ttotal: 2.46s\tremaining: 9.89ms\n",
      "996:\tlearn: 0.5243806\ttotal: 2.46s\tremaining: 7.41ms\n",
      "997:\tlearn: 0.5241531\ttotal: 2.47s\tremaining: 4.94ms\n",
      "998:\tlearn: 0.5239962\ttotal: 2.47s\tremaining: 2.47ms\n",
      "999:\tlearn: 0.5238345\ttotal: 2.47s\tremaining: 0us\n"
     ]
    },
    {
     "name": "stdout",
     "output_type": "stream",
     "text": [
      "[127.56976258 224.03545721  37.2737386  ... 144.48653835  24.02335067\n",
      "  90.27181995]\n"
     ]
    }
   ],
   "source": [
    "from catboost import CatBoostRegressor\n",
    "model4 = CatBoostRegressor()\n",
    "model4.fit(X_train,Y_train)\n",
    "test_data_prediction4 = model4.predict(X_test)\n",
    "print(test_data_prediction4)"
   ]
  },
  {
   "cell_type": "code",
   "execution_count": 35,
   "metadata": {
    "colab": {
     "base_uri": "https://localhost:8080/"
    },
    "id": "H1KjVhBe73Bw",
    "outputId": "416772e0-cd5d-4c11-e189-2dc0cf50ecf8"
   },
   "outputs": [
    {
     "name": "stdout",
     "output_type": "stream",
     "text": [
      "Mean Absolute Error =  0.4814918319764509\n"
     ]
    }
   ],
   "source": [
    "mae = metrics.mean_absolute_error(Y_test, test_data_prediction4)\n",
    "print(\"Mean Absolute Error = \", mae)"
   ]
  },
  {
   "cell_type": "markdown",
   "metadata": {
    "id": "5LDHsGw77Gma"
   },
   "source": [
    "## 5. Gradient Boosting Regression"
   ]
  },
  {
   "cell_type": "markdown",
   "metadata": {
    "id": "2qQQ4EI2-ShS"
   },
   "source": [
    "Gradient boosting is a type of machine learning boosting. It relies on the intuition that the best possible next model, when combined with previous models, minimizes the overall prediction error. The key idea is to set the target outcomes for this next model in order to minimize the error. How are the targets calculated? The target outcome for each case in the data depends on how much changing that case's prediction impacts the overall prediction error"
   ]
  },
  {
   "cell_type": "code",
   "execution_count": 36,
   "metadata": {
    "colab": {
     "base_uri": "https://localhost:8080/"
    },
    "id": "gwhVtyOt7IY8",
    "outputId": "ef11e6bb-f88e-42b5-8c74-400963bd55dd"
   },
   "outputs": [
    {
     "name": "stdout",
     "output_type": "stream",
     "text": [
      "[127.1327758  226.19124002  38.36556999 ... 145.16622941  23.32577361\n",
      "  92.28350552]\n"
     ]
    }
   ],
   "source": [
    "from sklearn.ensemble import GradientBoostingRegressor\n",
    "model5 = GradientBoostingRegressor()\n",
    "model5.fit(X_train,Y_train)\n",
    "test_data_prediction5 = model5.predict(X_test)\n",
    "print(test_data_prediction5)"
   ]
  },
  {
   "cell_type": "code",
   "execution_count": 37,
   "metadata": {
    "colab": {
     "base_uri": "https://localhost:8080/"
    },
    "id": "MNDHOYm673uG",
    "outputId": "141a5836-be5c-4874-c186-b793933b9378"
   },
   "outputs": [
    {
     "name": "stdout",
     "output_type": "stream",
     "text": [
      "Mean Absolute Error =  2.778304266644558\n"
     ]
    }
   ],
   "source": [
    "mae = metrics.mean_absolute_error(Y_test, test_data_prediction5)\n",
    "print(\"Mean Absolute Error = \", mae)"
   ]
  },
  {
   "cell_type": "markdown",
   "metadata": {
    "id": "PJipIX4O_FGi"
   },
   "source": [
    "## Conclusion"
   ]
  },
  {
   "cell_type": "markdown",
   "metadata": {
    "id": "s-U8DFPn_Koq"
   },
   "source": [
    "As we can observe from the mean absolute errors obtained from 5 kinds of regressor models used in order to predict the calories burnt, CatBoost had the least MAE (0.48) . This suggests that, CatBoost worked well in this case.\n",
    "\n",
    "Apart from CatBoost, Random Forest Regressor also performed well, with a MAE of 1.68"
   ]
  }
 ],
 "metadata": {
  "colab": {
   "collapsed_sections": [],
   "name": "Calories Burnt Prediction.ipynb",
   "provenance": []
  },
  "kernelspec": {
   "display_name": "Python 3",
   "language": "python",
   "name": "python3"
  },
  "language_info": {
   "codemirror_mode": {
    "name": "ipython",
    "version": 3
   },
   "file_extension": ".py",
   "mimetype": "text/x-python",
   "name": "python",
   "nbconvert_exporter": "python",
   "pygments_lexer": "ipython3",
   "version": "3.8.8"
  }
 },
 "nbformat": 4,
 "nbformat_minor": 1
}
